{
 "cells": [
  {
   "cell_type": "markdown",
   "metadata": {},
   "source": [
    "Ejercicio 2 diciembre 2017\n",
    "\n",
    "Se define el sistema inercial de coordenadas con su origen en el punto de lanzamiento del misil, eje OY según la horizontal, OZ según la vertical y OX como un triedro a derechas. Se requiere que un misil guiado por persecución pura, intercepte un objetivo que se aleja del punto de lanzamiento con un movimiento rectilíneo uniforme en los planos OYZ. Los vectores iniciales de posición (componentes en metros) y de velocidad (componentes en m/s) del misil y del objetivo son: rM= [0 0 0], vM= [0 vY vX],\n",
    "rT= [0 1000 1000], vT= [0 350 0] respectivamente. Si la capacidad máxima de maniobra del misil es de 150m/s2, se quiere conocer, para que la interceptación se realice a los 6 segundos desde el lanzamiento los valores de:\n",
    "\n",
    "· K relación entre los módulos de los vectores velocidad del misil y del objetivo, vector velocidad del misil y el valor de su módulo.\n",
    "\n",
    "· Valor de la distancia entre misil y el objetivo cuando δT= δT1.\n",
    "\n",
    "· Valor máximo de la aceleración requerida en dicho punto δT1."
   ]
  },
  {
   "cell_type": "code",
   "execution_count": 1,
   "metadata": {},
   "outputs": [],
   "source": [
    "#primero importamos\n",
    "import numpy as np\n",
    "#importar numpy para calculo numérico\n",
    "from sympy import *\n",
    "#importar sympy para calculo simbolico\n",
    "init_printing(use_latex=True)\n",
    "from scipy import optimize\n",
    "import math\n",
    "import matplotlib.pyplot as plt"
   ]
  },
  {
   "cell_type": "code",
   "execution_count": 7,
   "metadata": {},
   "outputs": [],
   "source": [
    "rm=np.array([0,0,0])\n",
    "rt=np.array([0,1000,1000])\n",
    "vt=np.array([0,350,0])\n",
    "Γmmax=150\n",
    "tf=6"
   ]
  },
  {
   "cell_type": "code",
   "execution_count": 8,
   "metadata": {},
   "outputs": [
    {
     "name": "stdout",
     "output_type": "stream",
     "text": [
      "559.124540026882\n",
      "1.59749868579109\n",
      "δt1= 0.645582650261650 rad\n",
      "δt0= 0.785398163397448 rad\n",
      "δt0>δt1 por lo que la aceleración máxima es en δt1\n",
      "1181.22510975285\n",
      "99.6776764086148\n"
     ]
    }
   ],
   "source": [
    "r0=np.linalg.norm(rt)\n",
    "Vt=np.linalg.norm(vt)\n",
    "δt0=pi/2-atan(rt[2]/rt[1])\n",
    "\n",
    "Vm=symbols(\"Vm\")\n",
    "K=Vm/Vt\n",
    "\n",
    "\n",
    "r=0\n",
    "δt=0\n",
    "f1=Eq((r0*(cos(δt0)+K))/(K*Vm-Vt),tf)\n",
    "Vm=solve(f1,Vm)\n",
    "Vm=Vm[1]\n",
    "print(Vm)\n",
    "\n",
    "K=Vm/Vt\n",
    "print(K)\n",
    "δt1=acos(K/2)\n",
    "print(\"δt1=\",δt1,\"rad\")\n",
    "print(\"δt0=\",δt0.evalf(),\"rad\")\n",
    "print(\"δt0>δt1 por lo que la aceleración máxima es en δt1\")\n",
    "r1=(((tan(δt1/2))/(tan(δt0/2)))**K)*(sin(δt0)/sin(δt1))*r0\n",
    "print(r1.evalf())\n",
    "Γmmax=Vt*Vm*sin(δt1)/r1\n",
    "print(Γmmax.evalf())"
   ]
  },
  {
   "cell_type": "code",
   "execution_count": 5,
   "metadata": {},
   "outputs": [
    {
     "data": {
      "image/png": "[encoded data removed]",
      "text/latex": [
       "$$\\frac{1}{2 tf} \\left(r_{0} + \\sqrt{4 Vt^{2} tf^{2} + 4 Vt r_{0} tf \\cos{\\left (δt0 \\right )} + r_{0}^{2}}\\right)$$"
      ],
      "text/plain": [
       "        _______________________________________\n",
       "       ╱     2   2                           2 \n",
       "r₀ + ╲╱  4⋅Vt ⋅tf  + 4⋅Vt⋅r₀⋅tf⋅cos(δt0) + r₀  \n",
       "───────────────────────────────────────────────\n",
       "                      2⋅tf                     "
      ]
     },
     "execution_count": 5,
     "metadata": {},
     "output_type": "execute_result"
    }
   ],
   "source": [
    "Vm=symbols(\"Vm\")\n",
    "Vt=symbols(\"Vt\")\n",
    "r0=symbols(\"r0\")\n",
    "δt0=symbols(\"δt0\")\n",
    "tf=symbols(\"tf\")\n",
    "K=Vm/Vt\n",
    "f1=Eq((r0*(cos(δt0)+K))/(K*Vm-Vt),tf)\n",
    "Vm=solve(f1,Vm)\n",
    "Vm[1]"
   ]
  },
  {
   "cell_type": "code",
   "execution_count": null,
   "metadata": {},
   "outputs": [],
   "source": []
  },
  {
   "cell_type": "code",
   "execution_count": null,
   "metadata": {},
   "outputs": [],
   "source": []
  }
 ],
 "metadata": {
  "kernelspec": {
   "display_name": "Python 3",
   "language": "python",
   "name": "python3"
  },
  "language_info": {
   "codemirror_mode": {
    "name": "ipython",
    "version": 3
   },
   "file_extension": ".py",
   "mimetype": "text/x-python",
   "name": "python",
   "nbconvert_exporter": "python",
   "pygments_lexer": "ipython3",
   "version": "3.6.4"
  }
 },
 "nbformat": 4,
 "nbformat_minor": 2
}
