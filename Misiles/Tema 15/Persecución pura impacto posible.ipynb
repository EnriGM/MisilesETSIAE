{
 "cells": [
  {
   "cell_type": "markdown",
   "metadata": {},
   "source": [
    "Persecución Pura (PP), ejercicio 3 2º parcial 2013\n",
    "\n",
    "Un misil guiado por PP es lanzado con una velocidad de 950m/s desde 2000 metros del objetivo de interceptación, el cual describe un movimiento rectilíneo y uniforme con velocidad de 500m/s. Si la capacidad de maniobra del misil está limitada a 170 m/s y el ángulo de presentación de combate δT, es de 40°, obténgase el tiempo de vuelo hasta el impacto."
   ]
  },
  {
   "cell_type": "code",
   "execution_count": 7,
   "metadata": {},
   "outputs": [],
   "source": [
    "#primero importamos\n",
    "import numpy as np\n",
    "#importar numpy para calculo numérico\n",
    "from sympy import *\n",
    "#importar sympy para calculo simbolico\n",
    "init_printing(use_latex=True)\n",
    "from scipy import optimize\n",
    "import math\n",
    "import matplotlib.pyplot as plt"
   ]
  },
  {
   "cell_type": "code",
   "execution_count": 8,
   "metadata": {},
   "outputs": [],
   "source": [
    "#velocidad misil, m/s\n",
    "Vm=950\n",
    "\n",
    "#velocidad del objetivo (target) m/s\n",
    "Vt=500\n",
    "\n",
    "r0=2000\n",
    "\n",
    "Γmmax=170\n",
    "\n",
    "δt0=rad(40)"
   ]
  },
  {
   "cell_type": "code",
   "execution_count": 9,
   "metadata": {},
   "outputs": [
    {
     "name": "stdout",
     "output_type": "stream",
     "text": [
      "K= 1.9\n",
      "δt1= 18.19487 º\n",
      "δt0>δt1\n",
      "aceleración máxima requerida Γmmax= 171.449909088958 m/s^2\n",
      "es mayor que la aceleración máxima posible por lo que no puede haber impacto\n"
     ]
    }
   ],
   "source": [
    "#K relación de velocidades (adim)\n",
    "K=Vm/Vt \n",
    "print('K=',K) #Condición necesaria K>1\n",
    "# 1<K<2 la aceleración (Γ) es máxima en δt1\n",
    "\n",
    "# δt1 angulo de aceleración máxima\n",
    "δt1=acos(K/2)\n",
    "print(\"δt1=\",deg(δt1).evalf(7),\"º\")\n",
    "\n",
    "# Si δt0 >=δt1 la aceleración es máxima en δT1\n",
    "#δt0>δt1\n",
    "print(\"δt0>δt1\")\n",
    "\n",
    "#a partir de r0 sacamos r1\n",
    "r1=(((tan(δt1/2))/(tan(δt0/2)))**K)*(sin(δt0)/sin(δt1))*r0\n",
    "\n",
    "#aceleración máxima es la misma que la de δt1\n",
    "Γmmax=Vt*Vm*sin(δt1)/r1\n",
    "\n",
    "print(\"aceleración máxima requerida Γmmax=\",Γmmax.evalf(),\"m/s^2\")\n",
    "print(\"es mayor que la aceleración máxima posible por lo que no puede haber impacto\")\n"
   ]
  },
  {
   "cell_type": "code",
   "execution_count": null,
   "metadata": {},
   "outputs": [],
   "source": []
  },
  {
   "cell_type": "code",
   "execution_count": null,
   "metadata": {},
   "outputs": [],
   "source": []
  },
  {
   "cell_type": "code",
   "execution_count": null,
   "metadata": {},
   "outputs": [],
   "source": []
  }
 ],
 "metadata": {
  "kernelspec": {
   "display_name": "Python 3",
   "language": "python",
   "name": "python3"
  },
  "language_info": {
   "codemirror_mode": {
    "name": "ipython",
    "version": 3
   },
   "file_extension": ".py",
   "mimetype": "text/x-python",
   "name": "python",
   "nbconvert_exporter": "python",
   "pygments_lexer": "ipython3",
   "version": "3.6.4"
  }
 },
 "nbformat": 4,
 "nbformat_minor": 2
}
