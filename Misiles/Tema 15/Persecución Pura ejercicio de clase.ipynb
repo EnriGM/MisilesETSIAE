{
 "cells": [
  {
   "cell_type": "markdown",
   "metadata": {},
   "source": [
    "Persecución Puro (PP), ejercicio de clase tema 15 curso 2016\n",
    "\n",
    "Apartado A\n",
    "\n",
    "Un misil, guiado mediante la ley de persecución pura, se lanza, con 550m/s de velocidad constante y a 1000 m de distancia de un avión, el cual se aleja de este punto de lanzamiento, con movimiento rectilíneo y uniforme de velocidad 300m/s.\n",
    "Si el ángulo de confrontación inicial δTo es de 20o, determínese, para conseguir el impacto en dicho avión, los segundos transcurridos desde el lanzamiento hasta el instante en el cual se requiere la aceleración máxima de maniobra y el valor de dicha aceleración."
   ]
  },
  {
   "cell_type": "code",
   "execution_count": 50,
   "metadata": {},
   "outputs": [],
   "source": [
    "#primero importamos\n",
    "import numpy as np\n",
    "#importar numpy para calculo numérico\n",
    "from sympy import *\n",
    "#importar sympy para calculo simbolico\n",
    "init_printing(use_latex=True)\n",
    "from scipy import optimize\n",
    "import math\n",
    "import matplotlib.pyplot as plt"
   ]
  },
  {
   "cell_type": "code",
   "execution_count": 51,
   "metadata": {},
   "outputs": [],
   "source": [
    "#velocidad misil, m/s\n",
    "Vm=550\n",
    "#velocidad del objetivo (target) m/s\n",
    "Vt=300\n",
    "#ángulo de confrontación inicial, grados\n",
    "δt0=20\n",
    "t0=0\n",
    "r0=1000"
   ]
  },
  {
   "cell_type": "code",
   "execution_count": 52,
   "metadata": {},
   "outputs": [
    {
     "name": "stdout",
     "output_type": "stream",
     "text": [
      "K= 1.8333333333333333\n"
     ]
    }
   ],
   "source": [
    "#Apartado A\n",
    "\n",
    "\n",
    "#K relación de velocidades (adim)\n",
    "K=Vm/Vt \n",
    "print('K=',K) #Condición necesaria K>1"
   ]
  },
  {
   "cell_type": "code",
   "execution_count": 53,
   "metadata": {},
   "outputs": [
    {
     "data": {
      "image/png": "[encoded data removed]",
      "text/latex": [
       "$$23.5564643091012$$"
      ],
      "text/plain": [
       "23.5564643091012"
      ]
     },
     "execution_count": 53,
     "metadata": {},
     "output_type": "execute_result"
    }
   ],
   "source": [
    "# 1<K<2 la aceleración (Γ) es máxima en δt1\n",
    "# Si δt0 ≤δt1 la aceleración es máxima en δTo\n",
    "# δt1 angulo de aceleración máxima\n",
    "δt1=acos(K/2)\n",
    "deg(δt1).evalf()"
   ]
  },
  {
   "cell_type": "code",
   "execution_count": 54,
   "metadata": {},
   "outputs": [
    {
     "data": {
      "image/png": "[encoded data removed]",
      "text/latex": [
       "$$56.4333236487353$$"
      ],
      "text/plain": [
       "56.4333236487353"
      ]
     },
     "execution_count": 54,
     "metadata": {},
     "output_type": "execute_result"
    }
   ],
   "source": [
    "#δt0<δt1\n",
    "δt0=rad(δt0) #trabajaremos con radianes\n",
    "#aceleración máxima es la misma que la inicial\n",
    "Γm0=Vt*Vm*sin(δt0)/r0\n",
    "Γm0.evalf()"
   ]
  },
  {
   "cell_type": "markdown",
   "metadata": {},
   "source": [
    "Apartado B\n",
    "\n",
    "Calcúlese el tiempo de vuelo del misil y la distancia relativa entre ambos móviles para los valores de δT 20o,16o, 10o, 6o, 2o y 0o, así como los valores de la aceleración requerida en cada instante.\n",
    "\n",
    "Apartado C\n",
    "\n",
    "Represéntese las trayectorias de los dos móviles con los puntos anteriores, tomando como sistema de coordenadas, el formado por OXY, siendo O el punto en donde se encuentra el avión en el instante inicial del combate, eje OX según la trayectoria del mismo en sentido de avance, y OY eje perpendicular al anterior a derechas."
   ]
  },
  {
   "cell_type": "code",
   "execution_count": 72,
   "metadata": {},
   "outputs": [
    {
     "name": "stdout",
     "output_type": "stream",
     "text": [
      "\n",
      "δt= 20 º\n",
      "r= 1000.00000000000 m t= 0 s Γm= 56.4333236487353 m/s**2\n",
      "xm= -939.692620785908 m ym= -342.020143325669 m\n",
      "xt= 0 m yt= 0 m\n",
      "\n",
      "δt= 16 º\n",
      "r= 818.654207764477 m t= 0.685015022694089 s Γm= 55.5547913617874 m/s**2\n",
      "xm= -581.436425334495 m ym= -225.651681156661 m\n",
      "xt= 205.504506808227 m yt= 0 m\n",
      "\n",
      "δt= 10 º\n",
      "r= 544.973404554497 m t= 1.74665507545214 s Γm= 52.5749496683527 m/s**2\n",
      "xm= -12.6975113550841 m ym= -94.6336385778313 m\n",
      "xt= 523.996522635643 m yt= 0 m\n",
      "\n",
      "δt= 6 º\n",
      "r= 353.827508206901 m t= 2.50228656702762 s Γm= 48.7446454532798 m/s**2\n",
      "xm= 398.796766012926 m ym= -36.9850456946904 m\n",
      "xt= 750.685970108286 m yt= 0 m\n",
      "\n",
      "δt= 2 º\n",
      "r= 141.200900463347 m t= 3.35017800270099 s Γm= 40.7817296987241 m/s**2\n",
      "xm= 863.938516120391 m ym= -4.92784036011075 m\n",
      "xt= 1005.05340081030 m yt= 0 m\n",
      "\n",
      "δt= 0 º\n",
      "r= 0 m t= 3.91486017052128 s Γm= nan m/s**2\n",
      "xm= 1174.45805115638 m ym= 0 m\n",
      "xt= 1174.45805115638 m yt= 0 m\n"
     ]
    },
    {
     "data": {
      "text/plain": [
       "Text(0,0.5,'y')"
      ]
     },
     "execution_count": 72,
     "metadata": {},
     "output_type": "execute_result"
    },
    {
     "data": {
      "image/png": "[encoded data removed]",
      "text/plain": [
       "<matplotlib.figure.Figure at 0x1523813d68>"
      ]
     },
     "metadata": {},
     "output_type": "display_data"
    }
   ],
   "source": [
    "#creo listas vacías para ir guardando resultados para plot\n",
    "xtplot=[]\n",
    "ytplot=[]\n",
    "xmplot=[]\n",
    "ymplot=[]\n",
    "#Si 0<|δT0|<π/2 (bucle para meter de delta en delta)\n",
    "for δt in (20,16,10,6,2,0):\n",
    "    δt=rad(δt)\n",
    "    r=r0*(((1+cos(δt0))**K)*((sin(δt))**(K-1))/((sin(δt0)**(K-1))*((1+cos(δt))**K)))\n",
    "    t=(r0*(cos(δt0)+K)-r*(cos(δt)+K))/(K*Vm-Vt)\n",
    "    Γm=Vt*Vm*sin(δt)/r\n",
    "    print()\n",
    "    print('δt=',deg(δt),'º')\n",
    "    print('r=',r.evalf(),'m','t=',t.evalf(),'s','Γm=',Γm.evalf(),'m/s**2')\n",
    "    #para sacar posiciones target y misil\n",
    "    yt=0\n",
    "    xt=Vt*t\n",
    "    ym=-r*sin(δt)\n",
    "    xm=(xt-r*cos(δt))\n",
    "    print('xm=',xm.evalf(),'m','ym=',ym.evalf(),'m')\n",
    "    print('xt=',xt.evalf(),'m','yt=',yt,'m')\n",
    "\n",
    "    #guardo en listas,para luego hacer plot\n",
    "    xtplot.append(xt)\n",
    "    ytplot.append(yt)\n",
    "    xmplot.append(xm)\n",
    "    ymplot.append(ym)\n",
    "    \n",
    "#representación\n",
    "plt.plot(xtplot,ytplot,label=\"Target\",color='green',marker='.')\n",
    "plt.plot(xmplot,ymplot,label=\"Misil\",color='red',marker='.')\n",
    "plt.legend()\n",
    "plt.xlabel(\"x\")\n",
    "plt.ylabel(\"y\")"
   ]
  },
  {
   "cell_type": "markdown",
   "metadata": {},
   "source": [
    "Apartado D\n",
    "\n",
    "Si el misil tuviera limitada su capacidad de maniobra a 4g de aceleración (g = 9,81 m/s**2), determínese la distancia mínima desde la cual es posible efectuar el lanzamiento con δTo = 20o, para garantizar el impacto."
   ]
  },
  {
   "cell_type": "code",
   "execution_count": 76,
   "metadata": {},
   "outputs": [
    {
     "name": "stdout",
     "output_type": "stream",
     "text": [
      "distancia max= 1438.15809502384 m\n"
     ]
    }
   ],
   "source": [
    "g=9.81\n",
    "Γmax=4*g\n",
    "δt0=rad(20)\n",
    "r0=Vt*Vm*sin(δt0)/Γmax\n",
    "print('distancia max=',r0.evalf(),'m')"
   ]
  },
  {
   "cell_type": "markdown",
   "metadata": {},
   "source": [
    "Apartado E\n",
    "\n",
    "Dibújese el límite interior del dominio de tiro de este misil, para los ángulos de confrontación δTo = 0o, 10o, 20o, 40o, 60o y 90o, especificando la distancia mínima de lanzamiento y las aceleraciones de maniobra inicial y máxima requeridas en cada caso."
   ]
  },
  {
   "cell_type": "code",
   "execution_count": 78,
   "metadata": {},
   "outputs": [
    {
     "name": "stdout",
     "output_type": "stream",
     "text": [
      "δt1= 23.5564643091012 º\n"
     ]
    }
   ],
   "source": [
    "δt1\n",
    "print('δt1=',deg(δt1).evalf(),'º')"
   ]
  },
  {
   "cell_type": "code",
   "execution_count": 98,
   "metadata": {},
   "outputs": [
    {
     "name": "stdout",
     "output_type": "stream",
     "text": [
      "[0, -719.079047511918, -1351.42654941742, -2222.51499930005, -2508.70172396120, 0]\n",
      "[0, -126.793037338495, -491.879037785023, -1864.91151619865, -4345.19884693642, -11895.1741805933]\n"
     ]
    },
    {
     "data": {
      "text/plain": [
       "Text(0,0.5,'y')"
      ]
     },
     "execution_count": 98,
     "metadata": {},
     "output_type": "execute_result"
    },
    {
     "data": {
      "image/png": "[encoded data removed]",
      "text/plain": [
       "<matplotlib.figure.Figure at 0x1524809588>"
      ]
     },
     "metadata": {},
     "output_type": "display_data"
    }
   ],
   "source": [
    "rxplot=[]\n",
    "ryplot=[]\n",
    "r0plot=[]\n",
    "r1plot=[]\n",
    "\n",
    "for δt0 in [rad(0),rad(10),rad(20),rad(40),rad(60),rad(90)]:\n",
    "    if δt0 <= δt1: #si la aceleración máxima está en el inicio\n",
    "        r0=Vt*Vm*sin(δt0)/Γmax\n",
    "    else: #si la aceleracion máxima está tras el inicio\n",
    "        r1=Vt*Vm*sin(δt1)/Γmax\n",
    "        r0=(((tan(δt0/2))/(tan(δt1/2)))**K)*(sin(δt1)/sin(δt0))*r1\n",
    "        Γm=Vt*Vm*sin(δt)/r0\n",
    "    rx=-r0*cos(δt0)\n",
    "    ry=-r0*sin(δt0)\n",
    "    rxplot.append(rx.evalf())\n",
    "    ryplot.append(ry.evalf())\n",
    "    \n",
    "\n",
    "print(rxplot)\n",
    "print(ryplot)\n",
    "\n",
    "plt.plot(rxplot,ryplot,color='green',marker='o')\n",
    "plt.xlabel(\"x\")\n",
    "plt.ylabel(\"y\")"
   ]
  },
  {
   "cell_type": "code",
   "execution_count": null,
   "metadata": {},
   "outputs": [],
   "source": []
  },
  {
   "cell_type": "code",
   "execution_count": null,
   "metadata": {},
   "outputs": [],
   "source": []
  }
 ],
 "metadata": {
  "kernelspec": {
   "display_name": "Python 3",
   "language": "python",
   "name": "python3"
  },
  "language_info": {
   "codemirror_mode": {
    "name": "ipython",
    "version": 3
   },
   "file_extension": ".py",
   "mimetype": "text/x-python",
   "name": "python",
   "nbconvert_exporter": "python",
   "pygments_lexer": "ipython3",
   "version": "3.6.4"
  }
 },
 "nbformat": 4,
 "nbformat_minor": 2
}
