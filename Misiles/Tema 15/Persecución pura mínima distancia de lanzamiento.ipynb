{
 "cells": [
  {
   "cell_type": "markdown",
   "metadata": {},
   "source": [
    "Persecución Pura (PP), ejercicio 4 2º parcial 2013\n",
    "\n",
    "Un misil guiado por PP es lanzado con una velocidad de 950m/s desde 2000 metros del objetivo de interceptación, el cual describe un movimiento rectilíneo y uniforme con velocidad de 500m/s.\n",
    "\n",
    "\n",
    "Si en el caso anterior se limitara la capacidad de maniobra máxima del misil a 100m/s2, determínese la mínima distancia de lanzamiento para que el impacto fuera posible con lanzamiento de δT0 15° y 40°."
   ]
  },
  {
   "cell_type": "code",
   "execution_count": 8,
   "metadata": {},
   "outputs": [],
   "source": [
    "#primero importamos\n",
    "import numpy as np\n",
    "#importar numpy para calculo numérico\n",
    "from sympy import *\n",
    "#importar sympy para calculo simbolico\n",
    "init_printing(use_latex=True)\n",
    "from scipy import optimize\n",
    "import math\n",
    "import matplotlib.pyplot as plt"
   ]
  },
  {
   "cell_type": "code",
   "execution_count": 14,
   "metadata": {},
   "outputs": [],
   "source": [
    "#velocidad misil, m/s\n",
    "Vm=950\n",
    "\n",
    "#velocidad del objetivo (target) m/s\n",
    "Vt=500\n",
    "\n",
    "r0=2000\n",
    "\n",
    "Γmmax=100"
   ]
  },
  {
   "cell_type": "code",
   "execution_count": 15,
   "metadata": {},
   "outputs": [
    {
     "name": "stdout",
     "output_type": "stream",
     "text": [
      "K= 1.9\n",
      "δt1= 18.19487 º\n"
     ]
    }
   ],
   "source": [
    "#K relación de velocidades (adim)\n",
    "K=Vm/Vt \n",
    "print('K=',K) #Condición necesaria K>1\n",
    "# 1<K<2 la aceleración (Γ) es máxima en δt1\n",
    "\n",
    "# δt1 angulo de aceleración máxima\n",
    "δt1=acos(K/2)\n",
    "print(\"δt1=\",deg(δt1).evalf(7),\"º\")"
   ]
  },
  {
   "cell_type": "code",
   "execution_count": 11,
   "metadata": {},
   "outputs": [
    {
     "name": "stdout",
     "output_type": "stream",
     "text": [
      "para δt0=15º\n",
      "δt0<δt1\n",
      "mínima distancia de lanzamiento r0= 1229.390 m\n"
     ]
    }
   ],
   "source": [
    "#para δt0=15º\n",
    "\n",
    "print(\"para δt0=15º\")\n",
    "δt0=rad(15)\n",
    "\n",
    "# Si δt0 ≤δt1 la aceleración es máxima en δTo\n",
    "#δt0<δt1\n",
    "print(\"δt0<δt1\")\n",
    "#aceleración máxima es la misma que la inicial\n",
    "#mínima distancia de lanzamiento\n",
    "r0=Vt*Vm*sin(δt0)/Γmmax\n",
    "print(\"mínima distancia de lanzamiento r0=\",r0.evalf(7),\"m\")"
   ]
  },
  {
   "cell_type": "code",
   "execution_count": 12,
   "metadata": {},
   "outputs": [
    {
     "name": "stdout",
     "output_type": "stream",
     "text": [
      "para δt0=40º\n",
      "δt0>δt1\n",
      "mínima distancia de lanzamiento r0= 3428.998 m\n"
     ]
    }
   ],
   "source": [
    "#para δt0=40º\n",
    "\n",
    "print(\"para δt0=40º\")\n",
    "δt0=rad(40)\n",
    "\n",
    "# Si δt0 >=δt1 la aceleración es máxima en δT1\n",
    "#δt0>δt1\n",
    "print(\"δt0>δt1\")\n",
    "\n",
    "#aceleración máxima es la misma que la de δt1\n",
    "r1=Vt*Vm*sin(δt1)/Γmmax\n",
    "\n",
    "#a partir de r1 sacamos r0\n",
    "r0=(((tan(δt0/2))/(tan(δt1/2)))**K)*(sin(δt1)/sin(δt0))*r1\n",
    "print(\"mínima distancia de lanzamiento r0=\",r0.evalf(7),\"m\")"
   ]
  },
  {
   "cell_type": "code",
   "execution_count": null,
   "metadata": {},
   "outputs": [],
   "source": []
  }
 ],
 "metadata": {
  "kernelspec": {
   "display_name": "Python 3",
   "language": "python",
   "name": "python3"
  },
  "language_info": {
   "codemirror_mode": {
    "name": "ipython",
    "version": 3
   },
   "file_extension": ".py",
   "mimetype": "text/x-python",
   "name": "python",
   "nbconvert_exporter": "python",
   "pygments_lexer": "ipython3",
   "version": "3.6.4"
  }
 },
 "nbformat": 4,
 "nbformat_minor": 2
}
