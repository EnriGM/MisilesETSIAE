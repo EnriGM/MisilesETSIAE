{
 "cells": [
  {
   "cell_type": "markdown",
   "metadata": {},
   "source": [
    "Persecución Pura (PP), ejercicio 7 enero 2017\n",
    "\n",
    "Un misil guiado por persecución pura se lanza con velocidad constante de 675 m/s a 1.000 m de distancia del objetivo, el cual se desplaza con movimiento rectilíneo y uniforme de velocidad 425 m/s. Siendo el ángulo de confrontación inicial δT0 de 25º, determínese el valor del tiempo transcurrido desde el lanzamiento hasta el instante en el que se produce la aceleración de maniobra máxima, el valor de esta aceleración, el tiempo total hasta el impacto y la distancia recorrida por el objetivo desde el instante de lanzamiento hasta el impacto.\n"
   ]
  },
  {
   "cell_type": "code",
   "execution_count": 2,
   "metadata": {},
   "outputs": [],
   "source": [
    "#primero importamos\n",
    "import numpy as np\n",
    "#importar numpy para calculo numérico\n",
    "from sympy import *\n",
    "#importar sympy para calculo simbolico\n",
    "init_printing(use_latex=True)\n",
    "from scipy import optimize\n",
    "import math\n",
    "import matplotlib.pyplot as plt"
   ]
  },
  {
   "cell_type": "code",
   "execution_count": 4,
   "metadata": {},
   "outputs": [],
   "source": [
    "#velocidad misil, m/s\n",
    "Vm=675\n",
    "\n",
    "#velocidad del objetivo (target) m/s\n",
    "Vt=425\n",
    "\n",
    "r0=1000\n",
    "\n",
    "δt0=rad(25)\n",
    "g=9.81"
   ]
  },
  {
   "cell_type": "code",
   "execution_count": 17,
   "metadata": {},
   "outputs": [
    {
     "name": "stdout",
     "output_type": "stream",
     "text": [
      "K= 1.588235294117647\n",
      "δt1= 37.42801 º\n",
      "δt0<δt1\n",
      "aceleración máxima requerida es la inicial Γmmax= 121.238613836863 m/s^2\n",
      "tiempo para impacto tf= 3.8552 s\n",
      "distancia recorrida por el objetivo rtf= 1638.46125103089 m\n"
     ]
    }
   ],
   "source": [
    "#K relación de velocidades (adim)\n",
    "K=Vm/Vt \n",
    "print('K=',K) #Condición necesaria K>1\n",
    "# 1<K<2 la aceleración (Γ) es máxima en δt1\n",
    "\n",
    "# δt1 angulo de aceleración máxima\n",
    "δt1=acos(K/2)\n",
    "print(\"δt1=\",deg(δt1).evalf(7),\"º\")\n",
    "\n",
    "# Si δt0 <δt1 la aceleración es máxima en δt0\n",
    "#δt0<δt1\n",
    "print(\"δt0<δt1\")\n",
    "\n",
    "#a partir de r1 sacamos r0\n",
    "#r1=(((tan(δt1/2))/(tan(δt0/2)))**K)*(sin(δt0)/sin(δt1))*r0\n",
    "\n",
    "#aceleración máxima es la misma que la de δt1\n",
    "Γmmax=Vt*Vm*sin(δt0)/r0\n",
    "\n",
    "print(\"aceleración máxima requerida es la inicial Γmmax=\",Γmmax.evalf(),\"m/s^2\")\n",
    "\n",
    "#en el impacto r=0 δt=0\n",
    "r=0\n",
    "δt=0\n",
    "tf=(r0*(cos(δt0)+K)-r*(cos(δt)+K))/(K*Vm-Vt)\n",
    "print(\"tiempo para impacto tf=\",tf.evalf(5),\"s\")\n",
    "\n",
    "#distancia recorrida por el objetivo\n",
    "rtf=Vt*tf\n",
    "print(\"distancia recorrida por el objetivo rtf=\",rtf.evalf(),\"m\")"
   ]
  },
  {
   "cell_type": "code",
   "execution_count": null,
   "metadata": {},
   "outputs": [],
   "source": []
  },
  {
   "cell_type": "code",
   "execution_count": null,
   "metadata": {},
   "outputs": [],
   "source": []
  },
  {
   "cell_type": "code",
   "execution_count": null,
   "metadata": {},
   "outputs": [],
   "source": []
  }
 ],
 "metadata": {
  "kernelspec": {
   "display_name": "Python 3",
   "language": "python",
   "name": "python3"
  },
  "language_info": {
   "codemirror_mode": {
    "name": "ipython",
    "version": 3
   },
   "file_extension": ".py",
   "mimetype": "text/x-python",
   "name": "python",
   "nbconvert_exporter": "python",
   "pygments_lexer": "ipython3",
   "version": "3.6.4"
  }
 },
 "nbformat": 4,
 "nbformat_minor": 2
}
