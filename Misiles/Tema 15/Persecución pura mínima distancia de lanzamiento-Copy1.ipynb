{
 "cells": [
  {
   "cell_type": "markdown",
   "metadata": {},
   "source": [
    "Persecución Pura (PP), ejercicio 5 2º parcial 2015\n",
    "\n",
    "Un misil guiado por persecución pura con velocidad constante de 900m/s, para impactar un objetivo que describe un movimiento rectilinio y uniforme con velocidad de 650 m/s. Si el ángulo inicial de confrontación del combate δt0 es de 50º y la capacidad de maniobra máxima del misil es de 15g (g=9.81), determínese la mínima distancia de lanzamiento para que el impacto fuera posible, en los casos donde el ángulo de confrontación inicial δt0 es de 30º y 50º."
   ]
  },
  {
   "cell_type": "code",
   "execution_count": 1,
   "metadata": {},
   "outputs": [],
   "source": [
    "#primero importamos\n",
    "import numpy as np\n",
    "#importar numpy para calculo numérico\n",
    "from sympy import *\n",
    "#importar sympy para calculo simbolico\n",
    "init_printing(use_latex=True)\n",
    "from scipy import optimize\n",
    "import math\n",
    "import matplotlib.pyplot as plt"
   ]
  },
  {
   "cell_type": "code",
   "execution_count": 7,
   "metadata": {},
   "outputs": [
    {
     "name": "stdout",
     "output_type": "stream",
     "text": [
      "aceleración máxima posible Γmmax= 147.15 m/s^2\n"
     ]
    }
   ],
   "source": [
    "#velocidad misil, m/s\n",
    "Vm=900\n",
    "\n",
    "#velocidad del objetivo (target) m/s\n",
    "Vt=650\n",
    "\n",
    "\n",
    "\n",
    "δt0=rad(50)\n",
    "g=9.81\n",
    "nmax=15\n",
    "Γmmax=nmax*9.81\n",
    "\n",
    "#aceleración máxima posible\n",
    "print(\"aceleración máxima posible Γmmax=\",Γmmax,\"m/s^2\")"
   ]
  },
  {
   "cell_type": "code",
   "execution_count": 9,
   "metadata": {},
   "outputs": [
    {
     "name": "stdout",
     "output_type": "stream",
     "text": [
      "K= 1.3846153846153846\n",
      "δt1= 46.18694 º\n",
      "\n",
      "para δt0=30º\n",
      "δt0<δt1\n",
      "mínima distancia de lanzamiento r0= 1987.768 m\n",
      "\n",
      "para δt0=50º\n",
      "δt0>δt1\n",
      "mínima distancia de lanzamiento r0= 3058.689 m\n"
     ]
    }
   ],
   "source": [
    "#K relación de velocidades (adim)\n",
    "K=Vm/Vt \n",
    "print('K=',K) #Condición necesaria K>1\n",
    "# 1<K<2 la aceleración (Γ) es máxima en δt1\n",
    "\n",
    "# δt1 angulo de aceleración máxima\n",
    "δt1=acos(K/2)\n",
    "print(\"δt1=\",deg(δt1).evalf(7),\"º\")\n",
    "print()\n",
    "#para δt0=15º\n",
    "\n",
    "print(\"para δt0=30º\")\n",
    "δt0=rad(30)\n",
    "\n",
    "# Si δt0 ≤δt1 la aceleración es máxima en δTo\n",
    "#δt0<δt1\n",
    "print(\"δt0<δt1\")\n",
    "#aceleración máxima es la misma que la inicial\n",
    "#mínima distancia de lanzamiento\n",
    "r0=Vt*Vm*sin(δt0)/Γmmax\n",
    "print(\"mínima distancia de lanzamiento r0=\",r0.evalf(7),\"m\")\n",
    "print()\n",
    "#para δt0=50º\n",
    "\n",
    "print(\"para δt0=50º\")\n",
    "δt0=rad(50)\n",
    "\n",
    "# Si δt0 >=δt1 la aceleración es máxima en δT1\n",
    "#δt0>δt1\n",
    "print(\"δt0>δt1\")\n",
    "\n",
    "#aceleración máxima es la misma que la de δt1\n",
    "r1=Vt*Vm*sin(δt1)/Γmmax\n",
    "\n",
    "#a partir de r1 sacamos r0\n",
    "r0=(((tan(δt0/2))/(tan(δt1/2)))**K)*(sin(δt1)/sin(δt0))*r1\n",
    "print(\"mínima distancia de lanzamiento r0=\",r0.evalf(7),\"m\")"
   ]
  },
  {
   "cell_type": "code",
   "execution_count": null,
   "metadata": {},
   "outputs": [],
   "source": []
  },
  {
   "cell_type": "code",
   "execution_count": null,
   "metadata": {},
   "outputs": [],
   "source": []
  },
  {
   "cell_type": "code",
   "execution_count": null,
   "metadata": {},
   "outputs": [],
   "source": []
  }
 ],
 "metadata": {
  "kernelspec": {
   "display_name": "Python 3",
   "language": "python",
   "name": "python3"
  },
  "language_info": {
   "codemirror_mode": {
    "name": "ipython",
    "version": 3
   },
   "file_extension": ".py",
   "mimetype": "text/x-python",
   "name": "python",
   "nbconvert_exporter": "python",
   "pygments_lexer": "ipython3",
   "version": "3.6.4"
  }
 },
 "nbformat": 4,
 "nbformat_minor": 2
}
