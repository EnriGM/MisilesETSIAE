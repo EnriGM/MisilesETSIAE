{
 "cells": [
  {
   "cell_type": "markdown",
   "metadata": {},
   "source": [
    "Persecución Pura (PP), ejercicio 4 2º parcial 2014\n",
    "\n",
    "Un misil guiado por persecución pura es lanzado, con una velocidad constante de 700 m/s desde 1km de distanci, a un objetivo que se aleja del punto de lanzamiento con movimiento rectilineo y uniforme de velocidad de 400 m/s. Si la capacidad de maniobra del misil está limitada a 110m/s^2 y el ángulo de presentación del combate δt0 es de 20º, obténgase el tiempo de vuelo desde el lanzamiento hasta el impacto si éste fuera posible."
   ]
  },
  {
   "cell_type": "code",
   "execution_count": 2,
   "metadata": {},
   "outputs": [],
   "source": [
    "#primero importamos\n",
    "import numpy as np\n",
    "#importar numpy para calculo numérico\n",
    "from sympy import *\n",
    "#importar sympy para calculo simbolico\n",
    "init_printing(use_latex=True)\n",
    "from scipy import optimize\n",
    "import math\n",
    "import matplotlib.pyplot as plt"
   ]
  },
  {
   "cell_type": "code",
   "execution_count": 7,
   "metadata": {},
   "outputs": [],
   "source": [
    "#velocidad misil, m/s\n",
    "Vm=700\n",
    "#velocidad del objetivo (target) m/s\n",
    "Vt=400\n",
    "#ángulo de confrontación inicial, grados\n",
    "δt0=rad(20)  #trabajaremos con radianes\n",
    "t0=0\n",
    "r0=1000\n",
    "Γmmax=110"
   ]
  },
  {
   "cell_type": "code",
   "execution_count": 8,
   "metadata": {},
   "outputs": [
    {
     "name": "stdout",
     "output_type": "stream",
     "text": [
      "K= 1.75\n"
     ]
    }
   ],
   "source": [
    "#K relación de velocidades (adim)\n",
    "K=Vm/Vt \n",
    "print('K=',K) #Condición necesaria K>1"
   ]
  },
  {
   "cell_type": "code",
   "execution_count": 23,
   "metadata": {},
   "outputs": [
    {
     "name": "stdout",
     "output_type": "stream",
     "text": [
      "δt1= 28.95502 º\n",
      "δt0<δt1\n",
      "aceleración máxima es la misma que la inicial Γm0= 95.76564 m/s^2\n",
      "Γm0<Γmmax\n",
      "el impacto es posible\n",
      "tiempo para impacto tf= 3.2602 s\n"
     ]
    }
   ],
   "source": [
    "# 1<K<2 la aceleración (Γ) es máxima en δt1\n",
    "# Si δt0 ≤δt1 la aceleración es máxima en δTo\n",
    "# δt1 angulo de aceleración máxima\n",
    "δt1=acos(K/2)\n",
    "print(\"δt1=\",deg(δt1).evalf(7),\"º\")\n",
    "\n",
    "#δt0<δt1\n",
    "print(\"δt0<δt1\")\n",
    "\n",
    "#aceleración máxima es la misma que la inicial\n",
    "Γm0=Vt*Vm*sin(δt0)/r0\n",
    "print(\"aceleración máxima es la misma que la inicial Γm0=\",Γm0.evalf(7),\"m/s^2\")\n",
    "\n",
    "# si la aceleración max es menor que la aceleración max posible, el impacto es posible\n",
    "print(\"Γm0<Γmmax\")\n",
    "print(\"el impacto es posible\")\n",
    "\n",
    "#en el impacto r=0 δt=0\n",
    "r=0\n",
    "δt=0\n",
    "tf=(r0*(cos(δt0)+K)-r*(cos(δt)+K))/(K*Vm-Vt)\n",
    "print(\"tiempo para impacto tf=\",tf.evalf(5),\"s\")"
   ]
  },
  {
   "cell_type": "code",
   "execution_count": 3,
   "metadata": {},
   "outputs": [
    {
     "data": {
      "image/png": "[encoded data removed]",
      "text/latex": [
       "$$1$$"
      ],
      "text/plain": [
       "1"
      ]
     },
     "execution_count": 3,
     "metadata": {},
     "output_type": "execute_result"
    }
   ],
   "source": [
    "\n"
   ]
  },
  {
   "cell_type": "code",
   "execution_count": null,
   "metadata": {},
   "outputs": [],
   "source": []
  }
 ],
 "metadata": {
  "kernelspec": {
   "display_name": "Python 3",
   "language": "python",
   "name": "python3"
  },
  "language_info": {
   "codemirror_mode": {
    "name": "ipython",
    "version": 3
   },
   "file_extension": ".py",
   "mimetype": "text/x-python",
   "name": "python",
   "nbconvert_exporter": "python",
   "pygments_lexer": "ipython3",
   "version": "3.6.4"
  }
 },
 "nbformat": 4,
 "nbformat_minor": 2
}
