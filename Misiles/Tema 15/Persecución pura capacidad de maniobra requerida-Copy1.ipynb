{
 "cells": [
  {
   "cell_type": "markdown",
   "metadata": {},
   "source": [
    "Persecución Pura (PP), ejercicio 3 diciembre 2017\n",
    "\n",
    "Un avión describe una trayectoria horizontal y rectilínea con velocidad constante de 250 m/s. Un avión interceptador del anterior, lanza un misil guiado por persecución pura, en el plano horizontal de la trayectoria del avión anterior, perpendicularmente a dicha trayectoria y a una distancia de 1000 m. Considerando la velocidad del misil constante de 400 m/s, calcúlese en que instante de vuelo respecto al instante de lanzamiento, se produciría la máxima aceleración de maniobra y el valor de esta aceleración."
   ]
  },
  {
   "cell_type": "code",
   "execution_count": 1,
   "metadata": {},
   "outputs": [],
   "source": [
    "#primero importamos\n",
    "import numpy as np\n",
    "#importar numpy para calculo numérico\n",
    "from sympy import *\n",
    "#importar sympy para calculo simbolico\n",
    "init_printing(use_latex=True)\n",
    "from scipy import optimize\n",
    "import math\n",
    "import matplotlib.pyplot as plt"
   ]
  },
  {
   "cell_type": "code",
   "execution_count": 3,
   "metadata": {},
   "outputs": [],
   "source": [
    "#velocidad misil, m/s\n",
    "Vm=400\n",
    "\n",
    "#velocidad del objetivo (target) m/s\n",
    "Vt=250\n",
    "\n",
    "r0=1000\n",
    "\n",
    "δt0=rad(90)"
   ]
  },
  {
   "cell_type": "code",
   "execution_count": 4,
   "metadata": {},
   "outputs": [
    {
     "name": "stdout",
     "output_type": "stream",
     "text": [
      "K= 1.6\n",
      "δt1= 36.86990 º\n",
      "δt0>δt1\n",
      "t1 2.33407911804517\n",
      "aceleración máxima requerida Γmmax= 208.783660852630 m/s^2\n"
     ]
    }
   ],
   "source": [
    "#K relación de velocidades (adim)\n",
    "K=Vm/Vt \n",
    "print('K=',K) #Condición necesaria K>1\n",
    "# 1<K<2 la aceleración (Γ) es máxima en δt1\n",
    "\n",
    "# δt1 angulo de aceleración máxima\n",
    "δt1=acos(K/2)\n",
    "print(\"δt1=\",deg(δt1).evalf(7),\"º\")\n",
    "\n",
    "# Si δt0 >=δt1 la aceleración es máxima en δT1\n",
    "#δt0>δt1\n",
    "print(\"δt0>δt1\")\n",
    "\n",
    "#a partir de r1 sacamos r0\n",
    "r1=(((tan(δt1/2))/(tan(δt0/2)))**K)*(sin(δt0)/sin(δt1))*r0\n",
    "\n",
    "t1=(r0*(cos(δt0)+K)-r1*(cos(δt1)+K))/(K*Vm-Vt)\n",
    "print(\"t1=\",t1.evalf())\n",
    "#aceleración máxima es la misma que la de δt1\n",
    "Γmmax=Vt*Vm*sin(δt1)/r1\n",
    "\n",
    "print(\"aceleración máxima requerida Γmmax=\",Γmmax.evalf(),\"m/s^2\")\n",
    "\n"
   ]
  },
  {
   "cell_type": "code",
   "execution_count": null,
   "metadata": {},
   "outputs": [],
   "source": []
  },
  {
   "cell_type": "code",
   "execution_count": null,
   "metadata": {},
   "outputs": [],
   "source": []
  },
  {
   "cell_type": "code",
   "execution_count": null,
   "metadata": {},
   "outputs": [],
   "source": []
  }
 ],
 "metadata": {
  "kernelspec": {
   "display_name": "Python 3",
   "language": "python",
   "name": "python3"
  },
  "language_info": {
   "codemirror_mode": {
    "name": "ipython",
    "version": 3
   },
   "file_extension": ".py",
   "mimetype": "text/x-python",
   "name": "python",
   "nbconvert_exporter": "python",
   "pygments_lexer": "ipython3",
   "version": "3.6.4"
  }
 },
 "nbformat": 4,
 "nbformat_minor": 2
}
