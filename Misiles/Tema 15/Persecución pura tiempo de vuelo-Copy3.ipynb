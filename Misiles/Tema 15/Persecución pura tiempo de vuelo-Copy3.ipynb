{
 "cells": [
  {
   "cell_type": "markdown",
   "metadata": {},
   "source": [
    "Persecución Pura (PP), ejercicio 5 2º parcial 2015\n",
    "\n",
    "Un misil guiado por persecución pura, se lanza desde 4000m de distancia, con velocidad constante de 900m/s, para impactar un objetivo que describe un movimiento rectilinio y uniforme con velocidad de 650 m/s. Si el ángulo inicial de confrontación del combate δt0 es de 50º y la capacidad de maniobra máxima del misil es de 15g (g=9.81), determínese el tiempo de vuelo empleado por el misil en obtener el impacto."
   ]
  },
  {
   "cell_type": "code",
   "execution_count": 2,
   "metadata": {},
   "outputs": [],
   "source": [
    "#primero importamos\n",
    "import numpy as np\n",
    "#importar numpy para calculo numérico\n",
    "from sympy import *\n",
    "#importar sympy para calculo simbolico\n",
    "init_printing(use_latex=True)\n",
    "from scipy import optimize\n",
    "import math\n",
    "import matplotlib.pyplot as plt"
   ]
  },
  {
   "cell_type": "code",
   "execution_count": 10,
   "metadata": {},
   "outputs": [
    {
     "name": "stdout",
     "output_type": "stream",
     "text": [
      "aceleración máxima posible Γmmax= 147.15 m/s^2\n"
     ]
    }
   ],
   "source": [
    "#velocidad misil, m/s\n",
    "Vm=900\n",
    "\n",
    "#velocidad del objetivo (target) m/s\n",
    "Vt=650\n",
    "\n",
    "r0=4000\n",
    "\n",
    "δt0=rad(50)\n",
    "g=9.81\n",
    "nmax=15\n",
    "Γmmax=nmax*9.81\n",
    "#aceleración máxima posible\n",
    "print(\"aceleración máxima posible Γmmax=\",Γmmax,\"m/s^2\")"
   ]
  },
  {
   "cell_type": "code",
   "execution_count": 11,
   "metadata": {},
   "outputs": [
    {
     "name": "stdout",
     "output_type": "stream",
     "text": [
      "K= 1.3846153846153846\n",
      "δt1= 46.18694 º\n",
      "δt0>δt1\n",
      "aceleración máxima requerida Γmmax= 112.521515611065 m/s^2\n",
      "tiempo para impacto tf= 13.603 s\n"
     ]
    }
   ],
   "source": [
    "#K relación de velocidades (adim)\n",
    "K=Vm/Vt \n",
    "print('K=',K) #Condición necesaria K>1\n",
    "# 1<K<2 la aceleración (Γ) es máxima en δt1\n",
    "\n",
    "# δt1 angulo de aceleración máxima\n",
    "δt1=acos(K/2)\n",
    "print(\"δt1=\",deg(δt1).evalf(7),\"º\")\n",
    "\n",
    "# Si δt0 >=δt1 la aceleración es máxima en δT1\n",
    "#δt0>δt1\n",
    "print(\"δt0>δt1\")\n",
    "\n",
    "#a partir de r0 sacamos r1\n",
    "r1=(((tan(δt1/2))/(tan(δt0/2)))**K)*(sin(δt0)/sin(δt1))*r0\n",
    "\n",
    "#aceleración máxima es la misma que la de δt1\n",
    "Γmmax=Vt*Vm*sin(δt1)/r1\n",
    "\n",
    "print(\"aceleración máxima requerida Γmmax=\",Γmmax.evalf(),\"m/s^2\")\n",
    "\n",
    "#en el impacto r=0 δt=0\n",
    "r=0\n",
    "δt=0\n",
    "tf=(r0*(cos(δt0)+K)-r*(cos(δt)+K))/(K*Vm-Vt)\n",
    "print(\"tiempo para impacto tf=\",tf.evalf(5),\"s\")"
   ]
  },
  {
   "cell_type": "code",
   "execution_count": null,
   "metadata": {},
   "outputs": [],
   "source": []
  },
  {
   "cell_type": "code",
   "execution_count": null,
   "metadata": {},
   "outputs": [],
   "source": []
  },
  {
   "cell_type": "code",
   "execution_count": null,
   "metadata": {},
   "outputs": [],
   "source": []
  }
 ],
 "metadata": {
  "kernelspec": {
   "display_name": "Python 3",
   "language": "python",
   "name": "python3"
  },
  "language_info": {
   "codemirror_mode": {
    "name": "ipython",
    "version": 3
   },
   "file_extension": ".py",
   "mimetype": "text/x-python",
   "name": "python",
   "nbconvert_exporter": "python",
   "pygments_lexer": "ipython3",
   "version": "3.6.4"
  }
 },
 "nbformat": 4,
 "nbformat_minor": 2
}
