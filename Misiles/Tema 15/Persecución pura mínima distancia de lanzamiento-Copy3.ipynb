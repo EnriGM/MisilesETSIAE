{
 "cells": [
  {
   "cell_type": "markdown",
   "metadata": {},
   "source": [
    "Persecución Pura (PP), ejercicio 7 diciembre 2016\n",
    "\n",
    "Un misil guiado por persecución pura con velocidad constante de 1000m/s, para impactar un objetivo que describe un movimiento rectilinio y uniforme con velocidad de 600 m/s. Si la capacidad de maniobra máxima del misil estuviera limitada a 100m/s^2, determínese la minima distancia de lanzamiento para que el impacto fuera posible, en los casos de los cuales δt0 tomara los valores de 15 y 40 º. Así mismo, calcúlese los tiempos empleados desde el instante de lanzamiento hasta el impacto en los dos casos anteriores, si los lanzamientos se efectuaran desde dichas distancias mínimas."
   ]
  },
  {
   "cell_type": "code",
   "execution_count": 1,
   "metadata": {},
   "outputs": [],
   "source": [
    "#primero importamos\n",
    "import numpy as np\n",
    "#importar numpy para calculo numérico\n",
    "from sympy import *\n",
    "#importar sympy para calculo simbolico\n",
    "init_printing(use_latex=True)\n",
    "from scipy import optimize\n",
    "import math\n",
    "import matplotlib.pyplot as plt"
   ]
  },
  {
   "cell_type": "code",
   "execution_count": 2,
   "metadata": {},
   "outputs": [
    {
     "name": "stdout",
     "output_type": "stream",
     "text": [
      "aceleración máxima posible Γmmax= 100 m/s^2\n"
     ]
    }
   ],
   "source": [
    "#velocidad misil, m/s\n",
    "Vm=1000\n",
    "\n",
    "#velocidad del objetivo (target) m/s\n",
    "Vt=600\n",
    "\n",
    "g=9.81\n",
    "\n",
    "Γmmax=100\n",
    "\n",
    "#aceleración máxima posible\n",
    "print(\"aceleración máxima posible Γmmax=\",Γmmax,\"m/s^2\")"
   ]
  },
  {
   "cell_type": "code",
   "execution_count": 6,
   "metadata": {},
   "outputs": [
    {
     "name": "stdout",
     "output_type": "stream",
     "text": [
      "K= 1.6666666666666667\n",
      "δt1= 33.55731 º\n",
      "\n",
      "para δt0=15º\n",
      "δt0<δt1\n",
      "mínima distancia de lanzamiento r0= 1552.914 m\n",
      "tiempo para impacto tf= 3.8327 s\n",
      "\n",
      "para δt0=40º\n",
      "δt0>δt1\n",
      "mínima distancia de lanzamiento r0= 3903.411 m\n",
      "tiempo para impacto tf= 8.9024 s\n"
     ]
    }
   ],
   "source": [
    "#K relación de velocidades (adim)\n",
    "K=Vm/Vt \n",
    "print('K=',K) #Condición necesaria K>1\n",
    "# 1<K<2 la aceleración (Γ) es máxima en δt1\n",
    "\n",
    "# δt1 angulo de aceleración máxima\n",
    "δt1=acos(K/2)\n",
    "print(\"δt1=\",deg(δt1).evalf(7),\"º\")\n",
    "print()\n",
    "#para δt0=15º\n",
    "\n",
    "print(\"para δt0=15º\")\n",
    "δt0=rad(15)\n",
    "\n",
    "# Si δt0 ≤δt1 la aceleración es máxima en δTo\n",
    "#δt0<δt1\n",
    "print(\"δt0<δt1\")\n",
    "#aceleración máxima es la misma que la inicial\n",
    "#mínima distancia de lanzamiento\n",
    "r0=Vt*Vm*sin(δt0)/Γmmax\n",
    "print(\"mínima distancia de lanzamiento r0=\",r0.evalf(7),\"m\")\n",
    "#en el impacto r=0 δt=0\n",
    "r=0\n",
    "δt=0\n",
    "tf=(r0*(cos(δt0)+K)-r*(cos(δt)+K))/(K*Vm-Vt)\n",
    "print(\"tiempo para impacto tf=\",tf.evalf(5),\"s\")\n",
    "print()\n",
    "#para δt0=40º\n",
    "\n",
    "print(\"para δt0=40º\")\n",
    "δt0=rad(40)\n",
    "\n",
    "# Si δt0 >=δt1 la aceleración es máxima en δT1\n",
    "#δt0>δt1\n",
    "print(\"δt0>δt1\")\n",
    "\n",
    "#aceleración máxima es la misma que la de δt1\n",
    "r1=Vt*Vm*sin(δt1)/Γmmax\n",
    "\n",
    "#a partir de r1 sacamos r0\n",
    "r0=(((tan(δt0/2))/(tan(δt1/2)))**K)*(sin(δt1)/sin(δt0))*r1\n",
    "print(\"mínima distancia de lanzamiento r0=\",r0.evalf(7),\"m\")\n",
    "#en el impacto r=0 δt=0\n",
    "r=0\n",
    "δt=0\n",
    "tf=(r0*(cos(δt0)+K)-r*(cos(δt)+K))/(K*Vm-Vt)\n",
    "print(\"tiempo para impacto tf=\",tf.evalf(5),\"s\")"
   ]
  },
  {
   "cell_type": "code",
   "execution_count": 3,
   "metadata": {},
   "outputs": [
    {
     "data": {
      "image/png": "[encoded data removed]",
      "text/latex": [
       "$$\\frac{r_{1} \\left(\\frac{\\tan{\\left (\\frac{δt0}{2} \\right )}}{\\tan{\\left (\\frac{δt1}{2} \\right )}}\\right)^{K}}{\\sin{\\left (δt0 \\right )}} \\sin{\\left (δt1 \\right )}$$"
      ],
      "text/plain": [
       "             K         \n",
       "   ⎛   ⎛δt0⎞⎞          \n",
       "   ⎜tan⎜───⎟⎟          \n",
       "   ⎜   ⎝ 2 ⎠⎟          \n",
       "r₁⋅⎜────────⎟ ⋅sin(δt1)\n",
       "   ⎜   ⎛δt1⎞⎟          \n",
       "   ⎜tan⎜───⎟⎟          \n",
       "   ⎝   ⎝ 2 ⎠⎠          \n",
       "───────────────────────\n",
       "        sin(δt0)       "
      ]
     },
     "execution_count": 3,
     "metadata": {},
     "output_type": "execute_result"
    }
   ],
   "source": [
    "δt0=symbols(\"δt0\")\n",
    "δt1=symbols(\"δt1\")\n",
    "K=symbols(\"K\")\n",
    "r1=symbols(\"r1\")\n",
    "r0=(((tan(δt0/2))/(tan(δt1/2)))**K)*(sin(δt1)/sin(δt0))*r1\n",
    "r0"
   ]
  },
  {
   "cell_type": "code",
   "execution_count": null,
   "metadata": {},
   "outputs": [],
   "source": []
  },
  {
   "cell_type": "code",
   "execution_count": null,
   "metadata": {},
   "outputs": [],
   "source": []
  }
 ],
 "metadata": {
  "kernelspec": {
   "display_name": "Python 3",
   "language": "python",
   "name": "python3"
  },
  "language_info": {
   "codemirror_mode": {
    "name": "ipython",
    "version": 3
   },
   "file_extension": ".py",
   "mimetype": "text/x-python",
   "name": "python",
   "nbconvert_exporter": "python",
   "pygments_lexer": "ipython3",
   "version": "3.6.4"
  }
 },
 "nbformat": 4,
 "nbformat_minor": 2
}
