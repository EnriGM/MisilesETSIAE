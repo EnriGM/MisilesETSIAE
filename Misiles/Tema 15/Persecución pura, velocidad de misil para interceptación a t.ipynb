{
 "cells": [
  {
   "cell_type": "markdown",
   "metadata": {},
   "source": [
    "Ejercicio 6 enero 2017\n",
    "\n",
    "Se define el sistema de coordenadas con su origen en el punto de lanzamiento del misil, eje OY según la horizontal, OZ según la vertical sentido ascendente, OX triedro a derechas. Se requiere que un misil guiado por persecución pura, intercepte un objetivo que se aleja del punto de lanzamiento, con movimiento rectilíneo y uniforme en el plano OYZ. Las posiciones (en metros) y velocidades iniciales (en m/s) del misil y del objetivo son, rM=[0 0 0], vM=[0 vy vz], rT=[0 900 900], vT=[0 300 0], respectivamente. Si la capacidad máxima de maniobra del misil es de 140 m/s2, calcúlesela velocidad del misil VM para que la interceptación se realice a los 4 segundos desde el lanzamiento."
   ]
  },
  {
   "cell_type": "code",
   "execution_count": 1,
   "metadata": {},
   "outputs": [],
   "source": [
    "#primero importamos\n",
    "import numpy as np\n",
    "#importar numpy para calculo numérico\n",
    "from sympy import *\n",
    "#importar sympy para calculo simbolico\n",
    "init_printing(use_latex=True)\n",
    "from scipy import optimize\n",
    "import math\n",
    "import matplotlib.pyplot as plt"
   ]
  },
  {
   "cell_type": "code",
   "execution_count": 2,
   "metadata": {},
   "outputs": [],
   "source": [
    "rm=np.array([0,0,0])\n",
    "rt=np.array([0,900,900])\n",
    "vt=np.array([0,300,0])\n",
    "Γmmax=140\n",
    "tf=4"
   ]
  },
  {
   "cell_type": "code",
   "execution_count": 8,
   "metadata": {},
   "outputs": [
    {
     "name": "stdout",
     "output_type": "stream",
     "text": [
      "586.664810179150\n"
     ]
    }
   ],
   "source": [
    "r0=np.linalg.norm(rt)\n",
    "Vt=np.linalg.norm(vt)\n",
    "δt0=pi/2-atan(rt[2]/rt[1])\n",
    "\n",
    "Vm=symbols(\"Vm\")\n",
    "K=Vm/Vt\n",
    "\n",
    "\n",
    "r=0\n",
    "δt=0\n",
    "f1=Eq((r0*(cos(δt0)+K)-r*(cos(δt)+K))/(K*Vm-Vt),tf)\n",
    "Vm=solve(f1,Vm)\n",
    "Vm=Vm[1]\n",
    "print(Vm)"
   ]
  },
  {
   "cell_type": "code",
   "execution_count": null,
   "metadata": {},
   "outputs": [],
   "source": []
  },
  {
   "cell_type": "code",
   "execution_count": null,
   "metadata": {},
   "outputs": [],
   "source": []
  },
  {
   "cell_type": "code",
   "execution_count": null,
   "metadata": {},
   "outputs": [],
   "source": []
  }
 ],
 "metadata": {
  "kernelspec": {
   "display_name": "Python 3",
   "language": "python",
   "name": "python3"
  },
  "language_info": {
   "codemirror_mode": {
    "name": "ipython",
    "version": 3
   },
   "file_extension": ".py",
   "mimetype": "text/x-python",
   "name": "python",
   "nbconvert_exporter": "python",
   "pygments_lexer": "ipython3",
   "version": "3.6.4"
  }
 },
 "nbformat": 4,
 "nbformat_minor": 2
}
