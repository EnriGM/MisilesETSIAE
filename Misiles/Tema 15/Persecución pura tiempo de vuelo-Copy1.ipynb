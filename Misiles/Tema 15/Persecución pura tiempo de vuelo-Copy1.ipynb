{
 "cells": [
  {
   "cell_type": "markdown",
   "metadata": {},
   "source": [
    "Persecución Pura (PP), ejercicio 5 2º parcial 2014\n",
    "\n",
    "Un misil guiado por persecución pura es lanzado, con una velocidad constante de 700 m/s desde 1km de distanci, a un objetivo que se aleja del punto de lanzamiento con movimiento rectilineo y uniforme de velocidad de 400 m/s. Si la capacidad de maniobra máxima del misil es de 100m/s^2, determínese la mínima distncia de lanzamiento para que el impacto fuera posible con los valores de lanzamiento de δt0 de 15º y 40º, y los tiempos de vuelo empleados"
   ]
  },
  {
   "cell_type": "code",
   "execution_count": 17,
   "metadata": {},
   "outputs": [],
   "source": [
    "#primero importamos\n",
    "import numpy as np\n",
    "#importar numpy para calculo numérico\n",
    "from sympy import *\n",
    "#importar sympy para calculo simbolico\n",
    "init_printing(use_latex=True)\n",
    "from scipy import optimize\n",
    "import math\n",
    "import matplotlib.pyplot as plt"
   ]
  },
  {
   "cell_type": "code",
   "execution_count": 18,
   "metadata": {},
   "outputs": [],
   "source": [
    "#velocidad misil, m/s\n",
    "Vm=700\n",
    "#velocidad del objetivo (target) m/s\n",
    "Vt=400\n",
    "\n",
    "Γmmax=100"
   ]
  },
  {
   "cell_type": "code",
   "execution_count": 19,
   "metadata": {},
   "outputs": [
    {
     "name": "stdout",
     "output_type": "stream",
     "text": [
      "K= 1.75\n",
      "δt1= 28.95502 º\n"
     ]
    }
   ],
   "source": [
    "#K relación de velocidades (adim)\n",
    "K=Vm/Vt \n",
    "print('K=',K) #Condición necesaria K>1\n",
    "# 1<K<2 la aceleración (Γ) es máxima en δt1\n",
    "\n",
    "# δt1 angulo de aceleración máxima\n",
    "δt1=acos(K/2)\n",
    "print(\"δt1=\",deg(δt1).evalf(7),\"º\")"
   ]
  },
  {
   "cell_type": "code",
   "execution_count": 20,
   "metadata": {},
   "outputs": [
    {
     "name": "stdout",
     "output_type": "stream",
     "text": [
      "para δt0=15º\n",
      "δt0<δt1\n",
      "mínima distancia de lanzamiento r0= 724.6933 m\n",
      "tiempo para impacto tf= 2.3857 s\n"
     ]
    }
   ],
   "source": [
    "#para δt0=15º\n",
    "\n",
    "print(\"para δt0=15º\")\n",
    "δt0=rad(15)\n",
    "\n",
    "# Si δt0 ≤δt1 la aceleración es máxima en δTo\n",
    "#δt0<δt1\n",
    "print(\"δt0<δt1\")\n",
    "#aceleración máxima es la misma que la inicial\n",
    "#mínima distancia de lanzamiento\n",
    "r0=Vt*Vm*sin(δt0)/Γmmax\n",
    "print(\"mínima distancia de lanzamiento r0=\",r0.evalf(7),\"m\")\n",
    "\n",
    "#en el impacto r=0 δt=0\n",
    "r=0\n",
    "δt=0\n",
    "tf=(r0*(cos(δt0)+K)-r*(cos(δt)+K))/(K*Vm-Vt)\n",
    "print(\"tiempo para impacto tf=\",tf.evalf(5),\"s\")"
   ]
  },
  {
   "cell_type": "code",
   "execution_count": 21,
   "metadata": {},
   "outputs": [
    {
     "name": "stdout",
     "output_type": "stream",
     "text": [
      "para δt0=40º\n",
      "δt0>δt1\n",
      "mínima distancia de lanzamiento r0= 1861.860 m\n",
      "tiempo para impacto tf= 5.6782 s\n"
     ]
    }
   ],
   "source": [
    "#para δt0=40º\n",
    "\n",
    "print(\"para δt0=40º\")\n",
    "δt0=rad(40)\n",
    "\n",
    "# Si δt0 >=δt1 la aceleración es máxima en δT1\n",
    "#δt0>δt1\n",
    "print(\"δt0>δt1\")\n",
    "\n",
    "#aceleración máxima es la misma que la de δt1\n",
    "r1=Vt*Vm*sin(δt1)/Γmmax\n",
    "\n",
    "#a partir de r1 sacamos r0\n",
    "r0=(((tan(δt0/2))/(tan(δt1/2)))**K)*(sin(δt1)/sin(δt0))*r1\n",
    "print(\"mínima distancia de lanzamiento r0=\",r0.evalf(7),\"m\")\n",
    "\n",
    "#en el impacto r=0 δt=0\n",
    "r=0\n",
    "δt=0\n",
    "tf=(r0*(cos(δt0)+K)-r*(cos(δt)+K))/(K*Vm-Vt)\n",
    "print(\"tiempo para impacto tf=\",tf.evalf(5),\"s\")"
   ]
  },
  {
   "cell_type": "code",
   "execution_count": null,
   "metadata": {},
   "outputs": [],
   "source": []
  }
 ],
 "metadata": {
  "kernelspec": {
   "display_name": "Python 3",
   "language": "python",
   "name": "python3"
  },
  "language_info": {
   "codemirror_mode": {
    "name": "ipython",
    "version": 3
   },
   "file_extension": ".py",
   "mimetype": "text/x-python",
   "name": "python",
   "nbconvert_exporter": "python",
   "pygments_lexer": "ipython3",
   "version": "3.6.4"
  }
 },
 "nbformat": 4,
 "nbformat_minor": 2
}
