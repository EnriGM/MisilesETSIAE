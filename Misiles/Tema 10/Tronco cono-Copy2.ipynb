{
 "cells": [
  {
   "cell_type": "markdown",
   "metadata": {},
   "source": [
    "Enero 2014 ejercicio 5\n",
    "\n",
    "Cohete de 3 m de longitud total y 0,25m de diámetro, para Mach 2 al nivel del mar, con proa cónica de longitud 0.5m y envergadura de un panel de 0,075m. Ek cdg del cohete y el borde de salide de las aletas están situados a 1m y 3m, respectivamente, del vértice de la proa.\n",
    "\n",
    "Si el vehículo anterior tuviera que incrementar su diámetro a 0.5m con un tronco de cono de semiángulo 45º para alojar un motor cohete mayor, determínese el incremento de resistencia de onda que supondría, y el valor del coeficiente total de resistencia de onda del fuselaje en esta última configuración."
   ]
  },
  {
   "cell_type": "code",
   "execution_count": 2,
   "metadata": {},
   "outputs": [],
   "source": [
    "#primero importamos\n",
    "import numpy as np\n",
    "#importar numpy para calculo numérico\n",
    "from sympy import *\n",
    "#importar sympy para calculo simbolico\n",
    "init_printing(use_latex=True)\n",
    "from scipy import optimize\n",
    "import math"
   ]
  },
  {
   "cell_type": "code",
   "execution_count": 3,
   "metadata": {},
   "outputs": [],
   "source": [
    "#mach [adim]\n",
    "M=symbols('M')\n",
    "#velocidad sonido [m/s]\n",
    "a=symbols('a')\n",
    "#δ0c semiángulo de la cabeza del cono [º]\n",
    "delta0c=symbols('δoc')\n",
    "#δ0oj semiángulo de la cabeza de la ojiva [º]\n",
    "delta0oj=symbols('δooj')\n",
    "# ρ densidad [kg/m**3]\n",
    "rho=symbols('ρ')\n",
    "#diametro [m]\n",
    "d=symbols('d')\n",
    "#la longitud del cilindro [m]\n",
    "la=symbols('la')\n",
    "#ln longitud del cono (nose) [m]\n",
    "ln=symbols('ln')\n",
    "#ln longitud del cono (nose) [m]\n",
    "ltc=symbols('ltc')\n",
    "#SLC superficie lateral del cono\n",
    "SLC=symbols('SLC')\n",
    "#SLTC superficie lateral de tronco cono\n",
    "SLTC=symbols('SLTC')\n",
    "\n",
    "#Sref superficie de referencia [m**2]\n",
    "Sref=symbols('Sref')\n",
    "#Q presión dinámica [N/m**2]\n",
    "Q=symbols('Q')\n",
    "#Coeficiente de resistencia de onda del cono [adim]\n",
    "CDWC=symbols('CDWC')\n",
    "#Coeficiente de resistencia de onda del cono [adim]\n",
    "CDWTC=symbols('CDWTC')\n",
    "\n"
   ]
  },
  {
   "cell_type": "code",
   "execution_count": 4,
   "metadata": {},
   "outputs": [],
   "source": [
    "M=2\n",
    "a=340\n",
    "rho=1.225\n",
    "#diámetro cono\n",
    "dc=0.25\n",
    "#diámetro tronco cono\n",
    "dtc=0.5\n",
    "#semiángulo del tronco cono, es importante que esté en grados\n",
    "#este tronco cono no tiene el mismo ángulo que el cono\n",
    "delta0tc=45\n"
   ]
  },
  {
   "cell_type": "code",
   "execution_count": 5,
   "metadata": {},
   "outputs": [
    {
     "name": "stdout",
     "output_type": "stream",
     "text": [
      "Variación de coeficiente de resistencia= 1.01946938747181\n",
      "Variación de resistencia= 56692.8118737905 N\n"
     ]
    }
   ],
   "source": [
    "# un fuselaje tronco cónico solo modifica la resistencia de onda\n",
    "\n",
    "ltc=((dtc-dc)/2)*tan(np.radians(delta0tc))\n",
    "\n",
    "#lne es la longitud del cono, no el real, sino la continuación del tronco cono, teórico\n",
    "lne=dtc/(2*tan(np.radians(delta0tc)))\n",
    "\n",
    "#Cálculo del coef de resistencia, esta sería la del cono teórico del tronco cono\n",
    "CDWCT=(0.083+(0.096/M**2))*(delta0tc/10)**1.69\n",
    "\n",
    "#la superficie de referencia es la transversal de la base del cono\n",
    "Sref=pi*(dtc/2)**2\n",
    "\n",
    "#superficie lateral del cono teórico\n",
    "SLC=pi*(dtc/2)*sqrt((dtc/2)**2+(lne)**2)\n",
    "\n",
    "#superficie lateral del tronco cono\n",
    "SLTC=SLC-pi*((dtc/2)*((lne-ltc)/lne))*sqrt(((dtc/2)*((lne-ltc)/lne))**2+(lne-ltc)**2)\n",
    "CDWTC=CDWCT*(SLTC/SLC)\n",
    "\n",
    "\n",
    "Q=0.5*rho*(M*a)**2\n",
    "\n",
    "DWTC=Q*Sref*CDWTC\n",
    "\n",
    "#CDWTC es la variación del coeficiente de resistencia de onda\n",
    "#DWTC es la variación de resistencia de onda\n",
    "print('Variación de coeficiente de resistencia=',CDWTC.evalf())\n",
    "print('Variación de resistencia=',DWTC.evalf(),'N')"
   ]
  },
  {
   "cell_type": "markdown",
   "metadata": {},
   "source": [
    "Para obtener el coeficiente de resistencia de onda del fuselaje:\n",
    "\n"
   ]
  },
  {
   "cell_type": "code",
   "execution_count": 6,
   "metadata": {},
   "outputs": [
    {
     "name": "stdout",
     "output_type": "stream",
     "text": [
      "CDW= 1.06691300488424\n"
     ]
    }
   ],
   "source": [
    "ln=0.5\n",
    "delta0c=np.degrees(np.arctan(dc/(2*(ln))))\n",
    "CDWC=(0.083+(0.096/M**2))*(delta0c/10)**1.69\n",
    "#la resistencia del cono se calcula con referencia a la superficie de ref del cono.\n",
    "Srefc=pi*(dc/2)**2\n",
    "DWC=Q*Srefc*CDWC\n",
    "CDW=(DWTC+DWC)/(Q*Sref)\n",
    "print('CDW=',CDW)"
   ]
  },
  {
   "cell_type": "code",
   "execution_count": 8,
   "metadata": {},
   "outputs": [
    {
     "data": {
      "image/png": "[encoded data removed]",
      "text/latex": [
       "$$0.0490873852$$"
      ],
      "text/plain": [
       "0.0490873852"
      ]
     },
     "execution_count": 8,
     "metadata": {},
     "output_type": "execute_result"
    }
   ],
   "source": [
    "Srefc.evalf(9)"
   ]
  },
  {
   "cell_type": "code",
   "execution_count": null,
   "metadata": {},
   "outputs": [],
   "source": []
  }
 ],
 "metadata": {
  "kernelspec": {
   "display_name": "Python 3",
   "language": "python",
   "name": "python3"
  },
  "language_info": {
   "codemirror_mode": {
    "name": "ipython",
    "version": 3
   },
   "file_extension": ".py",
   "mimetype": "text/x-python",
   "name": "python",
   "nbconvert_exporter": "python",
   "pygments_lexer": "ipython3",
   "version": "3.6.4"
  }
 },
 "nbformat": 4,
 "nbformat_minor": 2
}
