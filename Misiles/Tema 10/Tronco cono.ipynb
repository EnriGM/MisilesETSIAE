{
 "cells": [
  {
   "cell_type": "markdown",
   "metadata": {},
   "source": [
    "Si en vehículo cono-cilindro se introduce un tronco de cono de 0,1m de longitud\n",
    "y diámetro mayor 0,1m, calcúlese la variación del coeficiente de resistencia de onda, así como la resistencia de onda.\n",
    "\n",
    "Nivel mar \n",
    "Mach=2\n",
    "a = 340 m/s\n",
    "rho = 1,225 kg/m3\n",
    "γ = 1,41\n",
    "Re Laminar < 5e6\n",
    "Re Turbulento > 2e7 \n",
    "Reynolds LT = 4,6552e+06\n",
    "μ= 1.7894e-5 Ns/m2"
   ]
  },
  {
   "cell_type": "markdown",
   "metadata": {},
   "source": [
    "<img src=\"./Ejercicio clase tema 10 año 2017 2.png\">"
   ]
  },
  {
   "cell_type": "code",
   "execution_count": 1,
   "metadata": {},
   "outputs": [],
   "source": [
    "#primero importamos\n",
    "import numpy as np\n",
    "#importar numpy para calculo numérico\n",
    "from sympy import *\n",
    "#importar sympy para calculo simbolico\n",
    "init_printing(use_latex=True)\n",
    "from scipy import optimize\n",
    "import math"
   ]
  },
  {
   "cell_type": "code",
   "execution_count": 2,
   "metadata": {},
   "outputs": [],
   "source": [
    "#mach [adim]\n",
    "M=symbols('M')\n",
    "#velocidad sonido [m/s]\n",
    "a=symbols('a')\n",
    "#δ0c semiángulo de la cabeza del cono [º]\n",
    "delta0c=symbols('δoc')\n",
    "#δ0oj semiángulo de la cabeza de la ojiva [º]\n",
    "delta0oj=symbols('δooj')\n",
    "# ρ densidad [kg/m**3]\n",
    "rho=symbols('ρ')\n",
    "#diametro [m]\n",
    "d=symbols('d')\n",
    "#la longitud del cilindro [m]\n",
    "la=symbols('la')\n",
    "#ln longitud del cono (nose) [m]\n",
    "ln=symbols('ln')\n",
    "#ln longitud del cono (nose) [m]\n",
    "ltc=symbols('ltc')\n",
    "#SLC superficie lateral del cono\n",
    "SLC=symbols('SLC')\n",
    "#SLTC superficie lateral de tronco cono\n",
    "SLTC=symbols('SLTC')\n",
    "\n",
    "#Sref superficie de referencia [m**2]\n",
    "Sref=symbols('Sref')\n",
    "#Q presión dinámica [N/m**2]\n",
    "Q=symbols('Q')\n",
    "#Coeficiente de resistencia de onda del cono [adim]\n",
    "CDWC=symbols('CDWC')\n",
    "#Coeficiente de resistencia de onda del cono [adim]\n",
    "CDWTC=symbols('CDWTC')\n",
    "\n"
   ]
  },
  {
   "cell_type": "code",
   "execution_count": 3,
   "metadata": {},
   "outputs": [],
   "source": [
    "M=2\n",
    "a=340\n",
    "rho=1.225\n",
    "d=0.1\n",
    "ln=0.1\n",
    "ltc=0.1\n"
   ]
  },
  {
   "cell_type": "code",
   "execution_count": 4,
   "metadata": {},
   "outputs": [
    {
     "name": "stdout",
     "output_type": "stream",
     "text": [
      "Variación de coeficiente de resistencia= 0.142330852237314\n",
      "Variación de resistencia= 316.601413593676 N\n"
     ]
    }
   ],
   "source": [
    "# un fuselaje tronco cónico solo modifica la resistencia de onda\n",
    "\n",
    "#Cálculo de resistencia de onda del cono\n",
    "#calculo del semiángulo del cono, es importante que esté en grados\n",
    "delta0c=np.degrees(np.arctan(d/(2*(ln+ltc))))\n",
    "\n",
    "#Cálculo del coef de resistencia\n",
    "CDWC=(0.083+(0.096/M**2))*(delta0c/10)**1.69\n",
    "\n",
    "#la superficie de referencia es la transversal de la base del cono\n",
    "Sref=pi*(d/2)**2\n",
    "\n",
    "#superficie lateral del cono, la que tendría si toda la longitud fuera cono\n",
    "SLC=pi*(d/2)*sqrt((d/2)**2+(ln+ltc)**2)\n",
    "#superficie lateral del tronco cono\n",
    "SLTC=SLC-pi*((d/2)*(ln/(ln+ltc)))*sqrt(((d/2)*(ln/(ln+ltc)))**2+ln**2)\n",
    "\n",
    "#Ahora la fórmula de la resistencia de onda del tronco cono, es lo que añade, es la variación\n",
    "CDWTC=CDWC*(SLTC/SLC)\n",
    "\n",
    "\n",
    "\n",
    "Q=0.5*rho*(M*a)**2\n",
    "\n",
    "DWTC=Q*Sref*CDWTC\n",
    "\n",
    "#CDWTC es la variación del coeficiente de resistencia de onda\n",
    "#DWTC es la variación de resistencia de onda\n",
    "print('Variación de coeficiente de resistencia=',CDWTC.evalf())\n",
    "print('Variación de resistencia=',DWTC.evalf(),'N')"
   ]
  },
  {
   "cell_type": "code",
   "execution_count": null,
   "metadata": {},
   "outputs": [],
   "source": []
  }
 ],
 "metadata": {
  "kernelspec": {
   "display_name": "Python 3",
   "language": "python",
   "name": "python3"
  },
  "language_info": {
   "codemirror_mode": {
    "name": "ipython",
    "version": 3
   },
   "file_extension": ".py",
   "mimetype": "text/x-python",
   "name": "python",
   "nbconvert_exporter": "python",
   "pygments_lexer": "ipython3",
   "version": "3.6.4"
  }
 },
 "nbformat": 4,
 "nbformat_minor": 2
}
