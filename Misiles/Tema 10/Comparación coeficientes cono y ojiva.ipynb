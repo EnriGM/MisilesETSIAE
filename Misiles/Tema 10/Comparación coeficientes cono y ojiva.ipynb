{
 "cells": [
  {
   "cell_type": "markdown",
   "metadata": {},
   "source": [
    "Ejercicio clase tema 10 año 2017\n",
    "\n",
    "Determínese los coeficientes de resistencia de onda, base, fricción y total de la configuración dibujada, así como su resistencia de onda, base, fricción y total, en vuelo no propulsado.\n",
    "Si se sustituye la sección delantera por una ojiva tangente de igual esbeltez, calcúlese la variación de los valores anteriores.\n",
    "\n",
    "Nivel mar \n",
    "Mach=2\n",
    "a = 340 m/s\n",
    "rho = 1,225 kg/m3\n",
    "γ = 1,41\n",
    "Re Laminar < 5e6\n",
    "Re Turbulento > 2e7 \n",
    "Reynolds LT = 4,6552e+06\n",
    "μ= 1.7894e-5 Ns/m2"
   ]
  },
  {
   "cell_type": "markdown",
   "metadata": {},
   "source": [
    "<img src=\"./Ejercicio clase tema 10 año 2017.png\">"
   ]
  },
  {
   "cell_type": "code",
   "execution_count": 1,
   "metadata": {},
   "outputs": [],
   "source": [
    "#primero importamos\n",
    "import numpy as np\n",
    "#importar numpy para calculo numérico\n",
    "from sympy import *\n",
    "#importar sympy para calculo simbolico\n",
    "init_printing(use_latex=True)\n",
    "from scipy import optimize\n",
    "import math"
   ]
  },
  {
   "cell_type": "code",
   "execution_count": 2,
   "metadata": {},
   "outputs": [],
   "source": [
    "#mach [adim]\n",
    "M=symbols('M')\n",
    "#velocidad sonido [m/s]\n",
    "a=symbols('a')\n",
    "#δ0c semiángulo de la cabeza del cono [º]\n",
    "delta0c=symbols('δoc')\n",
    "#δ0oj semiángulo de la cabeza de la ojiva [º]\n",
    "delta0oj=symbols('δooj')\n",
    "# ρ densidad [kg/m**3]\n",
    "rho=symbols('ρ')\n",
    "#diametro [m]\n",
    "d=symbols('d')\n",
    "#la longitud del cilindro [m]\n",
    "la=symbols('la')\n",
    "#ln longitud del cono (nose) [m]\n",
    "ln=symbols('ln')\n",
    "#Sref superficie de referencia [m**2]\n",
    "Sref=symbols('Sref')\n",
    "#Q presión dinámica [N/m**2]\n",
    "Q=symbols('Q')\n",
    "#Coeficiente de resistencia de onda del cono [adim]\n",
    "CDWC=symbols('CDWC')\n",
    "#Coeficiente de resistencia de onda del cono con el ángulo de la ojiva [adim]\n",
    "CDWCOJ=symbols('CDWCOJ')\n",
    "#Coeficiente de resistencia de onda de la ojiva [adim]\n",
    "CDWOJ=symbols('CDWOJ')\n",
    "#Resistencia de onda del cono [N]\n",
    "DWC=symbols('DWC')\n",
    "#Resistencia de onda de la ojiva[N]\n",
    "DWOJ=symbols('DWOJ')\n",
    "#Coeficiente de resistencia de base [adim]\n",
    "CDb=symbols('CDb')\n",
    "#Resistencia de base [N]\n",
    "Db=symbols('Db')\n",
    "#superficie bañada nariz [m**2]\n",
    "Sbnose=symbols('Sbnose')\n",
    "#superficie bañada cilindro [m**2]\n",
    "Sbcil=symbols('Sbcil')"
   ]
  },
  {
   "cell_type": "code",
   "execution_count": 3,
   "metadata": {},
   "outputs": [],
   "source": [
    "M=2\n",
    "a=340\n",
    "rho=1.225\n",
    "y=1.41\n",
    "ReLaminar=5e6\n",
    "ReTurbulento=2e7\n",
    "ReLT=4.6552e6\n",
    "mu=1.7894e-5\n",
    "d=0.05\n",
    "la=0.5\n",
    "ln=0.1\n",
    "xcg=0.3"
   ]
  },
  {
   "cell_type": "code",
   "execution_count": 5,
   "metadata": {},
   "outputs": [
    {
     "data": {
      "image/png": "[encoded data removed]",
      "text/latex": [
       "$$\\left ( 105.533804531225, \\quad 14.036243467926479, \\quad 0.18977446964975211, \\quad 0.00196349540849362, \\quad 283220.0\\right )$$"
      ],
      "text/plain": [
       "(105.533804531225, 14.036243467926479, 0.18977446964975211, 0.0019634954084936\n",
       "2, 283220.0)"
      ]
     },
     "execution_count": 5,
     "metadata": {},
     "output_type": "execute_result"
    }
   ],
   "source": [
    "#todas las resistencias son iguales entre cono y ojiva menos la de onda\n",
    "\n",
    "#Cálculo de resistencia de onda del cono\n",
    "#calculo del semiángulo del cono, es importante que esté en grados\n",
    "delta0c=np.degrees(np.arctan(d/(2*ln)))\n",
    "\n",
    "#Cálculo del coef de resistencia\n",
    "CDWC=(0.083+(0.096/M**2))*(delta0c/10)**1.69\n",
    "\n",
    "#la superficie de referencia es la transversal de la base del cono\n",
    "Sref=pi*(d/2)**2\n",
    "\n",
    "Q=0.5*rho*(M*a)**2\n",
    "\n",
    "DWC=Q*Sref*CDWC\n",
    "DWC.evalf(),delta0c,CDWC,Sref.evalf(),Q"
   ]
  },
  {
   "cell_type": "code",
   "execution_count": 8,
   "metadata": {},
   "outputs": [
    {
     "data": {
      "image/png": "[encoded data removed]",
      "text/latex": [
       "$$\\left ( 107.018024135907, \\quad 28.072486935852957, \\quad 0.6123200482148883, \\quad 0.19244344372467917\\right )$$"
      ],
      "text/plain": [
       "(107.018024135907, 28.072486935852957, 0.6123200482148883, 0.19244344372467917\n",
       ")"
      ]
     },
     "execution_count": 8,
     "metadata": {},
     "output_type": "execute_result"
    }
   ],
   "source": [
    "#Cálculo de resistencia de onda de la ojiva\n",
    "#el semiángulo de la ojiva es el doble que la del cono\n",
    "delta0oj=2*np.degrees(np.arctan(d/(2*ln)))\n",
    "\n",
    "#Se calcula el coef resitencia de onda del cono con el semiángulo de la ojiva\n",
    "CDWCOJ=(0.083+(0.096/M**2))*(delta0oj/10)**1.69\n",
    "\n",
    "#Cálculo del coef de resistencia de onda de la ojiva\n",
    "CDWOJ=CDWCOJ*(1-((392*(ln/d)**2-32)/(28*(M+18)*(ln/d)**2)))\n",
    "\n",
    "#el resto es igual que la del cono\n",
    "Sref=pi*(d/2)**2\n",
    "Q=0.5*rho*(M*a)**2\n",
    "\n",
    "DWOJ=Q*Sref*CDWOJ\n",
    "DWOJ.evalf(),delta0oj,CDWCOJ,CDWOJ"
   ]
  },
  {
   "cell_type": "code",
   "execution_count": 182,
   "metadata": {},
   "outputs": [
    {
     "data": {
      "image/png": "[encoded data removed]",
      "text/latex": [
       "$$80.6346695910667$$"
      ],
      "text/plain": [
       "80.6346695910667"
      ]
     },
     "execution_count": 182,
     "metadata": {},
     "output_type": "execute_result"
    }
   ],
   "source": [
    "#Resistencia de Base\n",
    "#el Coeficiente de resistencia de base está tabulado o en gráficas, te lo tiene que dar\n",
    "Cpb=-0.145\n",
    "CDb=-Cpb\n",
    "Db=CDb*Q*Sref\n",
    "Db.evalf()"
   ]
  },
  {
   "cell_type": "code",
   "execution_count": 16,
   "metadata": {},
   "outputs": [
    {
     "data": {
      "image/png": "[encoded data removed]",
      "text/latex": [
       "$$\\left ( 45.7661150625771, \\quad 0.000710719565306756, \\quad 0.000664539375902478, \\quad 27931150.10618085, \\quad 0.00210459419253116, \\quad 0.00198895538989116\\right )$$"
      ],
      "text/plain": [
       "(45.7661150625771, 0.000710719565306756, 0.000664539375902478, 27931150.106180\n",
       "85, 0.00210459419253116, 0.00198895538989116)"
      ]
     },
     "execution_count": 16,
     "metadata": {},
     "output_type": "execute_result"
    }
   ],
   "source": [
    "#Resistencia de fricción\n",
    "#zona nariz\n",
    "#Para la zona de la nariz se usa el régimen laminar, porque ReLT(dato) < Re laminar(dato)\n",
    "cDfi=(4/sqrt(3))*(0.664/sqrt(ReLT))\n",
    "CDFL=cDfi*(1/(1+0.17*M**2))**0.1295\n",
    "\n",
    "#zona cilindro\n",
    "Recil=(rho*M*a*(la+ln))/mu\n",
    "#Rcil > Re turbulento, luego régimen turbulento\n",
    "cdfi=0.288*(log(Recil,10))**(-2.45)\n",
    "CDfi=1.25*cdfi\n",
    "CDft=CDfi/((1+((y-1)/2)*M**2)**0.467)\n",
    "\n",
    "#sumamos los coeficientes\n",
    "Sbnose=pi*(d/2)*sqrt((d/2)**2+ln**2)\n",
    "Sbcil=pi*la*d\n",
    "CDftotal=CDFL*(Sbnose/Sref)+CDft*(Sbcil/Sref)\n",
    "\n",
    "#Resistencia de fricción total\n",
    "Dftotal=CDftotal*Q*Sref\n",
    "Dftotal.evalf(),cDfi.evalf(),CDFL.evalf(),Recil,cdfi.evalf(),CDft.evalf()\n"
   ]
  },
  {
   "cell_type": "code",
   "execution_count": 196,
   "metadata": {},
   "outputs": [
    {
     "name": "stdout",
     "output_type": "stream",
     "text": [
      "Cono\n",
      "Resistencia= 231.93 N      Coeficiente de resistencia= 0.41707\n",
      "Ojiva\n",
      "Resistencia= 233.42 N      Coeficiente de resistencia= 0.41974\n"
     ]
    }
   ],
   "source": [
    "#Resistencia total del misil con cono\n",
    "DTC=DWC+Db+Dftotal\n",
    "CDC=DTC/(Q*Sref)\n",
    "\n",
    "#Resistencia total del misil con ojiva\n",
    "DTOJ=DWOJ+Db+Dftotal\n",
    "CDOJ=DTOJ/(Q*Sref)\n",
    "\n",
    "print('Cono')\n",
    "print('Resistencia=',DTC.evalf(5),'N','    ','Coeficiente de resistencia=',CDC.evalf(5))\n",
    "print('Ojiva')\n",
    "print('Resistencia=',DTOJ.evalf(5),'N','    ','Coeficiente de resistencia=',CDOJ.evalf(5))"
   ]
  },
  {
   "cell_type": "code",
   "execution_count": null,
   "metadata": {},
   "outputs": [],
   "source": []
  }
 ],
 "metadata": {
  "kernelspec": {
   "display_name": "Python 3",
   "language": "python",
   "name": "python3"
  },
  "language_info": {
   "codemirror_mode": {
    "name": "ipython",
    "version": 3
   },
   "file_extension": ".py",
   "mimetype": "text/x-python",
   "name": "python",
   "nbconvert_exporter": "python",
   "pygments_lexer": "ipython3",
   "version": "3.6.4"
  }
 },
 "nbformat": 4,
 "nbformat_minor": 2
}
