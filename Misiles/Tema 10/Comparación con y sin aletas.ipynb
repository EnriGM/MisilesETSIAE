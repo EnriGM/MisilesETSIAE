{
 "cells": [
  {
   "cell_type": "markdown",
   "metadata": {},
   "source": [
    "Determínese el CNα y la posición del cp. MIL-HDBK 716\n",
    "Si añadimos cuatro aletas rectangulares, configuración + cruciforme, cuyo borde de ataque está a una distancia de 0,35m desde la punta del body anterior \n",
    "\n",
    "Nivel mar \n",
    "\n",
    "Mach=2\n",
    "\n",
    "a = 340 m/s\n",
    "\n",
    "rho = 1,225 kg/m3\n",
    "\n",
    "μ= 1.7894e-5 Ns/m2"
   ]
  },
  {
   "cell_type": "markdown",
   "metadata": {},
   "source": [
    "<img src=\"./Comparació misiles con y sin aletas.png\">\n",
    "<img src=\"./Comparació misiles con y sin aletas 2.png\">"
   ]
  },
  {
   "cell_type": "code",
   "execution_count": 3,
   "metadata": {},
   "outputs": [],
   "source": [
    "#primero importamos\n",
    "import numpy as np\n",
    "#importar numpy para calculo numérico\n",
    "from sympy import *\n",
    "#importar sympy para calculo simbolico\n",
    "init_printing(use_latex=True)\n",
    "from scipy import optimize\n",
    "import math"
   ]
  },
  {
   "cell_type": "code",
   "execution_count": 4,
   "metadata": {},
   "outputs": [],
   "source": [
    "#mach [adim]\n",
    "M=symbols('M')\n",
    "#velocidad sonido [m/s]\n",
    "a=symbols('a')\n",
    "#δ0c semiángulo de la cabeza del cono [º]\n",
    "delta0c=symbols('δoc')\n",
    "#δ0oj semiángulo de la cabeza de la ojiva [º]\n",
    "delta0oj=symbols('δooj')\n",
    "#b envergadura del ala, b es la de dos paneles, b/2 la de uno [m]\n",
    "b=symbols('b')\n",
    "#c cuerda de las alas [m]\n",
    "c=symbols('c')\n",
    "# ρ densidad [kg/m**3]\n",
    "rho=symbols('ρ')\n",
    "#diametro [m]\n",
    "d=symbols('d')\n",
    "#la longitud del cilindro [m]\n",
    "la=symbols('la')\n",
    "#ln longitud del cono (nose) [m]\n",
    "ln=symbols('ln')\n",
    "#ln longitud del tronco cono  [m]\n",
    "ltc=symbols('ltc')\n",
    "#SLC superficie lateral del cono\n",
    "SLC=symbols('SLC')\n",
    "#SLTC superficie lateral de tronco cono\n",
    "SLTC=symbols('SLTC')\n",
    "\n",
    "#Sref superficie de referencia [m**2]\n",
    "Sref=symbols('Sref')\n",
    "#Q presión dinámica [N/m**2]\n",
    "Q=symbols('Q')\n",
    "#Coeficiente de resistencia de onda del cono [adim]\n",
    "CDWC=symbols('CDWC')\n",
    "#Coeficiente de resistencia de onda del cono [adim]\n",
    "CDWTC=symbols('CDWTC')\n",
    "\n"
   ]
  },
  {
   "cell_type": "code",
   "execution_count": 13,
   "metadata": {},
   "outputs": [],
   "source": [
    "M=2\n",
    "a=340\n",
    "rho=1.225\n",
    "d=0.05\n",
    "ln=0.1\n",
    "la=0.5\n",
    "xcg=0.3\n",
    "xw=0.35\n",
    "b=2*0.125\n",
    "c=0.25"
   ]
  },
  {
   "cell_type": "code",
   "execution_count": 9,
   "metadata": {},
   "outputs": [
    {
     "data": {
      "image/png": "[encoded data removed]",
      "text/latex": [
       "$$\\left ( 0.866025403784439, \\quad 5.77350269189626\\right )$$"
      ],
      "text/plain": [
       "(0.866025403784439, 5.77350269189626)"
      ]
     },
     "execution_count": 9,
     "metadata": {},
     "output_type": "execute_result"
    }
   ],
   "source": [
    "#Para entrar en las gráficas de MIL-HDBK 716\n",
    "horizontales=(d/ln)*sqrt(M**2-1)\n",
    "verticales=la/(d*sqrt(M**2-1))\n",
    "horizontales.evalf(), verticales.evalf()"
   ]
  },
  {
   "cell_type": "code",
   "execution_count": 28,
   "metadata": {},
   "outputs": [
    {
     "data": {
      "image/png": "[encoded data removed]",
      "text/latex": [
       "$$12.58$$"
      ],
      "text/plain": [
       "12.58"
      ]
     },
     "execution_count": 28,
     "metadata": {},
     "output_type": "execute_result"
    }
   ],
   "source": [
    "#de la gráfica de CNα\n",
    "CNαb=3.4\n",
    "#de la gráfica de xcpb\n",
    "xcpb=1.15*ln\n",
    "Cmαb=CNαb*(xcg-xcpb)/d\n"
   ]
  },
  {
   "cell_type": "code",
   "execution_count": 24,
   "metadata": {},
   "outputs": [
    {
     "data": {
      "image/png": "[encoded data removed]",
      "text/latex": [
       "$$1.64273441009184$$"
      ],
      "text/plain": [
       "1.64273441009184"
      ]
     },
     "execution_count": 24,
     "metadata": {},
     "output_type": "execute_result"
    }
   ],
   "source": [
    "#aletas\n",
    "β=sqrt(M**2-1)\n",
    "A=b/c\n",
    "CNαw=(4/β)*(1-(1/(2*A*β)))\n",
    "xcple=c*((A*β-2/3)/(2*A*β-1))\n",
    "xcpw=xw+xcple\n",
    "CNαw.evalf()"
   ]
  },
  {
   "cell_type": "code",
   "execution_count": 27,
   "metadata": {},
   "outputs": [
    {
     "data": {
      "image/png": "[encoded data removed]",
      "text/latex": [
       "$$\\left ( 74.5723098672776, \\quad -212.453355487623\\right )$$"
      ],
      "text/plain": [
       "(74.5723098672776, -212.453355487623)"
      ]
     },
     "execution_count": 27,
     "metadata": {},
     "output_type": "execute_result"
    }
   ],
   "source": [
    "#total\n",
    "Sref=pi*(d/2)**2\n",
    "Sw=b*c\n",
    "s=d+b\n",
    "#KWB + KBW= (1+d/s)**2 \n",
    "KWBKBW= (1+d/s)**2 \n",
    "#deflexión de estela de/dα = 0\n",
    "#no hay mandos CNαM\n",
    "CNα=CNαb+CNαw*(1-0)*(KWBKBW)*(Sw/Sref)+0\n",
    "Cmα=CNαb*((xcg-xcpb)/d)+CNαw*KWBKBW*(Sw/Sref)*((xcg-xcpw)/d)\n",
    "CNα.evalf(),Cmα.evalf()"
   ]
  },
  {
   "cell_type": "code",
   "execution_count": 32,
   "metadata": {},
   "outputs": [
    {
     "name": "stdout",
     "output_type": "stream",
     "text": [
      "margen de estabilidad estático sin aletas -3.7\n",
      "margen de estabilidad estático con aletas 2.84895768772274\n"
     ]
    }
   ],
   "source": [
    "#margen de estabilidad estático sin aletas\n",
    "hb=-(Cmαb/CNαb)\n",
    "print('margen de estabilidad estático sin aletas',hb)\n",
    "h=-(Cmα/CNα)\n",
    "print('margen de estabilidad estático con aletas',h.evalf())\n",
    "#como el margen de estabilidad estático es positivo, es estáticamente estable"
   ]
  },
  {
   "cell_type": "code",
   "execution_count": null,
   "metadata": {},
   "outputs": [],
   "source": []
  }
 ],
 "metadata": {
  "kernelspec": {
   "display_name": "Python 3",
   "language": "python",
   "name": "python3"
  },
  "language_info": {
   "codemirror_mode": {
    "name": "ipython",
    "version": 3
   },
   "file_extension": ".py",
   "mimetype": "text/x-python",
   "name": "python",
   "nbconvert_exporter": "python",
   "pygments_lexer": "ipython3",
   "version": "3.6.4"
  }
 },
 "nbformat": 4,
 "nbformat_minor": 2
}
