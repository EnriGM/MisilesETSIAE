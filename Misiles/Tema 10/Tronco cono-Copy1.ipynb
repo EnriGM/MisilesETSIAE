{
 "cells": [
  {
   "cell_type": "markdown",
   "metadata": {},
   "source": [
    "Exámen parcial 2015 ejercicio 7\n",
    "\n",
    "Si el vehículo del ejercicio anterior tuviera que incrementar el diámetro de 0,3 (el original era 0,25) incluyendo en la seccion cilindrica un cono de longitud 0,05 m para alojar un motor cohete mayor, determíneses el incremento de resistencia de onda que se produciría respecto a la configuración primitiva, y el valor de coeficiente de resisitencia de onda del fuselaje referido a la sección transversal del cilindro en esta última configuración.\n",
    "\n",
    "Nivel mar \n",
    "Mach=2\n",
    "a = 340 m/s\n",
    "rho = 1,225 kg/m3"
   ]
  },
  {
   "cell_type": "code",
   "execution_count": 1,
   "metadata": {},
   "outputs": [],
   "source": [
    "#primero importamos\n",
    "import numpy as np\n",
    "#importar numpy para calculo numérico\n",
    "from sympy import *\n",
    "#importar sympy para calculo simbolico\n",
    "init_printing(use_latex=True)\n",
    "from scipy import optimize\n",
    "import math"
   ]
  },
  {
   "cell_type": "code",
   "execution_count": 2,
   "metadata": {},
   "outputs": [],
   "source": [
    "#mach [adim]\n",
    "M=symbols('M')\n",
    "#velocidad sonido [m/s]\n",
    "a=symbols('a')\n",
    "#δ0c semiángulo de la cabeza del cono [º]\n",
    "delta0c=symbols('δoc')\n",
    "#δ0oj semiángulo de la cabeza de la ojiva [º]\n",
    "delta0oj=symbols('δooj')\n",
    "# ρ densidad [kg/m**3]\n",
    "rho=symbols('ρ')\n",
    "#diametro [m]\n",
    "d=symbols('d')\n",
    "#la longitud del cilindro [m]\n",
    "la=symbols('la')\n",
    "#ln longitud del cono (nose) [m]\n",
    "ln=symbols('ln')\n",
    "#ln longitud del cono (nose) [m]\n",
    "ltc=symbols('ltc')\n",
    "#SLC superficie lateral del cono\n",
    "SLC=symbols('SLC')\n",
    "#SLTC superficie lateral de tronco cono\n",
    "SLTC=symbols('SLTC')\n",
    "\n",
    "#Sref superficie de referencia [m**2]\n",
    "Sref=symbols('Sref')\n",
    "#Q presión dinámica [N/m**2]\n",
    "Q=symbols('Q')\n",
    "#Coeficiente de resistencia de onda del cono [adim]\n",
    "CDWC=symbols('CDWC')\n",
    "#Coeficiente de resistencia de onda del cono [adim]\n",
    "CDWTC=symbols('CDWTC')\n",
    "\n"
   ]
  },
  {
   "cell_type": "code",
   "execution_count": 3,
   "metadata": {},
   "outputs": [],
   "source": [
    "M=2\n",
    "a=340\n",
    "rho=1.225\n",
    "#diámetro cono\n",
    "dc=0.25\n",
    "#diámetro tronco cono\n",
    "dtc=0.3\n",
    "ln=0.5\n",
    "ltc=0.05\n"
   ]
  },
  {
   "cell_type": "code",
   "execution_count": 4,
   "metadata": {},
   "outputs": [
    {
     "name": "stdout",
     "output_type": "stream",
     "text": [
      "Variación de coeficiente de resistencia= 0.170435073503886\n",
      "Variación de resistencia= 3412.04917374994 N\n"
     ]
    }
   ],
   "source": [
    "# un fuselaje tronco cónico solo modifica la resistencia de onda\n",
    "\n",
    "#Cálculo de resistencia de onda del cono\n",
    "#calculo del semiángulo del cono, es importante que esté en grados\n",
    "#este tronco cono no tiene el mismo ángulo que el cono\n",
    "\n",
    "delta0c=np.degrees(np.arctan((dtc-dc)/(2*(ltc))))\n",
    "\n",
    "#lne es la longitud del cono, no el real, sino la continuación del tronco cono, teórico\n",
    "lne=dtc/(2*tan(np.radians(delta0c)))\n",
    "\n",
    "#Cálculo del coef de resistencia, esta sería la del cono teórico del tronco cono\n",
    "CDWC=(0.083+(0.096/M**2))*(delta0c/10)**1.69\n",
    "\n",
    "#la superficie de referencia es la transversal de la base del cono\n",
    "Sref=pi*(dtc/2)**2\n",
    "\n",
    "#superficie lateral del cono, la que tendría si toda la longitud fuera cono\n",
    "SLC=pi*(dtc/2)*sqrt((dtc/2)**2+(lne)**2)\n",
    "\n",
    "#superficie lateral del tronco cono\n",
    "SLTC=SLC-pi*((dtc/2)*((lne-ltc)/lne))*sqrt(((dtc/2)*((lne-ltc)/lne))**2+(lne-ltc)**2)\n",
    "CDWTC=CDWC*(SLTC/SLC)\n",
    "\n",
    "\n",
    "Q=0.5*rho*(M*a)**2\n",
    "\n",
    "DWTC=Q*Sref*CDWTC\n",
    "\n",
    "#CDWTC es la variación del coeficiente de resistencia de onda\n",
    "#DWTC es la variación de resistencia de onda\n",
    "print('Variación de coeficiente de resistencia=',CDWTC.evalf())\n",
    "print('Variación de resistencia=',DWTC.evalf(),'N')"
   ]
  }
 ],
 "metadata": {
  "kernelspec": {
   "display_name": "Python 3",
   "language": "python",
   "name": "python3"
  },
  "language_info": {
   "codemirror_mode": {
    "name": "ipython",
    "version": 3
   },
   "file_extension": ".py",
   "mimetype": "text/x-python",
   "name": "python",
   "nbconvert_exporter": "python",
   "pygments_lexer": "ipython3",
   "version": "3.6.4"
  }
 },
 "nbformat": 4,
 "nbformat_minor": 2
}
