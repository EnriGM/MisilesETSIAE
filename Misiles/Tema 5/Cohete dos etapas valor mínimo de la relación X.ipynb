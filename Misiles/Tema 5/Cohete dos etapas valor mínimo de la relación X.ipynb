{
 "cells": [
  {
   "cell_type": "markdown",
   "metadata": {},
   "source": [
    "Parcial 2015 ejercicio5\n",
    "\n",
    "Un vehículo de dos etapas emplea un propulsante sólido para el primer escalon de 260s de Isp1, y un propulsante liquido de 395s para el motor del segundo escalón, los factores estructurales de cada escalón son constantes de valores 0,20 y 0,15. Calcúlese la masa de propulsante requerida para cada etapa de manera que la relación X, masa inicial a masa carga útil sea mínima, optimizando los valores de las relaciones x1 y x2 de cada escalón. Se quiere inyectar una carga útil de 170kg en órbita, con un incremento de velocidad total de 9,8km/s (incluyendo en este valor las pérdidas por gravedad y resistencia aerodinámica, así como el incremento debido a la rotación de la Tierra en el lanzamiento, g0=9.81m/s**2)\n"
   ]
  },
  {
   "cell_type": "code",
   "execution_count": 1,
   "metadata": {},
   "outputs": [],
   "source": [
    "#primero importamos\n",
    "import numpy as np\n",
    "#importar numpy para calculo numérico\n",
    "from sympy import *\n",
    "#importar sympy para calculo simbolico\n",
    "init_printing(use_latex=True)\n",
    "#importar optimize para resolver numericamente \n",
    "from scipy import optimize"
   ]
  },
  {
   "cell_type": "code",
   "execution_count": 2,
   "metadata": {},
   "outputs": [],
   "source": [
    "#declaramos variables\n",
    "#Ispn Impulso específico [s]\n",
    "Isp1 = symbols('Isp1')\n",
    "Isp2 = symbols('Isp2')\n",
    "Isp3 = symbols('Isp2')\n",
    "#σi factor estructural [adimensional]\n",
    "o1 = symbols('o1')\n",
    "o2 = symbols('o2')\n",
    "o3 = symbols('o3')\n",
    "#xi relaciones másicas [adimensional] x1=m01/m02 x2=m02/mo3 x3=m03/mpl\n",
    "x1 = symbols('x1')\n",
    "x2 = symbols('x2')\n",
    "x3 = symbols('x3')\n",
    "#X relación másica misil [adimensional]\n",
    "X = symbols('X')\n",
    "#masa carga util (pay load) mpl [kg]\n",
    "mpl = symbols('mpl')\n",
    "#incremento total de velocidad [m/s]\n",
    "VIexpresion = Function('VI')(x1)\n",
    "#VIdato = symbols('VIdato')\n",
    "#mi masa etapa [kg]\n",
    "m1 = symbols('m1')\n",
    "m2 = symbols('m2')\n",
    "m3 = symbols('m3')\n",
    "#m0i masa inicial de etapa [kg]\n",
    "m01 = symbols('m01')\n",
    "m02 = symbols('m02')\n",
    "m03 = symbols('m03')\n",
    "#mpi masa propulsante etapa [kg] mpi=mi(1-σi)\n",
    "mp1 = symbols('mp1')\n",
    "mp2 = symbols('mp2')\n",
    "mp3 = symbols('mp3')\n",
    "#g0 gravedad g0=9,81m/s2\n",
    "g0 = symbols('g0')\n",
    "#cosas propias de los problemas en los que hay que calcular Vi\n",
    "#altura h [m]\n",
    "h = symbols('h')\n",
    "#Radio de la tierra [m]\n",
    "R = symbols('R')\n",
    "#wt velocidad de rotacion de la tierra [rad/s]\n",
    "wt = symbols('wt')\n",
    "#mu constante gravitacional de la Tierra [mu]\n",
    "mu = symbols('mu')\n",
    "#Vorb Velocidad orbital [m/s]\n",
    "Vorb = symbols('Vorb')\n",
    "#Vrot Velocidad rotacion [m/s]\n",
    "Vrot = symbols('Vrot')\n",
    "#Vloss Velocidad de perdida [m/s]\n",
    "Vloss = symbols('Vloss')"
   ]
  },
  {
   "cell_type": "code",
   "execution_count": 3,
   "metadata": {},
   "outputs": [],
   "source": [
    "Vi=9800\n",
    "\n",
    "Isp1=260\n",
    "Isp2=395\n",
    "\n",
    "mpl=170\n",
    "\n",
    "o1=0.20\n",
    "o2=0.15\n",
    "\n",
    "g0=9.81"
   ]
  },
  {
   "cell_type": "code",
   "execution_count": 4,
   "metadata": {
    "scrolled": true
   },
   "outputs": [
    {
     "data": {
      "image/png": "[encoded data removed]",
      "text/latex": [
       "$$- \\frac{52.0 x_{1}}{0.2 x_{1} + 0.8} + 260 = - \\frac{59.25 x_{2}}{0.15 x_{2} + 0.85} + 395$$"
      ],
      "text/plain": [
       "    52.0⋅x₁                 59.25⋅x₂         \n",
       "- ──────────── + 260 = - ────────────── + 395\n",
       "  0.2⋅x₁ + 0.8           0.15⋅x₂ + 0.85      "
      ]
     },
     "execution_count": 4,
     "metadata": {},
     "output_type": "execute_result"
    }
   ],
   "source": [
    "#Ecauciones que relacionan las etapas\n",
    "f1=Eq(Isp1*(1-o1*(x1/(o1*x1+(1-o1)))),Isp2*(1-o2*(x2/(o2*x2+(1-o2)))))\n",
    "\n",
    "f1"
   ]
  },
  {
   "cell_type": "code",
   "execution_count": 5,
   "metadata": {},
   "outputs": [
    {
     "data": {
      "image/png": "[encoded data removed]",
      "text/latex": [
       "$$2.15224358974359 x_{1} + 2.94230769230769$$"
      ],
      "text/plain": [
       "2.15224358974359⋅x₁ + 2.94230769230769"
      ]
     },
     "execution_count": 5,
     "metadata": {},
     "output_type": "execute_result"
    }
   ],
   "source": [
    "#hayamos relaciones entre las x\n",
    "#el output de un solve es una lista de symbols, por eso debo guardar un elemento en una nueva variable\n",
    "x2sol = solve(f1,x2)\n",
    "x2=x2sol[0]\n",
    "x2"
   ]
  },
  {
   "cell_type": "code",
   "execution_count": 6,
   "metadata": {},
   "outputs": [
    {
     "data": {
      "image/png": "[encoded data removed]",
      "text/latex": [
       "$$2550.6 \\log{\\left (\\frac{x_{1}}{0.2 x_{1} + 0.8} \\right )} + 3874.95 \\log{\\left (\\frac{2.15224358974359 x_{1} + 2.94230769230769}{0.322836538461538 x_{1} + 1.29134615384615} \\right )} - 9800$$"
      ],
      "text/plain": [
       "          ⎛     x₁     ⎞              ⎛ 2.15224358974359⋅x₁ + 2.94230769230769\n",
       "2550.6⋅log⎜────────────⎟ + 3874.95⋅log⎜───────────────────────────────────────\n",
       "          ⎝0.2⋅x₁ + 0.8⎠              ⎝0.322836538461538⋅x₁ + 1.29134615384615\n",
       "\n",
       "⎞       \n",
       "⎟ - 9800\n",
       "⎠       "
      ]
     },
     "execution_count": 6,
     "metadata": {},
     "output_type": "execute_result"
    }
   ],
   "source": [
    "#definimos la ecuación de Vi (puesta para iteral)\n",
    "f3=g0*(Isp1*log(x1/(o1*x1+(1-o1)))+Isp2*log(x2/(o2*x2+(1-o2))))-Vi\n",
    "f3"
   ]
  },
  {
   "cell_type": "code",
   "execution_count": 7,
   "metadata": {},
   "outputs": [],
   "source": [
    "#preparamos f3 para resolver numericamente\n",
    "f3sol=lambdify(x1,f3)"
   ]
  },
  {
   "cell_type": "code",
   "execution_count": 8,
   "metadata": {},
   "outputs": [],
   "source": [
    "#resolvemos iterando para x1\n",
    "x1= optimize.newton(f3sol,1)"
   ]
  },
  {
   "cell_type": "code",
   "execution_count": 9,
   "metadata": {},
   "outputs": [
    {
     "name": "stdout",
     "output_type": "stream",
     "text": [
      "x1= 10.067661146491792     x2= 24.6103668585552    \n",
      "X= 247.768834222786\n",
      "m01= 42120.7018178736 kg     m02= 4183.76236595439 kg    \n",
      "m1= 37936.9394519192 kg      m2= 4013.76236595439 kg     \n",
      "mp1= 30349.5515615354 kg     mp2= 3411.69801106123 kg     \n"
     ]
    }
   ],
   "source": [
    "#print de soluciones y calculo de masas\n",
    "\n",
    "#sustituyo el valor numerico de x1\n",
    "x2=x2.subs('x1',x1)\n",
    "\n",
    "X = x1*x2\n",
    "\n",
    "m02=mpl*x2\n",
    "m01=m02*x1\n",
    "\n",
    "m1=m01-m02\n",
    "m2=m02-mpl\n",
    "\n",
    "mp1=m1*(1-o1)\n",
    "mp2=m2*(1-o2)\n",
    "\n",
    "\n",
    "print('x1=',x1,'   ','x2=',x2,'   ')\n",
    "print('X=',X)\n",
    "print('m01=',m01,'kg','   ','m02=',m02,'kg','   ')\n",
    "print('m1=',m1,'kg','    ','m2=',m2,'kg','    ')\n",
    "print('mp1=',mp1,'kg','   ','mp2=',mp2,'kg','    ')"
   ]
  },
  {
   "cell_type": "code",
   "execution_count": null,
   "metadata": {},
   "outputs": [],
   "source": []
  }
 ],
 "metadata": {
  "kernelspec": {
   "display_name": "Python 3",
   "language": "python",
   "name": "python3"
  },
  "language_info": {
   "codemirror_mode": {
    "name": "ipython",
    "version": 3
   },
   "file_extension": ".py",
   "mimetype": "text/x-python",
   "name": "python",
   "nbconvert_exporter": "python",
   "pygments_lexer": "ipython3",
   "version": "3.6.4"
  }
 },
 "nbformat": 4,
 "nbformat_minor": 2
}
