{
 "cells": [
  {
   "cell_type": "markdown",
   "metadata": {},
   "source": [
    "Ejercicio clase 2017\n",
    "\n",
    "Determínese el valor mínimo de la relación X=W0/WPL , las masas iniciales de cada etapa, las masas de cada escalón y las masas de propulsante en cada uno de ellos para dicho valor mínimo, de un vehículo de tres etapas, cuya misión sería situar en órbita circular de altitud 200km, una carga de pago de 2.000kg, en un lanzamiento hacia el Este desde una base situada en el Ecuador Terrestre. Las relaciones estructurales de los escalones primero, segundo y tercero son iguales a 0,1 y los propulsantes tienen impulsos específicos de 250, 300 y 350s respectivamente.\n",
    "Considérese:\n",
    "- Pérdidas de velocidad por gravedad y resistencia aerodinámica 1.800m/s. \n",
    "- velocidad de rotación de la Tierra ωT = 7,2722e-5 rad/s.\n",
    "- Radio de la Tierra = 6.370km.\n",
    "- Constante gravitacional de la Tierra μ= 398600,4418km3/s2,\n",
    "- g0 = 9,81m/s2."
   ]
  },
  {
   "cell_type": "code",
   "execution_count": 1,
   "metadata": {},
   "outputs": [],
   "source": [
    "#primero importamos\n",
    "import numpy as np\n",
    "#importar numpy para calculo numérico\n",
    "from sympy import *\n",
    "#importar sympy para calculo simbolico\n",
    "init_printing(use_latex=True)\n",
    "#importar optimize para resolver numericamente \n",
    "from scipy import optimize"
   ]
  },
  {
   "cell_type": "code",
   "execution_count": 2,
   "metadata": {},
   "outputs": [],
   "source": [
    "#declaramos variables\n",
    "#Ispn Impulso específico [s]\n",
    "Isp1 = symbols('Isp1')\n",
    "Isp2 = symbols('Isp2')\n",
    "Isp3 = symbols('Isp2')\n",
    "#σi factor estructural [adimensional]\n",
    "o1 = symbols('o1')\n",
    "o2 = symbols('o2')\n",
    "o3 = symbols('o3')\n",
    "#xi relaciones másicas [adimensional] x1=m01/m02 x2=m02/mo3 x3=m03/mpl\n",
    "x1 = symbols('x1')\n",
    "x2 = symbols('x2')\n",
    "x3 = symbols('x3')\n",
    "#X relación másica misil [adimensional]\n",
    "X = symbols('X')\n",
    "#masa carga util (pay load) mpl [kg]\n",
    "mpl = symbols('mpl')\n",
    "#incremento total de velocidad [m/s]\n",
    "VIexpresion = Function('VI')(x1)\n",
    "#VIdato = symbols('VIdato')\n",
    "#mi masa etapa [kg]\n",
    "m1 = symbols('m1')\n",
    "m2 = symbols('m2')\n",
    "m3 = symbols('m3')\n",
    "#m0i masa inicial de etapa [kg]\n",
    "m01 = symbols('m01')\n",
    "m02 = symbols('m02')\n",
    "m03 = symbols('m03')\n",
    "#mpi masa propulsante etapa [kg] mpi=mi(1-σi)\n",
    "mp1 = symbols('mp1')\n",
    "mp2 = symbols('mp2')\n",
    "mp3 = symbols('mp3')\n",
    "#g0 gravedad g0=9,81m/s2\n",
    "g0 = symbols('g0')\n",
    "#cosas propias de los problemas en los que hay que calcular Vi\n",
    "#altura h [m]\n",
    "h = symbols('h')\n",
    "#Radio de la tierra [m]\n",
    "R = symbols('R')\n",
    "#wt velocidad de rotacion de la tierra [rad/s]\n",
    "wt = symbols('wt')\n",
    "#mu constante gravitacional de la Tierra [mu]\n",
    "mu = symbols('mu')\n",
    "#Vorb Velocidad orbital [m/s]\n",
    "Vorb = symbols('Vorb')\n",
    "#Vrot Velocidad rotacion [m/s]\n",
    "Vrot = symbols('Vrot')\n",
    "#Vloss Velocidad de perdida [m/s]\n",
    "Vloss = symbols('Vloss')"
   ]
  },
  {
   "cell_type": "markdown",
   "metadata": {},
   "source": [
    "#ecuaciones propias del problema\n",
    "\n",
    "Vi=Vorb-Vrot+Vloss\n",
    "\n",
    "Vrot=wt*R\n",
    "Vorb=(mu/(R+h))**0.5\n",
    "\n",
    "\n",
    "\n",
    "\n",
    "\n",
    "X = x1*x2*x3\n",
    "\n",
    "m03=mpl*x3\n",
    "m02=m03*x2\n",
    "m01=m02*x1\n",
    "\n",
    "m1=m01-m02\n",
    "m2=m02-m03\n",
    "m3=m03-mpl\n",
    "\n",
    "mp1=m1*(1-o1)\n",
    "mp2=m2*(1-o2)\n",
    "mp3=m3*(1-o3)\n",
    "\n",
    "\n",
    "\n",
    "f1=Eq(Isp1*(1-o1*(x1/(o1*x1+(1-o1)))),Isp2*(1-o2*(x2/(o2*x2+(1-o2)))))\n",
    "\n",
    "f2=Eq(Isp2*(1-o2*(x2/(o2*x2+(1-o2)))),Isp3*(1-o3*(x3/(o3*x3+(1-o3)))))\n",
    "\n",
    "\n",
    "f3=Eq(g0*(Isp1*log(x1/(o1*x1+(1-o1)))+Isp2*log(x2/(o2*x2+(1-o2)))+Isp3*log(x3/(o3*x3+(1-o3)))),Vi)\n"
   ]
  },
  {
   "cell_type": "code",
   "execution_count": 3,
   "metadata": {},
   "outputs": [],
   "source": [
    "R=6370000 #en metros\n",
    "wt=7.2722e-5\n",
    "mu=398600.4418e9\n",
    "\n",
    "Vloss=1800\n",
    "h=200000\n",
    "\n",
    "Isp1=250\n",
    "Isp2=300\n",
    "Isp3=350\n",
    "\n",
    "mpl=2000\n",
    "\n",
    "o1=0.1\n",
    "o2=0.1\n",
    "o3=0.1\n",
    "\n",
    "g0=9.81"
   ]
  },
  {
   "cell_type": "code",
   "execution_count": 4,
   "metadata": {},
   "outputs": [
    {
     "data": {
      "image/png": "[encoded data removed]",
      "text/latex": [
       "$$9125.841553621705$$"
      ],
      "text/plain": [
       "9125.841553621705"
      ]
     },
     "execution_count": 4,
     "metadata": {},
     "output_type": "execute_result"
    }
   ],
   "source": [
    "#Ecuaciones para obtener Vi de lanzamiento\n",
    "\n",
    "Vorb=(mu/(R+h))**0.5\n",
    "Vrot=wt*R\n",
    "Vi=Vorb-Vrot+Vloss\n",
    "Vi"
   ]
  },
  {
   "cell_type": "code",
   "execution_count": 8,
   "metadata": {
    "scrolled": true
   },
   "outputs": [
    {
     "data": {
      "image/png": "[encoded data removed]",
      "text/latex": [
       "$$\\left ( - \\frac{25.0 x_{1}}{0.1 x_{1} + 0.9} + 250 = - \\frac{30.0 x_{2}}{0.1 x_{2} + 0.9} + 300, \\quad - \\frac{30.0 x_{2}}{0.1 x_{2} + 0.9} + 300 = - \\frac{35.0 x_{3}}{0.1 x_{3} + 0.9} + 350, \\quad 2452.5 \\log{\\left (\\frac{x_{1}}{0.1 x_{1} + 0.9} \\right )} + 2943.0 \\log{\\left (\\frac{x_{2}}{0.1 x_{2} + 0.9} \\right )} + 3433.5 \\log{\\left (\\frac{x_{3}}{0.1 x_{3} + 0.9} \\right )} = 9125.84155362171\\right )$$"
      ],
      "text/plain": [
       "⎛    25.0⋅x₁                30.0⋅x₂               30.0⋅x₂                35.0⋅\n",
       "⎜- ──────────── + 250 = - ──────────── + 300, - ──────────── + 300 = - ───────\n",
       "⎝  0.1⋅x₁ + 0.9           0.1⋅x₂ + 0.9          0.1⋅x₂ + 0.9           0.1⋅x₃ \n",
       "\n",
       "x₃                     ⎛     x₁     ⎞             ⎛     x₂     ⎞             ⎛\n",
       "───── + 350, 2452.5⋅log⎜────────────⎟ + 2943.0⋅log⎜────────────⎟ + 3433.5⋅log⎜\n",
       "+ 0.9                  ⎝0.1⋅x₁ + 0.9⎠             ⎝0.1⋅x₂ + 0.9⎠             ⎝\n",
       "\n",
       "     x₃     ⎞                   ⎞\n",
       "────────────⎟ = 9125.84155362171⎟\n",
       "0.1⋅x₃ + 0.9⎠                   ⎠"
      ]
     },
     "execution_count": 8,
     "metadata": {},
     "output_type": "execute_result"
    }
   ],
   "source": [
    "#Ecauciones que relacionan las etapas\n",
    "f1=Eq(Isp1*(1-o1*(x1/(o1*x1+(1-o1)))),Isp2*(1-o2*(x2/(o2*x2+(1-o2)))))\n",
    "\n",
    "f2=Eq(Isp2*(1-o2*(x2/(o2*x2+(1-o2)))),Isp3*(1-o3*(x3/(o3*x3+(1-o3)))))\n",
    "\n",
    "\n",
    "f1,f2"
   ]
  },
  {
   "cell_type": "code",
   "execution_count": 9,
   "metadata": {},
   "outputs": [
    {
     "data": {
      "image/png": "[encoded data removed]",
      "text/latex": [
       "$$\\left ( 1.2 x_{1} + 1.8, \\quad 1.4 x_{1} + 3.6\\right )$$"
      ],
      "text/plain": [
       "(1.2⋅x₁ + 1.8, 1.4⋅x₁ + 3.6)"
      ]
     },
     "execution_count": 9,
     "metadata": {},
     "output_type": "execute_result"
    }
   ],
   "source": [
    "#hayamos relaciones entre las x\n",
    "#el output de un solve es una lista de symbols, por eso debo guardar un elemento en una nueva variable\n",
    "x2sol = solve(f1,x2)\n",
    "x3sol = solve(f2,x3)\n",
    "x2=x2sol[0]\n",
    "x3=x3sol[0]\n",
    "x3 = x3.subs('x2',x2)\n",
    "\n",
    "x2,x3"
   ]
  },
  {
   "cell_type": "code",
   "execution_count": 10,
   "metadata": {},
   "outputs": [
    {
     "data": {
      "image/png": "[encoded data removed]",
      "text/latex": [
       "$$2452.5 \\log{\\left (\\frac{x_{1}}{0.1 x_{1} + 0.9} \\right )} + 2943.0 \\log{\\left (\\frac{1.2 x_{1} + 1.8}{0.12 x_{1} + 1.08} \\right )} + 3433.5 \\log{\\left (\\frac{1.4 x_{1} + 3.6}{0.14 x_{1} + 1.26} \\right )} - 9125.84155362171$$"
      ],
      "text/plain": [
       "          ⎛     x₁     ⎞             ⎛ 1.2⋅x₁ + 1.8 ⎞             ⎛ 1.4⋅x₁ + 3\n",
       "2452.5⋅log⎜────────────⎟ + 2943.0⋅log⎜──────────────⎟ + 3433.5⋅log⎜───────────\n",
       "          ⎝0.1⋅x₁ + 0.9⎠             ⎝0.12⋅x₁ + 1.08⎠             ⎝0.14⋅x₁ + 1\n",
       "\n",
       ".6 ⎞                   \n",
       "───⎟ - 9125.84155362171\n",
       ".26⎠                   "
      ]
     },
     "execution_count": 10,
     "metadata": {},
     "output_type": "execute_result"
    }
   ],
   "source": [
    "#definimos la ecuación de Vi (puesta para iteral)\n",
    "f3=g0*(Isp1*log(x1/(o1*x1+(1-o1)))+Isp2*log(x2/(o2*x2+(1-o2)))+Isp3*log(x3/(o3*x3+(1-o3))))-Vi\n",
    "f3"
   ]
  },
  {
   "cell_type": "code",
   "execution_count": 11,
   "metadata": {},
   "outputs": [],
   "source": [
    "#preparamos f3 para resolver numericamente\n",
    "f3sol=lambdify(x1,f3)"
   ]
  },
  {
   "cell_type": "code",
   "execution_count": 12,
   "metadata": {},
   "outputs": [
    {
     "data": {
      "image/png": "[encoded data removed]",
      "text/latex": [
       "$$1.7057398177555982$$"
      ],
      "text/plain": [
       "1.7057398177555982"
      ]
     },
     "execution_count": 12,
     "metadata": {},
     "output_type": "execute_result"
    }
   ],
   "source": [
    "#resolvemos iterando para x1\n",
    "x1= optimize.newton(f3sol,1)\n"
   ]
  },
  {
   "cell_type": "code",
   "execution_count": 17,
   "metadata": {},
   "outputs": [
    {
     "name": "stdout",
     "output_type": "stream",
     "text": [
      "x1= 1.7057398177555982     x2= 3.84688778130672     x3= 5.98803574485784    \n",
      "X= 39.2922310523567\n",
      "m01= 78584.4621047133 kg     m02= 46070.6030818430 kg     m03= 11976.0714897157 kg\n",
      "m1= 32513.8590228704 kg      m2= 34094.5315921273 kg      m3= 9976.07148971568 kg\n",
      "mp1= 29262.4731205833 kg     mp2= 30685.0784329146 kg      mp3= 8978.46434074411 kg\n"
     ]
    }
   ],
   "source": [
    "#print de soluciones y calculo de masas\n",
    "\n",
    "#sustituyo el valor numerico de x1\n",
    "x2=x2.subs('x1',x1)\n",
    "x3=x3.subs('x1',x1)\n",
    "\n",
    "X = x1*x2*x3\n",
    "\n",
    "m03=mpl*x3\n",
    "m02=m03*x2\n",
    "m01=m02*x1\n",
    "\n",
    "m1=m01-m02\n",
    "m2=m02-m03\n",
    "m3=m03-mpl\n",
    "\n",
    "mp1=m1*(1-o1)\n",
    "mp2=m2*(1-o2)\n",
    "mp3=m3*(1-o3)\n",
    "\n",
    "\n",
    "\n",
    "print('x1=',x1,'   ','x2=',x2,'   ','x3=',x3,'   ')\n",
    "print('X=',X)\n",
    "print('m01=',m01,'kg','   ','m02=',m02,'kg','   ','m03=',m03,'kg')\n",
    "print('m1=',m1,'kg','    ','m2=',m2,'kg','    ','m3=',m3,'kg')\n",
    "print('mp1=',mp1,'kg','   ','mp2=',mp2,'kg','    ','mp3=',mp3,'kg')"
   ]
  },
  {
   "cell_type": "code",
   "execution_count": null,
   "metadata": {},
   "outputs": [],
   "source": []
  }
 ],
 "metadata": {
  "kernelspec": {
   "display_name": "Python 3",
   "language": "python",
   "name": "python3"
  },
  "language_info": {
   "codemirror_mode": {
    "name": "ipython",
    "version": 3
   },
   "file_extension": ".py",
   "mimetype": "text/x-python",
   "name": "python",
   "nbconvert_exporter": "python",
   "pygments_lexer": "ipython3",
   "version": "3.6.4"
  }
 },
 "nbformat": 4,
 "nbformat_minor": 2
}
