{
 "cells": [
  {
   "cell_type": "markdown",
   "metadata": {},
   "source": [
    "Parcial 2017 \n",
    "\n",
    "Determínese el valor mínimo de la relación X=W0/WPL, las masas iniciales de cada etapa, las masas de cada escalón y las masas de propulsante en cada uno de ellos para dicho valor mínimo de X, de un vehículo de tres etapas, cuya misión sería situar en órbita circular, una carga de pago de 900 kg. Las relaciones estructurales de los escalones primero, segundo y tercero son iguales a 0,1 y los impulsos específicos de los propulsantes utilizados son de 230 s, 270 s y 380 s respectivamente.\n",
    "Considérese:\n",
    "- Velocidad ideal requerida 9,9 km/s., incluyendo en este valor las velocidades orbital, pérdidas por gravedad y resistencia aerodinámica, y la debida a la rotación de la Tierra.\n",
    "- g0 = 9,81m/s2. Error permitido en la velocidad orbital < 1 m /s\n",
    "\n"
   ]
  },
  {
   "cell_type": "code",
   "execution_count": 1,
   "metadata": {},
   "outputs": [],
   "source": [
    "#primero importamos\n",
    "import numpy as np\n",
    "#importar numpy para calculo numérico\n",
    "from sympy import *\n",
    "#importar sympy para calculo simbolico\n",
    "init_printing(use_latex=True)\n",
    "#importar optimize para resolver numericamente \n",
    "from scipy import optimize"
   ]
  },
  {
   "cell_type": "code",
   "execution_count": 2,
   "metadata": {},
   "outputs": [],
   "source": [
    "#declaramos variables\n",
    "#Ispn Impulso específico [s]\n",
    "Isp1 = symbols('Isp1')\n",
    "Isp2 = symbols('Isp2')\n",
    "Isp3 = symbols('Isp2')\n",
    "#σi factor estructural [adimensional]\n",
    "o1 = symbols('o1')\n",
    "o2 = symbols('o2')\n",
    "o3 = symbols('o3')\n",
    "#xi relaciones másicas [adimensional] x1=m01/m02 x2=m02/mo3 x3=m03/mpl\n",
    "x1 = symbols('x1')\n",
    "x2 = symbols('x2')\n",
    "x3 = symbols('x3')\n",
    "#X relación másica misil [adimensional]\n",
    "X = symbols('X')\n",
    "#masa carga util (pay load) mpl [kg]\n",
    "mpl = symbols('mpl')\n",
    "#incremento total de velocidad [m/s]\n",
    "VIexpresion = Function('VI')(x1)\n",
    "#VIdato = symbols('VIdato')\n",
    "#mi masa etapa [kg]\n",
    "m1 = symbols('m1')\n",
    "m2 = symbols('m2')\n",
    "m3 = symbols('m3')\n",
    "#m0i masa inicial de etapa [kg]\n",
    "m01 = symbols('m01')\n",
    "m02 = symbols('m02')\n",
    "m03 = symbols('m03')\n",
    "#mpi masa propulsante etapa [kg] mpi=mi(1-σi)\n",
    "mp1 = symbols('mp1')\n",
    "mp2 = symbols('mp2')\n",
    "mp3 = symbols('mp3')\n",
    "#g0 gravedad g0=9,81m/s2\n",
    "g0 = symbols('g0')\n",
    "#cosas propias de los problemas en los que hay que calcular Vi\n",
    "#altura h [m]\n",
    "h = symbols('h')\n",
    "#Radio de la tierra [m]\n",
    "R = symbols('R')\n",
    "#wt velocidad de rotacion de la tierra [rad/s]\n",
    "wt = symbols('wt')\n",
    "#mu constante gravitacional de la Tierra [mu]\n",
    "mu = symbols('mu')\n",
    "#Vorb Velocidad orbital [m/s]\n",
    "Vorb = symbols('Vorb')\n",
    "#Vrot Velocidad rotacion [m/s]\n",
    "Vrot = symbols('Vrot')\n",
    "#Vloss Velocidad de perdida [m/s]\n",
    "Vloss = symbols('Vloss')"
   ]
  },
  {
   "cell_type": "markdown",
   "metadata": {},
   "source": [
    "#ecuaciones propias del problema\n",
    "\n",
    "Vi=Vorb-Vrot+Vloss\n",
    "\n",
    "Vrot=wt*R\n",
    "Vorb=(mu/(R+h))**0.5\n",
    "\n",
    "\n",
    "\n",
    "\n",
    "\n",
    "X = x1*x2*x3\n",
    "\n",
    "m03=mpl*x3\n",
    "m02=m03*x2\n",
    "m01=m02*x1\n",
    "\n",
    "m1=m01-m02\n",
    "m2=m02-m03\n",
    "m3=m03-mpl\n",
    "\n",
    "mp1=m1*(1-o1)\n",
    "mp2=m2*(1-o2)\n",
    "mp3=m3*(1-o3)\n",
    "\n",
    "\n",
    "\n",
    "f1=Eq(Isp1*(1-o1*(x1/(o1*x1+(1-o1)))),Isp2*(1-o2*(x2/(o2*x2+(1-o2)))))\n",
    "\n",
    "f2=Eq(Isp2*(1-o2*(x2/(o2*x2+(1-o2)))),Isp3*(1-o3*(x3/(o3*x3+(1-o3)))))\n",
    "\n",
    "\n",
    "f3=Eq(g0*(Isp1*log(x1/(o1*x1+(1-o1)))+Isp2*log(x2/(o2*x2+(1-o2)))+Isp3*log(x3/(o3*x3+(1-o3)))),Vi)\n"
   ]
  },
  {
   "cell_type": "code",
   "execution_count": 3,
   "metadata": {},
   "outputs": [],
   "source": [
    "#R=6370000 #en metros\n",
    "#wt=7.2722e-5\n",
    "#mu=398600.4418e9\n",
    "\n",
    "#Vloss=1900\n",
    "#h=300000\n",
    "\n",
    "Isp1=230\n",
    "Isp2=270\n",
    "Isp3=380\n",
    "\n",
    "mpl=900\n",
    "\n",
    "o1=0.1\n",
    "o2=0.1\n",
    "o3=0.1\n",
    "\n",
    "g0=9.81"
   ]
  },
  {
   "cell_type": "code",
   "execution_count": 4,
   "metadata": {},
   "outputs": [],
   "source": [
    "#Ecuaciones para obtener Vi de lanzamiento\n",
    "\n",
    "#Vorb=(mu/(R+h))**0.5\n",
    "#Vrot=wt*R\n",
    "#Vi=Vorb-Vrot+Vloss\n",
    "Vi=9900"
   ]
  },
  {
   "cell_type": "code",
   "execution_count": 5,
   "metadata": {
    "scrolled": true
   },
   "outputs": [
    {
     "data": {
      "image/png": "[encoded data removed]",
      "text/latex": [
       "$$\\left ( - \\frac{23.0 x_{1}}{0.1 x_{1} + 0.9} + 230 = - \\frac{27.0 x_{2}}{0.1 x_{2} + 0.9} + 270, \\quad - \\frac{27.0 x_{2}}{0.1 x_{2} + 0.9} + 270 = - \\frac{38.0 x_{3}}{0.1 x_{3} + 0.9} + 380\\right )$$"
      ],
      "text/plain": [
       "⎛    23.0⋅x₁                27.0⋅x₂               27.0⋅x₂                38.0⋅\n",
       "⎜- ──────────── + 230 = - ──────────── + 270, - ──────────── + 270 = - ───────\n",
       "⎝  0.1⋅x₁ + 0.9           0.1⋅x₂ + 0.9          0.1⋅x₂ + 0.9           0.1⋅x₃ \n",
       "\n",
       "x₃         ⎞\n",
       "───── + 380⎟\n",
       "+ 0.9      ⎠"
      ]
     },
     "execution_count": 5,
     "metadata": {},
     "output_type": "execute_result"
    }
   ],
   "source": [
    "#Ecauciones que relacionan las etapas\n",
    "f1=Eq(Isp1*(1-o1*(x1/(o1*x1+(1-o1)))),Isp2*(1-o2*(x2/(o2*x2+(1-o2)))))\n",
    "\n",
    "f2=Eq(Isp2*(1-o2*(x2/(o2*x2+(1-o2)))),Isp3*(1-o3*(x3/(o3*x3+(1-o3)))))\n",
    "\n",
    "\n",
    "f1,f2"
   ]
  },
  {
   "cell_type": "code",
   "execution_count": 6,
   "metadata": {},
   "outputs": [
    {
     "data": {
      "image/png": "[encoded data removed]",
      "text/latex": [
       "$$\\left ( 1.17391304347826 x_{1} + 1.56521739130435, \\quad 1.65217391304348 x_{1} + 5.8695652173913\\right )$$"
      ],
      "text/plain": [
       "(1.17391304347826⋅x₁ + 1.56521739130435, 1.65217391304348⋅x₁ + 5.8695652173913\n",
       ")"
      ]
     },
     "execution_count": 6,
     "metadata": {},
     "output_type": "execute_result"
    }
   ],
   "source": [
    "#hayamos relaciones entre las x\n",
    "#el output de un solve es una lista de symbols, por eso debo guardar un elemento en una nueva variable\n",
    "x2sol = solve(f1,x2)\n",
    "x3sol = solve(f2,x3)\n",
    "x2=x2sol[0]\n",
    "x3=x3sol[0]\n",
    "x3 = x3.subs('x2',x2)\n",
    "\n",
    "x2,x3"
   ]
  },
  {
   "cell_type": "code",
   "execution_count": 7,
   "metadata": {},
   "outputs": [
    {
     "data": {
      "image/png": "[encoded data removed]",
      "text/latex": [
       "$$2256.3 \\log{\\left (\\frac{x_{1}}{0.1 x_{1} + 0.9} \\right )} + 2648.7 \\log{\\left (\\frac{1.17391304347826 x_{1} + 1.56521739130435}{0.117391304347826 x_{1} + 1.05652173913043} \\right )} + 3727.8 \\log{\\left (\\frac{1.65217391304348 x_{1} + 5.8695652173913}{0.165217391304348 x_{1} + 1.48695652173913} \\right )} - 9900$$"
      ],
      "text/plain": [
       "          ⎛     x₁     ⎞             ⎛ 1.17391304347826⋅x₁ + 1.56521739130435⎞\n",
       "2256.3⋅log⎜────────────⎟ + 2648.7⋅log⎜───────────────────────────────────────⎟\n",
       "          ⎝0.1⋅x₁ + 0.9⎠             ⎝0.117391304347826⋅x₁ + 1.05652173913043⎠\n",
       "\n",
       "             ⎛ 1.65217391304348⋅x₁ + 5.8695652173913 ⎞       \n",
       " + 3727.8⋅log⎜───────────────────────────────────────⎟ - 9900\n",
       "             ⎝0.165217391304348⋅x₁ + 1.48695652173913⎠       "
      ]
     },
     "execution_count": 7,
     "metadata": {},
     "output_type": "execute_result"
    }
   ],
   "source": [
    "#definimos la ecuación de Vi (puesta para iteral)\n",
    "f3=g0*(Isp1*log(x1/(o1*x1+(1-o1)))+Isp2*log(x2/(o2*x2+(1-o2)))+Isp3*log(x3/(o3*x3+(1-o3))))-Vi\n",
    "f3"
   ]
  },
  {
   "cell_type": "code",
   "execution_count": 8,
   "metadata": {},
   "outputs": [],
   "source": [
    "#preparamos f3 para resolver numericamente\n",
    "f3sol=lambdify(x1,f3)"
   ]
  },
  {
   "cell_type": "code",
   "execution_count": 9,
   "metadata": {},
   "outputs": [],
   "source": [
    "#resolvemos iterando para x1\n",
    "x1= optimize.newton(f3sol,1)\n"
   ]
  },
  {
   "cell_type": "code",
   "execution_count": 10,
   "metadata": {},
   "outputs": [
    {
     "name": "stdout",
     "output_type": "stream",
     "text": [
      "x1= 1.7797538747295814     x2= 3.65449367903038     x3= 8.81002814085757    \n",
      "X= 57.3012977355618\n",
      "m01= 51571.1679620056 kg     m02= 28976.5729375594 kg     m03= 7929.02532677181 kg\n",
      "m1= 22594.5950244463 kg      m2= 21047.5476107876 kg      m3= 7029.02532677181 kg\n",
      "mp1= 20335.1355220016 kg     mp2= 18942.7928497088 kg      mp3= 6326.12279409463 kg\n"
     ]
    }
   ],
   "source": [
    "#print de soluciones y calculo de masas\n",
    "\n",
    "#sustituyo el valor numerico de x1\n",
    "x2=x2.subs('x1',x1)\n",
    "x3=x3.subs('x1',x1)\n",
    "\n",
    "X = x1*x2*x3\n",
    "\n",
    "m03=mpl*x3\n",
    "m02=m03*x2\n",
    "m01=m02*x1\n",
    "\n",
    "m1=m01-m02\n",
    "m2=m02-m03\n",
    "m3=m03-mpl\n",
    "\n",
    "mp1=m1*(1-o1)\n",
    "mp2=m2*(1-o2)\n",
    "mp3=m3*(1-o3)\n",
    "\n",
    "\n",
    "\n",
    "print('x1=',x1,'   ','x2=',x2,'   ','x3=',x3,'   ')\n",
    "print('X=',X)\n",
    "print('m01=',m01,'kg','   ','m02=',m02,'kg','   ','m03=',m03,'kg')\n",
    "print('m1=',m1,'kg','    ','m2=',m2,'kg','    ','m3=',m3,'kg')\n",
    "print('mp1=',mp1,'kg','   ','mp2=',mp2,'kg','    ','mp3=',mp3,'kg')"
   ]
  },
  {
   "cell_type": "code",
   "execution_count": null,
   "metadata": {},
   "outputs": [],
   "source": []
  }
 ],
 "metadata": {
  "kernelspec": {
   "display_name": "Python 3",
   "language": "python",
   "name": "python3"
  },
  "language_info": {
   "codemirror_mode": {
    "name": "ipython",
    "version": 3
   },
   "file_extension": ".py",
   "mimetype": "text/x-python",
   "name": "python",
   "nbconvert_exporter": "python",
   "pygments_lexer": "ipython3",
   "version": "3.6.4"
  }
 },
 "nbformat": 4,
 "nbformat_minor": 2
}
