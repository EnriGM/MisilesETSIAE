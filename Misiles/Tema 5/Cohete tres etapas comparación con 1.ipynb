{
 "cells": [
  {
   "cell_type": "markdown",
   "metadata": {},
   "source": [
    "Primer parcial 2013 Ejercicio 7\n",
    "\n",
    "Deterninese la diferencia entre las velocidades al final de la vombustion de un vehiculo de tres escalones con Isp igual en cada uno de 300seg, m estructural de 1400, 500, 150 kg respectivamente, y m propulsante de 9000, 3000, 1000 kg, siendo la masa de carga util de 50kg y un vehículo de un escalón con la misma masa inicial, igual masa total de propulsante e igual carga util (vuelo vertical sin gravedad, ni resistencia aerodinamica v0=h0=0)"
   ]
  },
  {
   "cell_type": "code",
   "execution_count": 1,
   "metadata": {},
   "outputs": [],
   "source": [
    "#primero importamos\n",
    "import numpy as np\n",
    "#importar numpy para calculo numérico\n",
    "from sympy import *\n",
    "#importar sympy para calculo simbolico\n",
    "init_printing(use_latex=True)\n",
    "from scipy import optimize"
   ]
  },
  {
   "cell_type": "code",
   "execution_count": 2,
   "metadata": {},
   "outputs": [],
   "source": [
    "#declaramos variables\n",
    "#Ispn Impulso específico [s]\n",
    "Isp1 = symbols('Isp1')\n",
    "Isp2 = symbols('Isp2')\n",
    "Isp3 = symbols('Isp2')\n",
    "#σi factor estructural [adimensional]\n",
    "o1 = symbols('o1')\n",
    "o2 = symbols('o2')\n",
    "o3 = symbols('o3')\n",
    "#xi relaciones másicas [adimensional] x1=m01/m02 x2=m02/mo3 x3=m03/mpl\n",
    "x1 = symbols('x1')\n",
    "x2 = symbols('x2')\n",
    "x3 = symbols('x3')\n",
    "#X relación másica misil [adimensional]\n",
    "X = symbols('X')\n",
    "#masa carga util (pay load) mpl [kg]\n",
    "mpl = symbols('mpl')\n",
    "#incremento total de velocidad [m/s]\n",
    "VIexpresion = Function('VI')(x1)\n",
    "VIdato = symbols('VIdato')\n",
    "#mi masa etapa [kg]\n",
    "m1 = symbols('m1')\n",
    "m2 = symbols('m2')\n",
    "m3 = symbols('m3')\n",
    "#m0i masa inicial de etapa [kg]\n",
    "m01 = symbols('m01')\n",
    "m02 = symbols('m02')\n",
    "m03 = symbols('m03')\n",
    "#mpi masa propulsante etapa [kg] mpi=mi(1-σi)\n",
    "mp1 = symbols('mp1')\n",
    "mp2 = symbols('mp2')\n",
    "mp3 = symbols('mp3')\n",
    "#g0 gravedad g0=9,81m/s2\n",
    "g0 = symbols('g0')"
   ]
  },
  {
   "cell_type": "code",
   "execution_count": 3,
   "metadata": {
    "scrolled": true
   },
   "outputs": [
    {
     "name": "stdout",
     "output_type": "stream",
     "text": [
      "m01= 15100 kg     m02= 4700 kg     m03= 1200 kg\n",
      "mb1= 6100 kg      mb2= 1700 kg      mb3= 200 kg\n",
      "Diferencia Velocidades= 5125.41349833483 m/s\n"
     ]
    }
   ],
   "source": [
    "#Datos del problema Esto es lo que hay que cambiar\n",
    "\n",
    "#mpi masa propulsante etapa [kg]\n",
    "mp1=9000\n",
    "mp2=3000\n",
    "mp3=1000\n",
    "\n",
    "#masa carga util (pay load) mpl [kg]\n",
    "mpl=50\n",
    "\n",
    "#masa estructura [kg]\n",
    "ms1=1400\n",
    "ms2=500\n",
    "ms3=150\n",
    "\n",
    "#m0i masa inicial de etapa [kg]\n",
    "m01=mp1+mp2+mp3+ms1+ms2+ms3+mpl\n",
    "m02=mp2+mp3+ms2+ms3+mpl\n",
    "m03=mp3+ms3+mpl\n",
    "\n",
    "#mbi masa al final de la combustión de la etapa [kg]\n",
    "mb1=mp2+mp3+ms1+ms2+ms3+mpl\n",
    "mb2=mp3+ms2+ms3+mpl\n",
    "mb3=ms3+mpl\n",
    "\n",
    "#Ispn Impulso específico [s]\n",
    "Isp1=300 #\n",
    "Isp2=300 #\n",
    "Isp3=300 #\n",
    "\n",
    "#g0 gravedad g0=9,81m/s2\n",
    "g0=9.8056\n",
    "\n",
    "print('m01=',m01,'kg','   ','m02=',m02,'kg','   ','m03=',m03,'kg')\n",
    "print('mb1=',mb1,'kg','    ','mb2=',mb2,'kg','    ','mb3=',mb3,'kg')\n",
    "\n",
    "AV1=Isp1*g0*log(m01/mb1)\n",
    "AV2=Isp2*g0*log(m02/mb2)\n",
    "AV3=Isp3*g0*log(m03/mb3)\n",
    "\n",
    "AVtotal=AV1+AV2+AV3\n",
    "\n",
    "AV1escalon=Isp1*g0*log(m01/(mpl+ms1+ms2+ms3))\n",
    "\n",
    "diferenciaVelocidades=AVtotal-AV1escalon\n",
    "print('Diferencia Velocidades=',diferenciaVelocidades,'m/s')"
   ]
  },
  {
   "cell_type": "code",
   "execution_count": null,
   "metadata": {},
   "outputs": [],
   "source": []
  }
 ],
 "metadata": {
  "kernelspec": {
   "display_name": "Python 3",
   "language": "python",
   "name": "python3"
  },
  "language_info": {
   "codemirror_mode": {
    "name": "ipython",
    "version": 3
   },
   "file_extension": ".py",
   "mimetype": "text/x-python",
   "name": "python",
   "nbconvert_exporter": "python",
   "pygments_lexer": "ipython3",
   "version": "3.6.4"
  }
 },
 "nbformat": 4,
 "nbformat_minor": 2
}
