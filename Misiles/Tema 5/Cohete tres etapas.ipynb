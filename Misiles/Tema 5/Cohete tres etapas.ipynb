{
 "cells": [
  {
   "cell_type": "markdown",
   "metadata": {},
   "source": [
    "Ejercicio clase 2017\n",
    "\n",
    "Un vehículo lanzador de tres etapas emplea, para los dos primeros escalones un propulsante derivado de hidrocarburo de Isp= 290s, mientras que para el tercero utiliza uno criogénico de 455s. Todos los escalones tienen un factor estructural de σn = 0,07 y las relaciones másicas de cada etapa cumplen la proporción x1= 1,2∙x2 = 0,65∙x3. Calcúlese las masas de propulsante de cada escalón, requeridas para inyectar una carga útil de 1.000kg en órbita geoestacionaria, siendo necesario un incremento total de velocidad Vi de 13,0 km/s (es decir, los efectos de las pérdidas por gravedad y resistencia aerodinámica, así como el de rotación de la Tierra, están incluidos). Considérese g0=9,81m/s2."
   ]
  },
  {
   "cell_type": "code",
   "execution_count": 4,
   "metadata": {},
   "outputs": [],
   "source": [
    "#primero importamos\n",
    "import numpy as np\n",
    "#importar numpy para calculo numérico\n",
    "from sympy import *\n",
    "#importar sympy para calculo simbolico\n",
    "init_printing(use_latex=True)\n",
    "from scipy import optimize"
   ]
  },
  {
   "cell_type": "code",
   "execution_count": 5,
   "metadata": {},
   "outputs": [],
   "source": [
    "#declaramos variables\n",
    "#Ispn Impulso específico [s]\n",
    "Isp1 = symbols('Isp1')\n",
    "Isp2 = symbols('Isp2')\n",
    "Isp3 = symbols('Isp2')\n",
    "#σi factor estructural [adimensional]\n",
    "o1 = symbols('o1')\n",
    "o2 = symbols('o2')\n",
    "o3 = symbols('o3')\n",
    "#xi relaciones másicas [adimensional] x1=m01/m02 x2=m02/mo3 x3=m03/mpl\n",
    "x1 = symbols('x1')\n",
    "x2 = symbols('x2')\n",
    "x3 = symbols('x3')\n",
    "#X relación másica misil [adimensional]\n",
    "X = symbols('X')\n",
    "#masa carga util (pay load) mpl [kg]\n",
    "mpl = symbols('mpl')\n",
    "#incremento total de velocidad [m/s]\n",
    "VIexpresion = Function('VI')(x1)\n",
    "VIdato = symbols('VIdato')\n",
    "#mi masa etapa [kg]\n",
    "m1 = symbols('m1')\n",
    "m2 = symbols('m2')\n",
    "m3 = symbols('m3')\n",
    "#m0i masa inicial de etapa [kg]\n",
    "m01 = symbols('m01')\n",
    "m02 = symbols('m02')\n",
    "m03 = symbols('m03')\n",
    "#mpi masa propulsante etapa [kg] mpi=mi(1-σi)\n",
    "mp1 = symbols('mp1')\n",
    "mp2 = symbols('mp2')\n",
    "mp3 = symbols('mp3')\n",
    "#g0 gravedad g0=9,81m/s2\n",
    "g0 = symbols('g0')"
   ]
  },
  {
   "cell_type": "code",
   "execution_count": 6,
   "metadata": {},
   "outputs": [
    {
     "data": {
      "image/png": "[encoded data removed]",
      "text/latex": [
       "$$- VIdato + g_{0} \\left(Isp_{1} \\log{\\left (\\frac{x_{1}}{o_{1} x_{1} - o_{1} + 1} \\right )} + Isp_{2} \\log{\\left (\\frac{x_{2}}{o_{2} x_{2} - o_{2} + 1} \\right )} + Isp_{2} \\log{\\left (\\frac{x_{3}}{o_{3} x_{3} - o_{3} + 1} \\right )}\\right)$$"
      ],
      "text/plain": [
       "             ⎛        ⎛      x₁      ⎞           ⎛      x₂      ⎞           ⎛ \n",
       "-VIdato + g₀⋅⎜Isp₁⋅log⎜──────────────⎟ + Isp₂⋅log⎜──────────────⎟ + Isp₂⋅log⎜─\n",
       "             ⎝        ⎝o₁⋅x₁ - o₁ + 1⎠           ⎝o₂⋅x₂ - o₂ + 1⎠           ⎝o\n",
       "\n",
       "     x₃      ⎞⎞\n",
       "─────────────⎟⎟\n",
       "₃⋅x₃ - o₃ + 1⎠⎠"
      ]
     },
     "execution_count": 6,
     "metadata": {},
     "output_type": "execute_result"
    }
   ],
   "source": [
    "#ecuaciones propias del problema\n",
    "\n",
    "X = x1*x2*x3\n",
    "\n",
    "m03=mpl*x3\n",
    "m02=m03*x2\n",
    "m01=m02*x1\n",
    "\n",
    "m1=m01-m02\n",
    "m2=m02-m03\n",
    "m3=m03-mpl\n",
    "\n",
    "mp1=m1*(1-o1)\n",
    "mp2=m2*(1-o2)\n",
    "mp3=m3*(1-o3)\n",
    "\n",
    "VIexpresion = g0*(Isp1*log(x1/(o1*x1+(1-o1)))+Isp2*log(x2/(o2*x2+(1-o2)))+Isp3*log(x3/(o3*x3+(1-o3))))-VIdato\n",
    "VIexpresion"
   ]
  },
  {
   "cell_type": "code",
   "execution_count": 7,
   "metadata": {
    "scrolled": true
   },
   "outputs": [],
   "source": [
    "#Datos del problema Esto es lo que hay que cambiar\n",
    "Isp1=290 #hidrocarburo\n",
    "Isp2=290 #hidrocarburo\n",
    "Isp3=455 #criogenico\n",
    "\n",
    "g0=9.81\n",
    "\n",
    "x2=x1/1.2\n",
    "x3=x1/0.65\n",
    "\n",
    "o1=0.07\n",
    "o2=0.07\n",
    "o3=0.07\n",
    "\n",
    "mpl=1000\n",
    "\n",
    "VIdato=13000"
   ]
  },
  {
   "cell_type": "code",
   "execution_count": 8,
   "metadata": {},
   "outputs": [],
   "source": [
    "#machacamos la ecuación para que coja ya los datos del problema\n",
    "VIexpresion = g0*(Isp1*log(x1/(o1*x1+(1-o1)))+Isp2*log(x2/(o2*x2+(1-o2)))+Isp3*log(x3/(o3*x3+(1-o3))))-VIdato\n"
   ]
  },
  {
   "cell_type": "code",
   "execution_count": 9,
   "metadata": {},
   "outputs": [
    {
     "data": {
      "image/png": "[encoded data removed]",
      "text/latex": [
       "$$2844.9 \\log{\\left (\\frac{0.833333333333333 x_{1}}{0.0583333333333333 x_{1} + 0.93} \\right )} + 2844.9 \\log{\\left (\\frac{x_{1}}{0.07 x_{1} + 0.93} \\right )} + 4463.55 \\log{\\left (\\frac{1.53846153846154 x_{1}}{0.107692307692308 x_{1} + 0.93} \\right )} - 13000$$"
      ],
      "text/plain": [
       "          ⎛    0.833333333333333⋅x₁    ⎞             ⎛      x₁      ⎞         \n",
       "2844.9⋅log⎜────────────────────────────⎟ + 2844.9⋅log⎜──────────────⎟ + 4463.5\n",
       "          ⎝0.0583333333333333⋅x₁ + 0.93⎠             ⎝0.07⋅x₁ + 0.93⎠         \n",
       "\n",
       "     ⎛    1.53846153846154⋅x₁    ⎞        \n",
       "5⋅log⎜───────────────────────────⎟ - 13000\n",
       "     ⎝0.107692307692308⋅x₁ + 0.93⎠        "
      ]
     },
     "execution_count": 9,
     "metadata": {},
     "output_type": "execute_result"
    }
   ],
   "source": [
    "VIexpresion"
   ]
  },
  {
   "cell_type": "code",
   "execution_count": 10,
   "metadata": {},
   "outputs": [],
   "source": [
    "#lambdify nos convierte la ecuación de Sympy a una normal que se puede resolver numericamente con scipy\n",
    "VIsolver = lambdify(x1,VIexpresion)\n"
   ]
  },
  {
   "cell_type": "code",
   "execution_count": 11,
   "metadata": {},
   "outputs": [],
   "source": [
    "x1= optimize.newton(VIsolver,3)\n"
   ]
  },
  {
   "cell_type": "code",
   "execution_count": 12,
   "metadata": {},
   "outputs": [
    {
     "name": "stdout",
     "output_type": "stream",
     "text": [
      "x1= 3.9304914076594035     x2= 3.2754095063828363     x3= 6.0469098579375435    \n",
      "X= 77.84772958161739\n",
      "m01= 77847.72958161739 kg     m02= 19806.106032928714 kg     m03= 6046.909857937543 kg\n",
      "m1= 58041.62354868867 kg      m2= 13759.196174991172 kg      m3= 5046.909857937543 kg\n",
      "mp1= 53978.70990028046 kg     mp2= 12796.05244274179 kg      mp3= 4693.626167881915 kg\n",
      "masa propulsante hidrocarburo= 66774.76234302224 kg\n",
      "masa propulsante criogénico= 4693.626167881915 kg\n"
     ]
    }
   ],
   "source": [
    "#sustituimos en las ecuaciones propias del problema\n",
    "\n",
    "\n",
    "\n",
    "x2=x1/1.2\n",
    "x3=x1/0.65\n",
    "\n",
    "m03=mpl*x3\n",
    "m02=m03*x2\n",
    "m01=m02*x1\n",
    "\n",
    "m1=m01-m02\n",
    "m2=m02-m03\n",
    "m3=m03-mpl\n",
    "\n",
    "mp1=m1*(1-o1)\n",
    "mp2=m2*(1-o2)\n",
    "mp3=m3*(1-o3)\n",
    "\n",
    "\n",
    "X=x1*x2*x3\n",
    "\n",
    "print('x1=',x1,'   ','x2=',x2,'   ','x3=',x3,'   ')\n",
    "print('X=',X)\n",
    "print('m01=',m01,'kg','   ','m02=',m02,'kg','   ','m03=',m03,'kg')\n",
    "print('m1=',m1,'kg','    ','m2=',m2,'kg','    ','m3=',m3,'kg')\n",
    "print('mp1=',mp1,'kg','   ','mp2=',mp2,'kg','    ','mp3=',mp3,'kg')\n",
    "print('masa propulsante hidrocarburo=',mp1+mp2,'kg')\n",
    "print('masa propulsante criogénico=',mp3,'kg')"
   ]
  },
  {
   "cell_type": "code",
   "execution_count": null,
   "metadata": {},
   "outputs": [],
   "source": []
  }
 ],
 "metadata": {
  "kernelspec": {
   "display_name": "Python 3",
   "language": "python",
   "name": "python3"
  },
  "language_info": {
   "codemirror_mode": {
    "name": "ipython",
    "version": 3
   },
   "file_extension": ".py",
   "mimetype": "text/x-python",
   "name": "python",
   "nbconvert_exporter": "python",
   "pygments_lexer": "ipython3",
   "version": "3.6.4"
  }
 },
 "nbformat": 4,
 "nbformat_minor": 2
}
