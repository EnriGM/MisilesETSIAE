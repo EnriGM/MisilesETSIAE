{
 "cells": [
  {
   "cell_type": "markdown",
   "metadata": {},
   "source": [
    "1º parcial 2015 ejercicio 3\n",
    "\n",
    "TRAYECTORIA UNIDIMENSIONAL VUELO VERTICAL: Un cohete de 10,000 kg de masa total inicial al lanzamiento, aloja un solo motor cohete con 6,250kg de propulsante con Isp de 280s, proporcionando un empuje de 35,500 kg a la carga útil de masa 250kg. Determínese el incremento de velocidad al final de la combustión y el de la altitud de apogeo que se obtendrían, si se utilizara un propulsante de Isp 310s con un empuje de 43,000 kg, cuya densidad menor obligara a aumentar la masa de la estructura en un 12% respecto de la masa estructural de la versión inicial del motor para alojar la misma cantidad de propulsante, modificando consecuentemente la masa inicial de lanzamiento. (Radio de la tierra 6370km, go=9,8056m/s^2, vo=ho=0)"
   ]
  },
  {
   "cell_type": "code",
   "execution_count": 1,
   "metadata": {},
   "outputs": [],
   "source": [
    "#primero importamos\n",
    "import numpy as np\n",
    "#importar numpy para calculo numérico\n",
    "from sympy import *\n",
    "#importar sympy para calculo simbolico\n",
    "init_printing(use_latex=True)\n",
    "from scipy import optimize"
   ]
  },
  {
   "cell_type": "code",
   "execution_count": 2,
   "metadata": {},
   "outputs": [],
   "source": [
    "g0=9.8056\n",
    "Rt=6370000 # en metros\n",
    "m01=10000\n",
    "mp1=6250\n",
    "Isp1=280\n",
    "#Empuje E en kilogramos\n",
    "E1=35500\n",
    "#masa de carga util\n",
    "mpl=250\n",
    "Isp2=310\n",
    "E2=43000\n",
    "mp2=mp1"
   ]
  },
  {
   "cell_type": "code",
   "execution_count": 3,
   "metadata": {},
   "outputs": [],
   "source": [
    "# masa estructura\n",
    "ms1=m01-mpl-mp1\n",
    "ms2=1.12*ms1\n",
    "m02=ms2+mpl+mp2\n",
    "mb1=m01-mp1\n",
    "mb2=m02-mp2\n"
   ]
  },
  {
   "cell_type": "code",
   "execution_count": 4,
   "metadata": {},
   "outputs": [
    {
     "name": "stdout",
     "output_type": "stream",
     "text": [
      "variación de velocidad= 132.442811791146 m/s\n"
     ]
    }
   ],
   "source": [
    "V0=0\n",
    "#tb tiempo de combustión, si el empuje te lo dan en kg, hay que pasarlo a newtons multiplicando por g0\n",
    "tb1=(mp1*g0*Isp1)/(E1*g0)\n",
    "tb2=(mp2*g0*Isp2)/(E2*g0)\n",
    "#Velocidad al final de combustión\n",
    "Vb1=g0*Isp1*log(m01/mb1)-g0*tb1+V0\n",
    "Vb2=g0*Isp2*log(m02/mb2)-g0*tb2+V0\n",
    "AVb=Vb2-Vb1\n",
    "print('variación de velocidad=',AVb, 'm/s')"
   ]
  },
  {
   "cell_type": "code",
   "execution_count": 5,
   "metadata": {},
   "outputs": [
    {
     "name": "stdout",
     "output_type": "stream",
     "text": [
      "variación de altura= 33436.9517424416 m/s\n"
     ]
    }
   ],
   "source": [
    "#La altura de apogeo es la suma de la altura al final de combustión, más la de culminación\n",
    "h0=0\n",
    "hb1=g0*Isp1*tb1*(1-((log(m01/mb1))/(m01/mb1-1)))-0.5*g0*tb1**2+V0*tb1+h0\n",
    "hb2=g0*Isp2*tb2*(1-((log(m02/mb2))/(m02/mb2-1)))-0.5*g0*tb2**2+V0*tb2+h0\n",
    "hc1=((Vb1**2)*(Rt+hb1)**2)/((2*g0)*(Rt**2-((Vb1**2/(2*g0))*(Rt+hb1))))\n",
    "hc2=((Vb2**2)*(Rt+hb2)**2)/((2*g0)*(Rt**2-((Vb2**2/(2*g0))*(Rt+hb2))))\n",
    "ha1=hb1+hc1\n",
    "ha2=hb2+hc2\n",
    "Aha=ha2-ha1\n",
    "print('variación de altura=',Aha,'m/s')"
   ]
  },
  {
   "cell_type": "code",
   "execution_count": 9,
   "metadata": {},
   "outputs": [
    {
     "data": {
      "image/png": "[encoded data removed]",
      "text/latex": [
       "$$\\left ( 49.29577464788733, \\quad 2209.55876264558, \\quad 43780.5944236351, \\quad 262718.699292923, \\quad 306499.293716558\\right )$$"
      ],
      "text/plain": [
       "(49.29577464788733, 2209.55876264558, 43780.5944236351, 262718.699292923, 3064\n",
       "99.293716558)"
      ]
     },
     "execution_count": 9,
     "metadata": {},
     "output_type": "execute_result"
    }
   ],
   "source": [
    "tb1,Vb1,hb1,hc1,ha1"
   ]
  },
  {
   "cell_type": "code",
   "execution_count": null,
   "metadata": {},
   "outputs": [],
   "source": []
  }
 ],
 "metadata": {
  "kernelspec": {
   "display_name": "Python 3",
   "language": "python",
   "name": "python3"
  },
  "language_info": {
   "codemirror_mode": {
    "name": "ipython",
    "version": 3
   },
   "file_extension": ".py",
   "mimetype": "text/x-python",
   "name": "python",
   "nbconvert_exporter": "python",
   "pygments_lexer": "ipython3",
   "version": "3.6.4"
  }
 },
 "nbformat": 4,
 "nbformat_minor": 2
}
