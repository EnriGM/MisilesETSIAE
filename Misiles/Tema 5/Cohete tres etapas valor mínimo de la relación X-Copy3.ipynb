{
 "cells": [
  {
   "cell_type": "markdown",
   "metadata": {},
   "source": [
    "Noviembre 2017 ejercicio 9\n",
    "\n",
    "Determínese el valor mínimo de la relación X=W0/WPL , las masas iniciales de cada etapa, las masas de cada escalón y las masas de propulsante en cada uno de ellos para dicho valor mínimo, de un vehículo de tres etapas, cuya misión sería situar en órbita circular de altitud 375km, una carga de pago de 1,350kg, en un lanzamiento hacia el Este desde una base situada en el Ecuador Terrestre. Las relaciones estructurales de los escalones primero, segundo y tercero son iguales a 0,17 y los propulsantes tienen impulsos específicos de 265, 285 y 315s respectivamente. Error permitido en el valor de la velocidad orbital <1m/s\n",
    "\n",
    "Considérese:\n",
    "- Pérdidas de velocidad por gravedad y resistencia aerodinámica 1.800m/s. \n",
    "- velocidad de rotación de la Tierra ωT = 7,2722e-5 rad/s.\n",
    "- Radio de la Tierra = 6.370km.\n",
    "- Constante gravitacional de la Tierra μ= 398600,4418km3/s2,\n",
    "- g0 = 9,81m/s2."
   ]
  },
  {
   "cell_type": "code",
   "execution_count": 3,
   "metadata": {},
   "outputs": [],
   "source": [
    "#primero importamos\n",
    "import numpy as np\n",
    "#importar numpy para calculo numérico\n",
    "from sympy import *\n",
    "#importar sympy para calculo simbolico\n",
    "init_printing(use_latex=True)\n",
    "#importar optimize para resolver numericamente \n",
    "from scipy import optimize"
   ]
  },
  {
   "cell_type": "code",
   "execution_count": 8,
   "metadata": {},
   "outputs": [],
   "source": [
    "R=6370000 #en metros\n",
    "wt=7.2722e-5\n",
    "mu=398600.4418e9\n",
    "\n",
    "Vloss=1950\n",
    "h=375000\n",
    "\n",
    "Isp1=265\n",
    "Isp2=285\n",
    "Isp3=315\n",
    "\n",
    "mpl=1350\n",
    "\n",
    "o1=0.17\n",
    "o2=0.17\n",
    "o3=0.17\n",
    "\n",
    "g0=9.81"
   ]
  },
  {
   "cell_type": "code",
   "execution_count": 10,
   "metadata": {},
   "outputs": [
    {
     "data": {
      "image/png": "[encoded data removed]",
      "text/latex": [
       "$$9174.133095705067$$"
      ],
      "text/plain": [
       "9174.133095705067"
      ]
     },
     "execution_count": 10,
     "metadata": {},
     "output_type": "execute_result"
    }
   ],
   "source": [
    "#Ecuaciones para obtener Vi de lanzamiento\n",
    "\n",
    "Vorb=(mu/(R+h))**0.5\n",
    "Vrot=wt*R\n",
    "Vi=Vorb-Vrot+Vloss\n",
    "Vi"
   ]
  },
  {
   "cell_type": "code",
   "execution_count": 11,
   "metadata": {
    "scrolled": true
   },
   "outputs": [
    {
     "data": {
      "image/png": "[encoded data removed]",
      "text/latex": [
       "$$\\left ( - \\frac{45.05 x_{1}}{0.17 x_{1} + 0.83} + 265 = - \\frac{48.45 x_{2}}{0.17 x_{2} + 0.83} + 285, \\quad - \\frac{48.45 x_{2}}{0.17 x_{2} + 0.83} + 285 = - \\frac{53.55 x_{3}}{0.17 x_{3} + 0.83} + 315\\right )$$"
      ],
      "text/plain": [
       "⎛     45.05⋅x₁                 48.45⋅x₂                48.45⋅x₂               \n",
       "⎜- ────────────── + 265 = - ────────────── + 285, - ────────────── + 285 = - ─\n",
       "⎝  0.17⋅x₁ + 0.83           0.17⋅x₂ + 0.83          0.17⋅x₂ + 0.83           0\n",
       "\n",
       "  53.55⋅x₃         ⎞\n",
       "───────────── + 315⎟\n",
       ".17⋅x₃ + 0.83      ⎠"
      ]
     },
     "execution_count": 11,
     "metadata": {},
     "output_type": "execute_result"
    }
   ],
   "source": [
    "#Ecauciones que relacionan las etapas\n",
    "f1=Eq(Isp1*(1-o1*(x1/(o1*x1+(1-o1)))),Isp2*(1-o2*(x2/(o2*x2+(1-o2)))))\n",
    "\n",
    "f2=Eq(Isp2*(1-o2*(x2/(o2*x2+(1-o2)))),Isp3*(1-o3*(x3/(o3*x3+(1-o3)))))\n",
    "\n",
    "\n",
    "f1,f2"
   ]
  },
  {
   "cell_type": "code",
   "execution_count": 12,
   "metadata": {},
   "outputs": [
    {
     "data": {
      "image/png": "[encoded data removed]",
      "text/latex": [
       "$$\\left ( 1.07547169811321 x_{1} + 0.368479467258602, \\quad 1.18867924528302 x_{1} + 0.921198668146504\\right )$$"
      ],
      "text/plain": [
       "(1.07547169811321⋅x₁ + 0.368479467258602, 1.18867924528302⋅x₁ + 0.921198668146\n",
       "504)"
      ]
     },
     "execution_count": 12,
     "metadata": {},
     "output_type": "execute_result"
    }
   ],
   "source": [
    "#hayamos relaciones entre las x\n",
    "#el output de un solve es una lista de symbols, por eso debo guardar un elemento en una nueva variable\n",
    "x2sol = solve(f1,x2)\n",
    "x3sol = solve(f2,x3)\n",
    "x2=x2sol[0]\n",
    "x3=x3sol[0]\n",
    "x3 = x3.subs('x2',x2)\n",
    "\n",
    "x2,x3"
   ]
  },
  {
   "cell_type": "code",
   "execution_count": 13,
   "metadata": {},
   "outputs": [
    {
     "data": {
      "image/png": "[encoded data removed]",
      "text/latex": [
       "$$2599.65 \\log{\\left (\\frac{x_{1}}{0.17 x_{1} + 0.83} \\right )} + 2795.85 \\log{\\left (\\frac{1.07547169811321 x_{1} + 0.368479467258602}{0.182830188679245 x_{1} + 0.892641509433962} \\right )} + 3090.15 \\log{\\left (\\frac{1.18867924528302 x_{1} + 0.921198668146504}{0.202075471698113 x_{1} + 0.986603773584906} \\right )} - 9174.13309570507$$"
      ],
      "text/plain": [
       "           ⎛      x₁      ⎞              ⎛1.07547169811321⋅x₁ + 0.368479467258\n",
       "2599.65⋅log⎜──────────────⎟ + 2795.85⋅log⎜────────────────────────────────────\n",
       "           ⎝0.17⋅x₁ + 0.83⎠              ⎝0.182830188679245⋅x₁ + 0.89264150943\n",
       "\n",
       "602 ⎞              ⎛1.18867924528302⋅x₁ + 0.921198668146504 ⎞                 \n",
       "────⎟ + 3090.15⋅log⎜────────────────────────────────────────⎟ - 9174.133095705\n",
       "3962⎠              ⎝0.202075471698113⋅x₁ + 0.986603773584906⎠                 \n",
       "\n",
       "  \n",
       "07\n",
       "  "
      ]
     },
     "execution_count": 13,
     "metadata": {},
     "output_type": "execute_result"
    }
   ],
   "source": [
    "#definimos la ecuación de Vi (puesta para iteral)\n",
    "f3=g0*(Isp1*log(x1/(o1*x1+(1-o1)))+Isp2*log(x2/(o2*x2+(1-o2)))+Isp3*log(x3/(o3*x3+(1-o3))))-Vi\n",
    "f3"
   ]
  },
  {
   "cell_type": "code",
   "execution_count": 14,
   "metadata": {},
   "outputs": [],
   "source": [
    "#preparamos f3 para resolver numericamente\n",
    "f3sol=lambdify(x1,f3)"
   ]
  },
  {
   "cell_type": "code",
   "execution_count": 15,
   "metadata": {},
   "outputs": [],
   "source": [
    "#resolvemos iterando para x1\n",
    "x1= optimize.newton(f3sol,1)\n"
   ]
  },
  {
   "cell_type": "code",
   "execution_count": 16,
   "metadata": {},
   "outputs": [
    {
     "name": "stdout",
     "output_type": "stream",
     "text": [
      "x1= 4.135515027569537     x2= 4.81610883653150     x3= 5.83699954997445    \n",
      "X= 116.256048097854\n",
      "m01= 156945.664932102 kg     m02= 37950.6939004741 kg     m03= 7879.94939246550 kg\n",
      "m1= 118994.971031628 kg      m2= 30070.7445080086 kg      m3= 6529.94939246550 kg\n",
      "mp1= 98765.8259562514 kg     mp2= 24958.7179416472 kg      mp3= 5419.85799574637 kg\n"
     ]
    }
   ],
   "source": [
    "#print de soluciones y calculo de masas\n",
    "\n",
    "#sustituyo el valor numerico de x1\n",
    "x2=x2.subs('x1',x1)\n",
    "x3=x3.subs('x1',x1)\n",
    "\n",
    "X = x1*x2*x3\n",
    "\n",
    "m03=mpl*x3\n",
    "m02=m03*x2\n",
    "m01=m02*x1\n",
    "\n",
    "m1=m01-m02\n",
    "m2=m02-m03\n",
    "m3=m03-mpl\n",
    "\n",
    "mp1=m1*(1-o1)\n",
    "mp2=m2*(1-o2)\n",
    "mp3=m3*(1-o3)\n",
    "\n",
    "\n",
    "\n",
    "print('x1=',x1,'   ','x2=',x2,'   ','x3=',x3,'   ')\n",
    "print('X=',X)\n",
    "print('m01=',m01,'kg','   ','m02=',m02,'kg','   ','m03=',m03,'kg')\n",
    "print('m1=',m1,'kg','    ','m2=',m2,'kg','    ','m3=',m3,'kg')\n",
    "print('mp1=',mp1,'kg','   ','mp2=',mp2,'kg','    ','mp3=',mp3,'kg')"
   ]
  },
  {
   "cell_type": "code",
   "execution_count": null,
   "metadata": {},
   "outputs": [],
   "source": []
  }
 ],
 "metadata": {
  "kernelspec": {
   "display_name": "Python 3",
   "language": "python",
   "name": "python3"
  },
  "language_info": {
   "codemirror_mode": {
    "name": "ipython",
    "version": 3
   },
   "file_extension": ".py",
   "mimetype": "text/x-python",
   "name": "python",
   "nbconvert_exporter": "python",
   "pygments_lexer": "ipython3",
   "version": "3.6.4"
  }
 },
 "nbformat": 4,
 "nbformat_minor": 2
}
