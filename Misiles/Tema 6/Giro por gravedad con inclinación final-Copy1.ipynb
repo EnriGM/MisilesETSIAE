{
 "cells": [
  {
   "cell_type": "markdown",
   "metadata": {},
   "source": [
    "###### Enero 2016 Ejercicio 1\n",
    "\n",
    "Determinese la velocidad, inclinación, alcance y altitud al final de la combustión de la primera etapa de un lanzador con 3.5 de empuje específico constante, cuando a los 2.5 segundos del vuelo vertical inicial de la primera fase, con una velocidad de 300m/s, inclinación de 89º, alcance nulo y altitud 900m respecto del punto de lanzamiento se inicia un giro por gravedad hasta conseguir 86º de inclinación en dicho instante final de la combustión (g0=9.81m/s**2)"
   ]
  },
  {
   "cell_type": "code",
   "execution_count": 1,
   "metadata": {},
   "outputs": [],
   "source": [
    "#primero importamos\n",
    "import numpy as np\n",
    "#importar numpy para calculo numérico\n",
    "from sympy import *\n",
    "#importar sympy para calculo simbolico\n",
    "init_printing(use_latex=True)\n",
    "from scipy import optimize"
   ]
  },
  {
   "cell_type": "code",
   "execution_count": 2,
   "metadata": {},
   "outputs": [],
   "source": [
    "#declaramos variables\n",
    "#Γ0 factor velocidad inicial [adim]\n",
    "R0= symbols('Γ0')\n",
    "#Γ0' factor de tiempo [adim]\n",
    "R0prima= symbols(\"Γ0'\")\n",
    "#Γb factor velocidad final de combustión[adim]\n",
    "Rb= symbols('Γb')\n",
    "#Γb' factor de tiempo final de la combustión [adim]\n",
    "Rbprima= symbols(\"Γb'\")\n",
    "#γ0 angulo inicial 1-beta [rad] cerca de 90º\n",
    "y0= symbols(\"γo\")\n",
    "#γb angulo final de combustión[rad]\n",
    "yb= symbols(\"γb\")\n",
    "#tiempo final de combustion [s]\n",
    "tb= symbols(\"tb\")\n",
    "#V0 velocidad inicial de combustión [m/s]\n",
    "V0= symbols(\"V0\")\n",
    "#Vb velocidad final de combustión [m/s]\n",
    "Vb= symbols(\"Vb\")\n",
    "#xb posición tras combustión en x [m]\n",
    "xb= symbols('xb')\n",
    "#zb posción tras combustión en z [m]\n",
    "zb= symbols('zb')\n",
    "#r0 empuje específico\n",
    "r0=symbols('r0')\n",
    "#gravedad g0 [m/s**2]\n",
    "g0=symbols('g0')\n"
   ]
  },
  {
   "cell_type": "code",
   "execution_count": 3,
   "metadata": {},
   "outputs": [],
   "source": [
    "r0=3.2\n",
    "t0=2.5\n",
    "V0=300\n",
    "y0=rad(89)\n",
    "x0=0\n",
    "z0=900\n",
    "yb=rad(86)\n",
    "g0=9.81"
   ]
  },
  {
   "cell_type": "code",
   "execution_count": 4,
   "metadata": {
    "scrolled": true
   },
   "outputs": [],
   "source": [
    "#calcular factor velocidad inicial\n",
    "R0=(1/cos(y0))*((1-sin(y0))/(1+sin(y0)))**(r0/2)\n",
    "\n",
    "#calcular factor tiempo inicial\n",
    "R0prima=((r0+sin(y0))/(r0**2-1))*R0\n",
    "\n",
    "#calcular factor velocidad final\n",
    "Rb=(1/cos(yb))*((1-sin(yb))/(1+sin(yb)))**(r0/2)\n",
    "\n",
    "#combinand la expresión del factor de velocidad y tiempo final, y preparandolo para iterar\n",
    "Rbprima=R0prima+g0*R0*(tb-t0)/V0\n",
    "\n",
    "f1=((r0+sin(yb))/(r0**2-1))*Rb-Rbprima\n",
    "f1solve=lambdify(tb,f1)\n",
    "#resolvemos para obtener tb\n",
    "tb=optimize.newton(f1solve,100)\n",
    "#calcular factor velocidad final\n",
    "Rbprima=R0prima+g0*R0*(tb-t0)/V0\n",
    "\n",
    "#calcular velocidad final\n",
    "Vb=Rb*V0/R0\n",
    "\n",
    "#calcular posiciones finales\n",
    "zb=(V0**2/(g0*R0**2))*(1/(2*(r0**2-1)))*(Rb**2*(r0*sin(yb)+1-0.5*cos(yb)**2)-R0**2*(r0*sin(y0)+1-0.5*cos(y0)**2))+z0\n",
    "\n",
    "xb=(V0**2/(g0*R0**2))*(1/(4*r0**2-1))*(Rb**2*cos(yb)*(2*r0+sin(yb))-R0**2*cos(y0)*(2*r0+sin(y0)))+x0"
   ]
  },
  {
   "cell_type": "code",
   "execution_count": 5,
   "metadata": {},
   "outputs": [
    {
     "name": "stdout",
     "output_type": "stream",
     "text": [
      "Γ0= 1.47533807501619e-5     Γ0'= 6.70583897611821e-6\n",
      "Γb= 0.000312092733783526     Γb'= 0.000141778056242152 tb= 282.4798172368554\n",
      "xb= 52986.1705781976 km     zb= 929593.304081260 km\n",
      "Vb= 6346.19425341070 m/s\n"
     ]
    }
   ],
   "source": [
    "print('Γ0=',R0.evalf(),'   ',\"Γ0'=\",R0prima.evalf())\n",
    "print('Γb=',Rb.evalf(),'   ',\"Γb'=\",Rbprima.evalf(),'tb=',tb)\n",
    "print('xb=',xb.evalf(),'m','   ','zb=',zb.evalf(),'m')\n",
    "print('Vb=',Vb.evalf(),'m/s')"
   ]
  },
  {
   "cell_type": "code",
   "execution_count": null,
   "metadata": {},
   "outputs": [],
   "source": []
  }
 ],
 "metadata": {
  "kernelspec": {
   "display_name": "Python 3",
   "language": "python",
   "name": "python3"
  },
  "language_info": {
   "codemirror_mode": {
    "name": "ipython",
    "version": 3
   },
   "file_extension": ".py",
   "mimetype": "text/x-python",
   "name": "python",
   "nbconvert_exporter": "python",
   "pygments_lexer": "ipython3",
   "version": "3.6.4"
  }
 },
 "nbformat": 4,
 "nbformat_minor": 2
}
