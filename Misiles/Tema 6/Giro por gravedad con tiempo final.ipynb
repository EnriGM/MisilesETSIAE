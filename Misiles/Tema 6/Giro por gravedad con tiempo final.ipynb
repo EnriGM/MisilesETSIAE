{
 "cells": [
  {
   "cell_type": "markdown",
   "metadata": {},
   "source": [
    "Ejercicio clase 2017\n",
    "\n",
    "El instante final de la combustión del propulsante del primer escalón de un lanzador, ocurre a los 40 segundos del instante inicial de su lanzamiento. A los 4 segundos de iniciado este lanzamiento y en su ascenso vertical, el sistema de guiado y control instantáneamente inclina 20 la trayectoria del centro de masas respecto a la vertical, en dirección del acimut requerido, cuando el cm tiene una velocidad de 160m/s a la altitud de 10.000 m. Simultáneamente, es iniciado un giro por gravedad, con empuje específico constante de valor 4 (tómese g0 = 9,8056 m/s2). Determínese la velocidad, inclinación de la misma respecto a la horizontal, alcance horizontal, y la altitud del centro de masas del lanzador en el instante final de la combustión del propulsante del primer escalón."
   ]
  },
  {
   "cell_type": "code",
   "execution_count": 1,
   "metadata": {},
   "outputs": [],
   "source": [
    "#primero importamos\n",
    "import numpy as np\n",
    "#importar numpy para calculo numérico\n",
    "from sympy import *\n",
    "#importar sympy para calculo simbolico\n",
    "init_printing(use_latex=True)\n",
    "from scipy import optimize"
   ]
  },
  {
   "cell_type": "code",
   "execution_count": 11,
   "metadata": {},
   "outputs": [],
   "source": [
    "#declaramos variables\n",
    "#Γ0 factor velocidad inicial [adim]\n",
    "R0= symbols('Γ0')\n",
    "#Γ0' factor de tiempo [adim]\n",
    "R0prima= symbols(\"Γ0'\")\n",
    "#Γb factor velocidad final de combustión[adim]\n",
    "Rb= symbols('Γb')\n",
    "#Γb' factor de tiempo final de la combustión [adim]\n",
    "Rbprima= symbols(\"Γb'\")\n",
    "#γ0 angulo inicial 1-beta [rad] cerca de 90º\n",
    "y0= symbols(\"γo\")\n",
    "#γb angulo final de combustión[rad]\n",
    "yb= symbols(\"γb\")\n",
    "#tiempo final de combustion [s]\n",
    "tb= symbols(\"tb\")\n",
    "#V0 velocidad inicial de combustión [m/s]\n",
    "V0= symbols(\"V0\")\n",
    "#Vb velocidad final de combustión [m/s]\n",
    "Vb= symbols(\"Vb\")\n",
    "#xb posición tras combustión en x [m]\n",
    "xb= symbols('xb')\n",
    "#zb posción tras combustión en z [m]\n",
    "zb= symbols('zb')\n",
    "#r0 empuje específico\n",
    "r0=symbols('r0')\n",
    "#gravedad g0 [m/s**2]\n",
    "g0=symbols('g0')\n"
   ]
  },
  {
   "cell_type": "code",
   "execution_count": 12,
   "metadata": {},
   "outputs": [],
   "source": [
    "r0=4\n",
    "y0=rad(90-2)\n",
    "V0=160\n",
    "g0=9.8056\n",
    "t0=4\n",
    "tb=40\n",
    "x0=0\n",
    "z0=10000"
   ]
  },
  {
   "cell_type": "code",
   "execution_count": 13,
   "metadata": {
    "scrolled": true
   },
   "outputs": [],
   "source": [
    "#calcular factor velocidad inicial\n",
    "R0=(1/cos(y0))*((1-sin(y0))/(1+sin(y0)))**(r0/2)\n",
    "\n",
    "#calcular factor tiempo inicial\n",
    "R0prima=((r0+sin(y0))/(r0**2-1))*R0\n",
    "\n",
    "#calcular factor tiempo final\n",
    "Rbprima=R0prima+g0*R0*(tb-t0)/V0\n",
    "\n",
    "#combinand la expresión del factor de tiempo y velocidad final, y preparandolo para iterar\n",
    "Rb=(1/cos(yb))*((1-sin(yb))/(1+sin(yb)))**(r0/2)\n",
    "f1=((r0+sin(yb))/(r0**2-1))*Rb-Rbprima\n",
    "f1solve=lambdify(yb,f1)\n",
    "#resolvemos para obtener yb\n",
    "yb=optimize.newton(f1solve,1,tol=1.48e-10)\n",
    "\n",
    "#calcular factor velocidad final\n",
    "Rb=(1/cos(yb))*((1-sin(yb))/(1+sin(yb)))**(r0/2)\n",
    "\n",
    "#calcular velocidad final\n",
    "Vb=Rb*V0/R0\n",
    "\n",
    "#calcular posiciones finales\n",
    "zb=(V0**2/(g0*R0**2))*(1/(2*(r0**2-1)))*(Rb**2*(r0*sin(yb)+1-0.5*cos(yb)**2)-R0**2*(r0*sin(y0)+1-0.5*cos(y0)**2))+z0\n",
    "\n",
    "xb=(V0**2/(g0*R0**2))*(1/(4*r0**2-1))*(Rb**2*cos(yb)*(2*r0+sin(yb))-R0**2*cos(y0)*(2*r0+sin(y0)))+x0"
   ]
  },
  {
   "cell_type": "code",
   "execution_count": 14,
   "metadata": {},
   "outputs": [
    {
     "name": "stdout",
     "output_type": "stream",
     "text": [
      "Γ0= 2.65990858122181e-6     Γ0'= 8.86528170777981e-7\n",
      "Γb= 2.02744873092997e-5     Γb'= 6.75497807718442e-6 γb= 1.5021397703978412\n",
      "xb= 1473.12953192305 m     zb= 34785.8169353872 m\n"
     ]
    }
   ],
   "source": [
    "print('Γ0=',R0.evalf(),'   ',\"Γ0'=\",R0prima.evalf())\n",
    "print('Γb=',Rb.evalf(),'   ',\"Γb'=\",Rbprima.evalf(),\"γb=\",yb)\n",
    "print('xb=',xb.evalf(),'m','   ','zb=',zb.evalf(),'m')"
   ]
  },
  {
   "cell_type": "code",
   "execution_count": 7,
   "metadata": {},
   "outputs": [
    {
     "data": {
      "image/png": "[encoded data removed]",
      "text/latex": [
       "$$\\frac{\\left(\\frac{- \\sin{\\left (γb \\right )} + 1}{\\sin{\\left (γb \\right )} + 1}\\right)^{\\frac{r_{0}}{2}}}{\\left(r_{0}^{2} - 1\\right) \\cos{\\left (γb \\right )}} \\left(r_{0} + \\sin{\\left (γb \\right )}\\right)$$"
      ],
      "text/plain": [
       "              r₀               \n",
       "              ──               \n",
       "              2                \n",
       "⎛-sin(γb) + 1⎞                 \n",
       "⎜────────────⎟  ⋅(r₀ + sin(γb))\n",
       "⎝sin(γb) + 1 ⎠                 \n",
       "───────────────────────────────\n",
       "       ⎛  2    ⎞               \n",
       "       ⎝r₀  - 1⎠⋅cos(γb)       "
      ]
     },
     "execution_count": 7,
     "metadata": {},
     "output_type": "execute_result"
    }
   ],
   "source": [
    "yb= symbols(\"γb\")\n",
    "r0=symbols(\"r0\")\n",
    "Rbprima=((r0+sin(yb))/(r0**2-1))*((1/cos(yb))*((1-sin(yb))/(1+sin(yb)))**(r0/2))\n",
    "Rbprima"
   ]
  },
  {
   "cell_type": "code",
   "execution_count": 9,
   "metadata": {},
   "outputs": [
    {
     "data": {
      "image/png": "[encoded data removed]",
      "text/latex": [
       "$$1219.55994743168$$"
      ],
      "text/plain": [
       "1219.55994743168"
      ]
     },
     "execution_count": 9,
     "metadata": {},
     "output_type": "execute_result"
    }
   ],
   "source": [
    "Vb.evalf()\n"
   ]
  },
  {
   "cell_type": "code",
   "execution_count": null,
   "metadata": {},
   "outputs": [],
   "source": []
  }
 ],
 "metadata": {
  "kernelspec": {
   "display_name": "Python 3",
   "language": "python",
   "name": "python3"
  },
  "language_info": {
   "codemirror_mode": {
    "name": "ipython",
    "version": 3
   },
   "file_extension": ".py",
   "mimetype": "text/x-python",
   "name": "python",
   "nbconvert_exporter": "python",
   "pygments_lexer": "ipython3",
   "version": "3.6.4"
  }
 },
 "nbformat": 4,
 "nbformat_minor": 2
}
