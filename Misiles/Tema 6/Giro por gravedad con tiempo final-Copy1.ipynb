{
 "cells": [
  {
   "cell_type": "markdown",
   "metadata": {},
   "source": [
    "Parcial 2017 Ejercicio 4\n",
    "\n",
    "Un lanzador inicia un ascenso vertical mediante la ignición del propulsante de su primer escalón, cuyo fin de combustión ocurre a los 50 segundos de iniciado el vuelo. A los 10 segundos de iniciada la combustión y a una altitud de 1000m, el sistema de guiado y control de forma instantánea inclina 2º la velocidad de 200 m/s del centro de masas respecto a la vertical y en dirección del acimut requerido de vuelo. A partir de ese instante, es iniciado un giro por gravedad, con un empuje especifico constante de valor 3. Determínese la velocidad e inclinación o ángulo de subida respecto a la horizontal, en el instante final de la combustión del propulsante del primer escalón. go=9.81 error permitido angulo subida <0,001 rad"
   ]
  },
  {
   "cell_type": "code",
   "execution_count": 1,
   "metadata": {},
   "outputs": [],
   "source": [
    "#primero importamos\n",
    "import numpy as np\n",
    "#importar numpy para calculo numérico\n",
    "from sympy import *\n",
    "#importar sympy para calculo simbolico\n",
    "init_printing(use_latex=True)\n",
    "from scipy import optimize"
   ]
  },
  {
   "cell_type": "code",
   "execution_count": 2,
   "metadata": {},
   "outputs": [],
   "source": [
    "#declaramos variables\n",
    "#Γ0 factor velocidad inicial [adim]\n",
    "R0= symbols('Γ0')\n",
    "#Γ0' factor de tiempo [adim]\n",
    "R0prima= symbols(\"Γ0'\")\n",
    "#Γb factor velocidad final de combustión[adim]\n",
    "Rb= symbols('Γb')\n",
    "#Γb' factor de tiempo final de la combustión [adim]\n",
    "Rbprima= symbols(\"Γb'\")\n",
    "#γ0 angulo inicial 1-beta [rad] cerca de 90º\n",
    "y0= symbols(\"γo\")\n",
    "#γb angulo final de combustión[rad]\n",
    "yb= symbols(\"γb\")\n",
    "#tiempo final de combustion [s]\n",
    "tb= symbols(\"tb\")\n",
    "#V0 velocidad inicial de combustión [m/s]\n",
    "V0= symbols(\"V0\")\n",
    "#Vb velocidad final de combustión [m/s]\n",
    "Vb= symbols(\"Vb\")\n",
    "#xb posición tras combustión en x [m]\n",
    "xb= symbols('xb')\n",
    "#zb posción tras combustión en z [m]\n",
    "zb= symbols('zb')\n",
    "#r0 empuje específico\n",
    "r0=symbols('r0')\n",
    "#gravedad g0 [m/s**2]\n",
    "g0=symbols('g0')\n"
   ]
  },
  {
   "cell_type": "code",
   "execution_count": 3,
   "metadata": {},
   "outputs": [],
   "source": [
    "r0=3\n",
    "y0=rad(90-2)\n",
    "V0=200\n",
    "g0=9.81\n",
    "t0=10\n",
    "tb=50\n",
    "x0=0\n",
    "z0=1000"
   ]
  },
  {
   "cell_type": "code",
   "execution_count": 4,
   "metadata": {
    "scrolled": true
   },
   "outputs": [],
   "source": [
    "#calcular factor velocidad inicial\n",
    "R0=(1/cos(y0))*((1-sin(y0))/(1+sin(y0)))**(r0/2)\n",
    "\n",
    "#calcular factor tiempo inicial\n",
    "R0prima=((r0+sin(y0))/(r0**2-1))*R0\n",
    "\n",
    "#calcular factor tiempo final\n",
    "Rbprima=R0prima+g0*R0*(tb-t0)/V0\n",
    "\n",
    "#combinand la expresión del factor de tiempo y velocidad final, y preparandolo para iterar\n",
    "Rb=(1/cos(yb))*((1-sin(yb))/(1+sin(yb)))**(r0/2)\n",
    "f1=((r0+sin(yb))/(r0**2-1))*Rb-Rbprima\n",
    "f1solve=lambdify(yb,f1)\n",
    "#resolvemos para obtener yb\n",
    "yb=optimize.newton(f1solve,1,tol=1.48e-10)\n",
    "\n",
    "#calcular factor velocidad final\n",
    "Rb=(1/cos(yb))*((1-sin(yb))/(1+sin(yb)))**(r0/2)\n",
    "\n",
    "#calcular velocidad final\n",
    "Vb=Rb*V0/R0\n",
    "\n",
    "#calcular posiciones finales\n",
    "zb=(V0**2/(g0*R0**2))*(1/(2*(r0**2-1)))*(Rb**2*(r0*sin(yb)+1-0.5*cos(yb)**2)-R0**2*(r0*sin(y0)+1-0.5*cos(y0)**2))+z0\n",
    "\n",
    "xb=(V0**2/(g0*R0**2))*(1/(4*r0**2-1))*(Rb**2*cos(yb)*(2*r0+sin(yb))-R0**2*cos(y0)*(2*r0+sin(y0)))+x0"
   ]
  },
  {
   "cell_type": "code",
   "execution_count": 5,
   "metadata": {},
   "outputs": [
    {
     "name": "stdout",
     "output_type": "stream",
     "text": [
      "Γ0= 0.000152386060559525     Γ0'= 7.61814265959178e-5\n",
      "Γb= 0.000750887900297265     Γb'= 0.000375162877413707 γb= 1.493387544725113\n",
      "xb= 1502.10545964920 m     zb= 24658.0469343405 m\n",
      "Vb= 985.507332547587 m/s\n"
     ]
    }
   ],
   "source": [
    "print('Γ0=',R0.evalf(),'   ',\"Γ0'=\",R0prima.evalf())\n",
    "print('Γb=',Rb.evalf(),'   ',\"Γb'=\",Rbprima.evalf(),\"γb=\",yb)\n",
    "print('xb=',xb.evalf(),'m','   ','zb=',zb.evalf(),'m')\n",
    "print('Vb=',Vb.evalf(),'m/s')"
   ]
  },
  {
   "cell_type": "code",
   "execution_count": null,
   "metadata": {},
   "outputs": [],
   "source": []
  }
 ],
 "metadata": {
  "kernelspec": {
   "display_name": "Python 3",
   "language": "python",
   "name": "python3"
  },
  "language_info": {
   "codemirror_mode": {
    "name": "ipython",
    "version": 3
   },
   "file_extension": ".py",
   "mimetype": "text/x-python",
   "name": "python",
   "nbconvert_exporter": "python",
   "pygments_lexer": "ipython3",
   "version": "3.6.4"
  }
 },
 "nbformat": 4,
 "nbformat_minor": 2
}
