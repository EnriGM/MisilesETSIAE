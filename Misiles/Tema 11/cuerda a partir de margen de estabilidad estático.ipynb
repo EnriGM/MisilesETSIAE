{
 "cells": [
  {
   "cell_type": "markdown",
   "metadata": {},
   "source": [
    "enero 2017 ejercicio 4\n",
    "\n",
    "Determinar la cuerda necesaria del sistema estabilizador de cuatro paneles, configuración cruciforme, de un cohete para que tenga un margen de estabilidad de 1 calibre a Mach 2 y nivel del mar. La longitud total del vehículo es de 4,0 m y su diámetro de 0,20 m, con 0,3 m de longitud de la proa cónica y con 3,7 m de longitud de sección cilíndrica posterior. Cada panel es rectangular de envergadura 0,1 m. El c.d.g. del cohete y el borde de salida de las aletas están situados a 2,0 m y 4,0m, respectivamente, del vértice de la proa.\n",
    "\n"
   ]
  },
  {
   "cell_type": "code",
   "execution_count": 2,
   "metadata": {},
   "outputs": [],
   "source": [
    "#primero importamos\n",
    "import numpy as np\n",
    "#importar numpy para calculo numérico\n",
    "from sympy import *\n",
    "#importar sympy para calculo simbolico\n",
    "init_printing(use_latex=True)\n",
    "from scipy import optimize\n",
    "import math"
   ]
  },
  {
   "cell_type": "code",
   "execution_count": 3,
   "metadata": {},
   "outputs": [],
   "source": [
    "b=0.1*2\n",
    "h=1\n",
    "l=4\n",
    "ln=0.3\n",
    "#la=l-ln\n",
    "d=0.2\n",
    "M=2\n",
    "#a=340\n",
    "#rho=1.225\n",
    "c=symbols('c')\n",
    "xcg=2\n",
    "#xw=l-c\n",
    "#A=infinito\n",
    "CNαb=3 #dato, en la hoja de fórmulas\n"
   ]
  },
  {
   "cell_type": "code",
   "execution_count": 4,
   "metadata": {},
   "outputs": [
    {
     "data": {
      "image/png": "[encoded data removed]",
      "text/latex": [
       "$$\\left ( \\frac{4 \\sqrt{3}}{3}, \\quad \\frac{60.0 c}{\\pi} \\sqrt{3} \\left(2.5 c - 10.0\\right) + 27.0, \\quad \\frac{60.0 c}{\\pi} \\sqrt{3} + 3\\right )$$"
      ],
      "text/plain": [
       "⎛4⋅√3  60.0⋅√3⋅c⋅(2.5⋅c - 10.0)         60.0⋅√3⋅c    ⎞\n",
       "⎜────, ──────────────────────── + 27.0, ───────── + 3⎟\n",
       "⎝ 3               π                         π        ⎠"
      ]
     },
     "execution_count": 4,
     "metadata": {},
     "output_type": "execute_result"
    }
   ],
   "source": [
    "Sref=pi*(d/2)**2\n",
    "β=sqrt(M**2-1)\n",
    "Kmb=1+d/(b+d)\n",
    "Kbm=(d/(d+b))*(1+d/(b+d))\n",
    "xcpb=(2/3)*ln #dato, en la hoja de fórmulas\n",
    "xcpw=4-c/2 #dato, en la hoja de fórmulas\n",
    "CNαw=(4/β)\n",
    "\n",
    "Sw=b*c\n",
    "#CNαw=(4/β)*(1-(1/(2*A*β))) A=infinito\n",
    "# se deja todo en función de b\n",
    "\n",
    "Cmα=CNαb*((xcg-xcpb)/d)+CNαw*(Kmb+Kbm)*(Sw/Sref)*((xcg-xcpw)/d)\n",
    "CNα=CNαb+CNαw*(1-0)*(Kmb+Kbm)*(Sw/Sref)+0\n",
    "\n",
    "CNαw,Cmα,CNα"
   ]
  },
  {
   "cell_type": "code",
   "execution_count": 5,
   "metadata": {},
   "outputs": [
    {
     "data": {
      "image/png": "[encoded data removed]",
      "text/latex": [
       "$$\\left [ 0.103757055385887, \\quad 3.49624294461411\\right ]$$"
      ],
      "text/plain": [
       "[0.103757055385887, 3.49624294461411]"
      ]
     },
     "execution_count": 5,
     "metadata": {},
     "output_type": "execute_result"
    }
   ],
   "source": [
    "#de la expresión de margen de estabilidad estático\n",
    "f1=Eq(Cmα/CNα,-h)\n",
    "c=solve(f1,c)\n",
    "#c=c[0]\n",
    "c"
   ]
  },
  {
   "cell_type": "code",
   "execution_count": 6,
   "metadata": {},
   "outputs": [
    {
     "data": {
      "image/png": "[encoded data removed]",
      "text/latex": [
       "$$CNα_{b} + \\frac{CNα_{w} b}{S_{ref}} c \\left(K_{bm} + K_{mb}\\right)$$"
      ],
      "text/plain": [
       "        CNα_w⋅b⋅c⋅(K_bm + K_mb)\n",
       "CNα_b + ───────────────────────\n",
       "                 S_ref         "
      ]
     },
     "execution_count": 6,
     "metadata": {},
     "output_type": "execute_result"
    }
   ],
   "source": [
    "# para ver las fórmulas\n",
    "\n",
    "\n",
    "b=symbols(\"b\")\n",
    "c=symbols(\"c\")\n",
    "CNαb=symbols(\"CNα_b\")\n",
    "CNαw=symbols(\"CNα_w\")\n",
    "d=symbols(\"d\")\n",
    "xcg=symbols(\"x_cg\")\n",
    "xcpb=symbols(\"x_cpb\")\n",
    "L=symbols(\"L\")\n",
    "Kmb=symbols(\"K_mb\")\n",
    "Kbm=symbols('K_bm')\n",
    "Sref=symbols(\"S_ref\")\n",
    "h=symbols(\"h\")\n",
    "\n",
    "Sw=b*c\n",
    "xcpw=L-c/2\n",
    "xcpw=symbols(\"x_cpw\")\n",
    "Cmα=CNαb*((xcg-xcpb)/d)+CNαw*(Kmb+Kbm)*(b*c/Sref)*((xcg-xcpw)/d)\n",
    "CNα=CNαb+CNαw*(Kmb+Kbm)*(b*c/Sref)\n",
    "h=-(Cmα/CNα)\n",
    "\n",
    "#f1=Eq(Cmα/CNα,-h)\n",
    "#c=solve(f1,c)\n",
    "\n",
    "#h\n",
    "#c\n",
    "CNα"
   ]
  },
  {
   "cell_type": "code",
   "execution_count": null,
   "metadata": {},
   "outputs": [],
   "source": []
  },
  {
   "cell_type": "code",
   "execution_count": null,
   "metadata": {},
   "outputs": [],
   "source": []
  },
  {
   "cell_type": "code",
   "execution_count": null,
   "metadata": {},
   "outputs": [],
   "source": []
  }
 ],
 "metadata": {
  "kernelspec": {
   "display_name": "Python 3",
   "language": "python",
   "name": "python3"
  },
  "language_info": {
   "codemirror_mode": {
    "name": "ipython",
    "version": 3
   },
   "file_extension": ".py",
   "mimetype": "text/x-python",
   "name": "python",
   "nbconvert_exporter": "python",
   "pygments_lexer": "ipython3",
   "version": "3.6.4"
  }
 },
 "nbformat": 4,
 "nbformat_minor": 2
}
