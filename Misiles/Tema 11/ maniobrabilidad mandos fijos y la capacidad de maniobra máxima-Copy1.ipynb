{
 "cells": [
  {
   "cell_type": "markdown",
   "metadata": {},
   "source": [
    "enero 2016 ejercicio 5\n",
    "\n",
    "Calcúlese la maniobrabilidad mandos fijos y la capacidad de maniobra máxima de un misil sin ala y mando cola de 4.9m de longitud total y 0.45m de diámetro con una proa cónica de 0.5m, volando a mach 2.5 y nivel del mar. La cola cruciforme está constituida por cuatro paneles rectangulares planos, cada uno de ellos con una envergadura de 0.19m, cuerda de 0.19m y eje de giro del panel en el punto medio de la misma. El borde de salida de los paneles y el cdg están situados a 4.9m y a 2m del vértice de la punta del misil, respectivamente. La masa del misil es de 200kg. El delta máximo mecánico son +-20º y el CN de saturación de la cola es de 1,4 referido a la superficie en planta de dos paneles."
   ]
  },
  {
   "cell_type": "code",
   "execution_count": 8,
   "metadata": {},
   "outputs": [],
   "source": [
    "#primero importamos\n",
    "import numpy as np\n",
    "#importar numpy para calculo numérico\n",
    "from sympy import *\n",
    "#importar sympy para calculo simbolico\n",
    "init_printing(use_latex=True)\n",
    "from scipy import optimize\n",
    "import math"
   ]
  },
  {
   "cell_type": "code",
   "execution_count": 9,
   "metadata": {},
   "outputs": [],
   "source": [
    "#mach [adim]\n",
    "M=symbols('M')\n",
    "#velocidad sonido [m/s]\n",
    "a=symbols('a')\n",
    "# ρ densidad [kg/m**3]\n",
    "rho=symbols('ρ')\n",
    "#c cuerda de las alas [m]\n",
    "c=symbols('c')\n",
    "#xw distancia hasta la punta de las alas [m]\n",
    "xw=symbols('xw')\n",
    "#diametro [m]\n",
    "d=symbols('d')\n",
    "\n",
    "#ln longitud del cono (nose) [m]\n",
    "ln=symbols('ln')\n",
    "\n",
    "#CNαb coef de fuerza normal del cohete\n",
    "CNαb=symbols('CNαb')\n",
    "#CNαw coef de fuerza normal de las alas \n",
    "CNαw=symbols('CNαw')\n",
    "#CNα coef de fuerza normal total\n",
    "CNα=symbols('CNα')\n",
    "#Cmα coef de momentos total\n",
    "Cmα=symbols('Cmα')\n",
    "\n",
    "#b envergadura del ala, b es la de dos paneles, b/2 la de uno [m]\n",
    "b=symbols('b')\n",
    "#xcg posición centro de gravedad del misil [m]\n",
    "xcg=symbols('xcg')\n",
    "\n",
    "#xcpb posición centro de presiones del misil [m]\n",
    "xcpb=symbols('xcpb')\n",
    "#xcpw posición centro de presiones del ala [m]\n",
    "xcpw=symbols('xcpw')\n",
    "\n",
    "#Q presión dinámica [N/m**2]\n",
    "Q=symbols('Q')\n",
    "#Sw=b*c superficie del ala, se calcula como b*c aunque sean 4 [m**2]\n",
    "Sw=symbols('Sw')\n",
    "#Sref superficie de referencia [m**2]\n",
    "Sref=symbols('Sref')\n",
    "#Alargamiento b/c\n",
    "A=symbols('A')\n",
    "#h margen de estabilidad estático [adim]\n",
    "h=symbols('h')\n",
    "#CNsatw Coef fuerza normal de saturación adim\n",
    "CNsatw=symbols('CNsatw')\n",
    "#n/δ maniobrabilidad en mandos fijos [g/rad]\n",
    "nδ=symbols('n/δ')\n",
    "#capacidad de maniobra máxima nmax [g]\n",
    "nmax=symbols('nmax')\n",
    "#αsat\n",
    "#m masa kg\n",
    "m=symbols('m')"
   ]
  },
  {
   "cell_type": "code",
   "execution_count": 10,
   "metadata": {},
   "outputs": [],
   "source": [
    "M=2.5\n",
    "rho=1.225\n",
    "g=9.81\n",
    "a=340\n",
    "b=2*0.19\n",
    "c=0.19\n",
    "d=0.45\n",
    "l=4.9 #longitud total del misil\n",
    "ln=0.5\n",
    "CNαb=2\n",
    "xcg=2\n",
    "m=200\n",
    "CNsatm=1.4\n",
    "δmax=20 #º\n",
    "\n",
    "#xm=l-c #donde empiezan los mandos"
   ]
  },
  {
   "cell_type": "code",
   "execution_count": 13,
   "metadata": {},
   "outputs": [
    {
     "name": "stdout",
     "output_type": "stream",
     "text": [
      "-21.3012867689625\n",
      "αsat= 0.900167020672902\n",
      "δsat= 20.0\n",
      "n/δ= -253.734497741718 g/rad\n",
      "nmax= -88.5700482297418 g\n"
     ]
    }
   ],
   "source": [
    "β=sqrt(M**2-1)\n",
    "Sref=pi*(d/2)**2\n",
    "A=b/c\n",
    "Sm=b*c #pese a ser 4 paneles la Sw es la de dos\n",
    "\n",
    "xcpm=l-c/2 #posicion centro de presiones de los mandos\n",
    "xcpb=(2/3)*ln #posicion centro de presiones de los cuerpo\n",
    "\n",
    "CNαm=(4/β)*(1-(1/(2*A*β)))\n",
    "\n",
    "#KWB +KBW= (1+d/(b+d))**2\n",
    "KWBKBW= (1+d/(b+d))**2\n",
    "\n",
    "CNα=CNαb+CNαm*(1-0)*(KWBKBW)*(Sm/Sref)+0\n",
    "\n",
    "Cmα=CNαb*((xcg-xcpb)/d)+CNαm*KWBKBW*(Sm/Sref)*((xcg-xcpm)/d)\n",
    "\n",
    "h=-(Cmα/CNα)\n",
    "\n",
    "#kBM +kMB =(1+d/s)\n",
    "s=d+b\n",
    "kBMkMB=1+d/s\n",
    "kMB=1\n",
    "\n",
    "CNδm=CNαm\n",
    "CNδ=CNδm*(kBMkMB)*(Sm/Sref)\n",
    "\n",
    "Cmδ=CNδ*(xcg-xcpm)/d\n",
    "\n",
    "Q=0.5*rho*(M*a)**2\n",
    "\n",
    "#n/δ maniobrabilidad en mandos fijos\n",
    "nδ=Q*Sref*(CNδ+Cmδ/h)/(m*g)\n",
    "\n",
    "αsat=(CNsatm/CNαm)\n",
    "\n",
    "kwb =1+(d/(b+d))\n",
    "\n",
    "δsat=αsat/(kwb*(-Cmδ/Cmα)+kMB) #comprobar si ángulo posible mecanicamente\n",
    "\n",
    "# delta es mayor que el mecánicamente posible luego:\n",
    "δsat=rad(δmax)\n",
    "#capacidad de maniobra máxima nmax\n",
    "nmax=nδ*δsat\n",
    "print('αsat=',αsat.evalf())\n",
    "print('δsat=',math.degrees(δsat))\n",
    "print('n/δ=',nδ.evalf(),'g/rad')\n",
    "print('nmax=',nmax.evalf(),'g')"
   ]
  },
  {
   "cell_type": "code",
   "execution_count": 16,
   "metadata": {},
   "outputs": [
    {
     "data": {
      "image/png": "[encoded data removed]",
      "text/latex": [
       "$$\\left ( 2.29128784747792, \\quad 0.159043128087983, \\quad 2.0, \\quad 0.0722, \\quad 4.805000000000001, \\quad 0.3333333333333333, \\quad 1.55526693141175, \\quad 2.3782842212222386, \\quad 3.67915575083456, \\quad -3.05933010612799, \\quad 0.831530468758773, \\quad 1.5421686746987953, \\quad 1.08882755718178, \\quad -6.78702510643311, \\quad 442531.25000000006, \\quad -253.734497741718\\right )$$"
      ],
      "text/plain": [
       "(2.29128784747792, 0.159043128087983, 2.0, 0.0722, 4.805000000000001, 0.333333\n",
       "3333333333, 1.55526693141175, 2.3782842212222386, 3.67915575083456, -3.0593301\n",
       "0612799, 0.831530468758773, 1.5421686746987953, 1.08882755718178, -6.787025106\n",
       "43311, 442531.25000000006, -253.734497741718)"
      ]
     },
     "execution_count": 16,
     "metadata": {},
     "output_type": "execute_result"
    }
   ],
   "source": [
    "β,Sref.evalf(),A,Sm,xcpm,xcpb,CNαm,KWBKBW,CNα.evalf(),Cmα.evalf(),h.evalf(),kBMkMB,CNδ.evalf(),Cmδ.evalf(),Q,nδ.evalf()"
   ]
  },
  {
   "cell_type": "code",
   "execution_count": null,
   "metadata": {},
   "outputs": [],
   "source": []
  }
 ],
 "metadata": {
  "kernelspec": {
   "display_name": "Python 3",
   "language": "python",
   "name": "python3"
  },
  "language_info": {
   "codemirror_mode": {
    "name": "ipython",
    "version": 3
   },
   "file_extension": ".py",
   "mimetype": "text/x-python",
   "name": "python",
   "nbconvert_exporter": "python",
   "pygments_lexer": "ipython3",
   "version": "3.6.4"
  }
 },
 "nbformat": 4,
 "nbformat_minor": 2
}
