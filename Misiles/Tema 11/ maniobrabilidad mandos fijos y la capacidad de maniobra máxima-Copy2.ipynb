{
 "cells": [
  {
   "cell_type": "markdown",
   "metadata": {},
   "source": [
    "1º parcial 2015 ejercicio 9\n",
    "\n",
    "Calcúlese la maniobrabilidad mandos fijos y la capacidad de maniobra máxima de un misil sin ala y mando cola de 5m de longitud total y 0.5m de diámetro con una proa cónica de 0.5m, volando a mach 2.5 y nivel del mar. La cola cruciforme está constituida por cuatro paneles rectangulares planos, cada uno de ellos con una envergadura de 0.2m, cuerda de 0.2m y eje de giro del panel en el punto medio de la misma. El borde de salida de los paneles y el cdg están situados a 5m y a 2m del vértice de la punta del misil, respectivamente. La masa del misil es de 200kg. El delta máximo mecánico son +-20º y el CN de saturación de la cola es de 1,4 referido a la superficie en planta de dos paneles."
   ]
  },
  {
   "cell_type": "code",
   "execution_count": 2,
   "metadata": {},
   "outputs": [],
   "source": [
    "#primero importamos\n",
    "import numpy as np\n",
    "#importar numpy para calculo numérico\n",
    "from sympy import *\n",
    "#importar sympy para calculo simbolico\n",
    "init_printing(use_latex=True)\n",
    "from scipy import optimize\n",
    "import math"
   ]
  },
  {
   "cell_type": "code",
   "execution_count": 3,
   "metadata": {},
   "outputs": [],
   "source": [
    "#mach [adim]\n",
    "M=symbols('M')\n",
    "#velocidad sonido [m/s]\n",
    "a=symbols('a')\n",
    "# ρ densidad [kg/m**3]\n",
    "rho=symbols('ρ')\n",
    "#c cuerda de las alas [m]\n",
    "c=symbols('c')\n",
    "#xw distancia hasta la punta de las alas [m]\n",
    "xw=symbols('xw')\n",
    "#diametro [m]\n",
    "d=symbols('d')\n",
    "\n",
    "#ln longitud del cono (nose) [m]\n",
    "ln=symbols('ln')\n",
    "\n",
    "#CNαb coef de fuerza normal del cohete\n",
    "CNαb=symbols('CNαb')\n",
    "#CNαw coef de fuerza normal de las alas \n",
    "CNαw=symbols('CNαw')\n",
    "#CNα coef de fuerza normal total\n",
    "CNα=symbols('CNα')\n",
    "#Cmα coef de momentos total\n",
    "Cmα=symbols('Cmα')\n",
    "\n",
    "#b envergadura del ala, b es la de dos paneles, b/2 la de uno [m]\n",
    "b=symbols('b')\n",
    "#xcg posición centro de gravedad del misil [m]\n",
    "xcg=symbols('xcg')\n",
    "\n",
    "#xcpb posición centro de presiones del misil [m]\n",
    "xcpb=symbols('xcpb')\n",
    "#xcpw posición centro de presiones del ala [m]\n",
    "xcpw=symbols('xcpw')\n",
    "\n",
    "#Q presión dinámica [N/m**2]\n",
    "Q=symbols('Q')\n",
    "#Sw=b*c superficie del ala, se calcula como b*c aunque sean 4 [m**2]\n",
    "Sw=symbols('Sw')\n",
    "#Sref superficie de referencia [m**2]\n",
    "Sref=symbols('Sref')\n",
    "#Alargamiento b/c\n",
    "A=symbols('A')\n",
    "#h margen de estabilidad estático [adim]\n",
    "h=symbols('h')\n",
    "#CNsatw Coef fuerza normal de saturación adim\n",
    "CNsatw=symbols('CNsatw')\n",
    "#n/δ maniobrabilidad en mandos fijos [g/rad]\n",
    "nδ=symbols('n/δ')\n",
    "#capacidad de maniobra máxima nmax [g]\n",
    "nmax=symbols('nmax')\n",
    "#αsat\n",
    "#m masa kg\n",
    "m=symbols('m')"
   ]
  },
  {
   "cell_type": "code",
   "execution_count": 4,
   "metadata": {},
   "outputs": [],
   "source": [
    "M=2.5\n",
    "rho=1.225\n",
    "g=9.81\n",
    "a=340\n",
    "b=2*0.2\n",
    "c=0.2\n",
    "d=0.5\n",
    "l=5 #longitud total del misil\n",
    "ln=0.5\n",
    "CNαb=2\n",
    "xcg=2\n",
    "m=200\n",
    "CNsatm=1.4\n",
    "δmax=20 #º\n",
    "xcpm=l-c/2 #posicion centro de presiones de los mandos\n",
    "xcpb=(2/3)*ln #posicion centro de presiones de los cuerpo\n",
    "xm=l-c #donde empiezan los mandos"
   ]
  },
  {
   "cell_type": "code",
   "execution_count": 7,
   "metadata": {},
   "outputs": [
    {
     "name": "stdout",
     "output_type": "stream",
     "text": [
      "n/δ= -358.122365025728 g/rad\n",
      "nmax 107.671075999547 g\n"
     ]
    }
   ],
   "source": [
    "β=sqrt(M**2-1)\n",
    "Sm=b*c #pese a ser 4 paneles la Sw es la de dos\n",
    "Sref=pi*(d/2)**2\n",
    "A=b/c\n",
    "CNαm=(4/β)*(1-(1/(2*A*β)))\n",
    "CNδm=CNαm\n",
    "\n",
    "#KWB +KBW= (1+d/(b+d))**2\n",
    "KWBKBW= (1+d/(b+d))**2\n",
    "\n",
    "CNα=CNαb+CNαm*(1-0)*(KWBKBW)*(Sm/Sref)+0\n",
    "\n",
    "Cmα=CNαb*((xcg-xcpb)/d)+CNαm*KWBKBW*(Sm/Sref)*((xcg-xcpm)/d)\n",
    "\n",
    "h=-(Cmα/CNα)\n",
    "\n",
    "#kBM +kMB =(1+d/s)\n",
    "s=d+b\n",
    "kBMkMB=1+d/s\n",
    "kMB=1\n",
    "\n",
    "CNδ=CNδm*(kBMkMB)*(Sm/Sref)\n",
    "\n",
    "Cmδ=CNδ*(xcg-xcpm)/d\n",
    "\n",
    "Q=0.5*rho*(M*a)**2\n",
    "\n",
    "#n/δ maniobrabilidad en mandos fijos\n",
    "nδ=Q*Sref*(CNδ+Cmδ/h)/(m*g)\n",
    "\n",
    "αsat=(CNsatm/CNαm)\n",
    "\n",
    "kwb =1+(d/(b+d))\n",
    "\n",
    "δsat=αsat/(kwb*(-Cmδ/Cmα)+kMB) #comprobar si ángulo posible mecanicamente\n",
    "#capacidad de maniobra máxima nmax\n",
    "nmax=nδ*δsat\n",
    "\n",
    "print('n/δ=',nδ.evalf(),'g/rad')\n",
    "print('nmax',nmax.evalf(),'g')"
   ]
  },
  {
   "cell_type": "code",
   "execution_count": 6,
   "metadata": {},
   "outputs": [
    {
     "data": {
      "image/png": "[encoded data removed]",
      "text/latex": [
       "$$\\left ( -358.122365025728, \\quad 0.900167020672902, \\quad 1.5555555555555556, \\quad -0.300654431319339, \\quad 107.671075999547\\right )$$"
      ],
      "text/plain": [
       "(-358.122365025728, 0.900167020672902, 1.5555555555555556, -0.300654431319339,\n",
       " 107.671075999547)"
      ]
     },
     "execution_count": 6,
     "metadata": {},
     "output_type": "execute_result"
    }
   ],
   "source": [
    "nδ.evalf(),αsat.evalf(),kwb,δsat.evalf(),nmax.evalf()"
   ]
  },
  {
   "cell_type": "code",
   "execution_count": null,
   "metadata": {},
   "outputs": [],
   "source": []
  }
 ],
 "metadata": {
  "kernelspec": {
   "display_name": "Python 3",
   "language": "python",
   "name": "python3"
  },
  "language_info": {
   "codemirror_mode": {
    "name": "ipython",
    "version": 3
   },
   "file_extension": ".py",
   "mimetype": "text/x-python",
   "name": "python",
   "nbconvert_exporter": "python",
   "pygments_lexer": "ipython3",
   "version": "3.6.4"
  }
 },
 "nbformat": 4,
 "nbformat_minor": 2
}
