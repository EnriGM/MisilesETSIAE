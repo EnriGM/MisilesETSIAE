{
 "cells": [
  {
   "cell_type": "markdown",
   "metadata": {},
   "source": [
    "Noviembre 2017 ejercicio 3\n",
    "\n",
    "Un misil de masa 545 kg, tiene 6m de longitud total, con una proa cónica de longitud 0,3m y una sección posterior cilíndrica de 5,7m de longitud y 0,25 m de diámetro. Para una configuración cruciforme, con cuatro aletas rectangulares de espesor pequeño, cada una de envergadura de 0,3m y con el borde de salida situada a 6,0 m del vértice de la proa, el c.d.g. del misil se encuentra a 3 m de dicho vértice. En un vuelo a mach 2 y nivel del mar, determínese la cuerda de las aletas, para que el margen estático sea 2 (referido al diámetro del cilindro)\n",
    "\n"
   ]
  },
  {
   "cell_type": "code",
   "execution_count": 1,
   "metadata": {},
   "outputs": [],
   "source": [
    "#primero importamos\n",
    "import numpy as np\n",
    "#importar numpy para calculo numérico\n",
    "from sympy import *\n",
    "#importar sympy para calculo simbolico\n",
    "init_printing(use_latex=True)\n",
    "from scipy import optimize\n",
    "import math"
   ]
  },
  {
   "cell_type": "code",
   "execution_count": 9,
   "metadata": {},
   "outputs": [],
   "source": [
    "b=0.3*2\n",
    "h=2\n",
    "l=6\n",
    "ln=0.3\n",
    "#la=l-ln\n",
    "d=0.25\n",
    "M=2\n",
    "#a=340\n",
    "#rho=1.225\n",
    "c=symbols('c')\n",
    "xcg=3\n",
    "#xw=l-c\n",
    "#A=infinito\n",
    "CNαb=2 #dato, en la hoja de fórmulas\n"
   ]
  },
  {
   "cell_type": "code",
   "execution_count": 11,
   "metadata": {},
   "outputs": [],
   "source": [
    "Sref=pi*(d/2)**2\n",
    "β=sqrt(M**2-1)\n",
    "Kmb=1+d/(b+d)\n",
    "Kbm=(d/(d+b))*(1+d/(b+d))\n",
    "xcpb=(2/3)*ln #dato, en la hoja de fórmulas\n",
    "xcpw=l-c/2 #dato, en la hoja de fórmulas\n",
    "CNαw=(4/β)\n",
    "\n",
    "Sw=b*c\n",
    "#CNαw=(4/β)*(1-(1/(2*A*β))) A=infinito\n",
    "# se deja todo en función de b\n",
    "\n",
    "Cmα=CNαb*((xcg-xcpb)/d)+CNαw*(Kmb+Kbm)*(Sw/Sref)*((xcg-xcpw)/d)\n",
    "CNα=CNαb+CNαw*(1-0)*(Kmb+Kbm)*(Sw/Sref)+0\n",
    "\n"
   ]
  },
  {
   "cell_type": "code",
   "execution_count": 7,
   "metadata": {},
   "outputs": [
    {
     "data": {
      "image/png": "[encoded data removed]",
      "text/latex": [
       "$$\\left [ 0.056481935587637, \\quad 4.94351806441236\\right ]$$"
      ],
      "text/plain": [
       "[0.056481935587637, 4.94351806441236]"
      ]
     },
     "execution_count": 7,
     "metadata": {},
     "output_type": "execute_result"
    }
   ],
   "source": [
    "#de la expresión de margen de estabilidad estático\n",
    "f1=Eq(Cmα/CNα,-h)\n",
    "c=solve(f1,c)\n",
    "#c=c[0]\n",
    "c"
   ]
  },
  {
   "cell_type": "code",
   "execution_count": 21,
   "metadata": {},
   "outputs": [
    {
     "data": {
      "image/png": "[encoded data removed]",
      "text/latex": [
       "$$\\left ( 0.0490873852123405, \\quad 1.73205080756888, \\quad 1.2941176470588236, \\quad 0.3806228373702423, \\quad 0.19999999999999998, \\quad 2.3094010767585\\right )$$"
      ],
      "text/plain": [
       "(0.0490873852123405, 1.73205080756888, 1.2941176470588236, 0.3806228373702423,\n",
       " 0.19999999999999998, 2.3094010767585)"
      ]
     },
     "execution_count": 21,
     "metadata": {},
     "output_type": "execute_result"
    }
   ],
   "source": [
    "Sref.evalf(),β.evalf(),Kmb,Kbm,xcpb,CNαw.evalf()"
   ]
  },
  {
   "cell_type": "code",
   "execution_count": 12,
   "metadata": {},
   "outputs": [
    {
     "data": {
      "image/png": "[encoded data removed]",
      "text/latex": [
       "$$CNα_{b} + \\frac{CNα_{w} b}{S_{ref}} c \\left(K_{bm} + K_{mb}\\right)$$"
      ],
      "text/plain": [
       "        CNα_w⋅b⋅c⋅(K_bm + K_mb)\n",
       "CNα_b + ───────────────────────\n",
       "                 S_ref         "
      ]
     },
     "execution_count": 12,
     "metadata": {},
     "output_type": "execute_result"
    }
   ],
   "source": [
    "# para ver las fórmulas\n",
    "\n",
    "\n",
    "b=symbols(\"b\")\n",
    "c=symbols(\"c\")\n",
    "CNαb=symbols(\"CNα_b\")\n",
    "CNαw=symbols(\"CNα_w\")\n",
    "d=symbols(\"d\")\n",
    "xcg=symbols(\"x_cg\")\n",
    "xcpb=symbols(\"x_cpb\")\n",
    "L=symbols(\"L\")\n",
    "Kmb=symbols(\"K_mb\")\n",
    "Kbm=symbols('K_bm')\n",
    "Sref=symbols(\"S_ref\")\n",
    "h=symbols(\"h\")\n",
    "\n",
    "Sw=b*c\n",
    "xcpw=L-c/2\n",
    "xcpw=symbols(\"x_cpw\")\n",
    "Cmα=CNαb*((xcg-xcpb)/d)+CNαw*(Kmb+Kbm)*(b*c/Sref)*((xcg-xcpw)/d)\n",
    "CNα=CNαb+CNαw*(Kmb+Kbm)*(b*c/Sref)\n",
    "h=-(Cmα/CNα)\n",
    "\n",
    "#f1=Eq(Cmα/CNα,-h)\n",
    "#c=solve(f1,c)\n",
    "\n",
    "#h\n",
    "#c\n",
    "CNα"
   ]
  },
  {
   "cell_type": "code",
   "execution_count": null,
   "metadata": {},
   "outputs": [],
   "source": []
  },
  {
   "cell_type": "code",
   "execution_count": null,
   "metadata": {},
   "outputs": [],
   "source": []
  },
  {
   "cell_type": "code",
   "execution_count": null,
   "metadata": {},
   "outputs": [],
   "source": []
  }
 ],
 "metadata": {
  "kernelspec": {
   "display_name": "Python 3",
   "language": "python",
   "name": "python3"
  },
  "language_info": {
   "codemirror_mode": {
    "name": "ipython",
    "version": 3
   },
   "file_extension": ".py",
   "mimetype": "text/x-python",
   "name": "python",
   "nbconvert_exporter": "python",
   "pygments_lexer": "ipython3",
   "version": "3.6.4"
  }
 },
 "nbformat": 4,
 "nbformat_minor": 2
}
