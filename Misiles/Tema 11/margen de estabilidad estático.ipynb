{
 "cells": [
  {
   "cell_type": "markdown",
   "metadata": {},
   "source": [
    "1º parcial 2015 problema 8\n",
    "\n",
    "calcúlese el margen de estabilidad estático de un cohete de 5m de longitud total y 0,5m de diámetro con una proa cónica de 0,5m. La cola cruciforme está constituida por cuatro paneles rectangulares planos, cada uno de ellos con una envergadura de 0,2m y 0,2m de cuerda. El borde de salida de los paneles y el cdg del cohete están situados a 5m y 2m del vértice de la proa del misil, respectivamente."
   ]
  },
  {
   "cell_type": "code",
   "execution_count": 1,
   "metadata": {},
   "outputs": [],
   "source": [
    "#primero importamos\n",
    "import numpy as np\n",
    "#importar numpy para calculo numérico\n",
    "from sympy import *\n",
    "#importar sympy para calculo simbolico\n",
    "init_printing(use_latex=True)\n",
    "from scipy import optimize\n",
    "import math"
   ]
  },
  {
   "cell_type": "code",
   "execution_count": 2,
   "metadata": {},
   "outputs": [],
   "source": [
    "#datos\n",
    "M=2.5\n",
    "a=340\n",
    "ln=0.5\n",
    "l=5\n",
    "d=0.5\n",
    "b=0.2*2\n",
    "c=0.2\n",
    "#lw=5-c\n",
    "xcg=2\n",
    "CNαb=2\n"
   ]
  },
  {
   "cell_type": "code",
   "execution_count": 3,
   "metadata": {},
   "outputs": [
    {
     "name": "stdout",
     "output_type": "stream",
     "text": [
      "CNα= 3.53333160493709\n",
      "Cmα= -2.22665664196844\n",
      "h= 0.630186150333912\n"
     ]
    }
   ],
   "source": [
    "β=sqrt(M**2-1)\n",
    "Sref=pi*(d/2)**2\n",
    "Sw=b*c\n",
    "A=b/c\n",
    "CNαw=(4/β)*(1-(1/(2*β*A)))\n",
    "xcpw=l-c/2 #lo dice el enunciado\n",
    "xcpb=(0.5*2)/3 #lo dice el enunciado\n",
    "#KWB + KBW = (1+d/s)2\n",
    "s=d+b\n",
    "KWBKBW=(1+d/s)**2\n",
    "CNα=CNαb+CNαw*(KWBKBW)*(Sw/Sref)\n",
    "Cmα=CNαb*((xcg-xcpb)/d)+CNαw*(KWBKBW)*(Sw/Sref)*((xcg-xcpw)/d)\n",
    "h=-(Cmα/CNα)\n",
    "print('CNα=',CNα.evalf())\n",
    "print('Cmα=',Cmα.evalf())\n",
    "print('h=',h.evalf())"
   ]
  },
  {
   "cell_type": "code",
   "execution_count": null,
   "metadata": {},
   "outputs": [],
   "source": []
  }
 ],
 "metadata": {
  "kernelspec": {
   "display_name": "Python 3",
   "language": "python",
   "name": "python3"
  },
  "language_info": {
   "codemirror_mode": {
    "name": "ipython",
    "version": 3
   },
   "file_extension": ".py",
   "mimetype": "text/x-python",
   "name": "python",
   "nbconvert_exporter": "python",
   "pygments_lexer": "ipython3",
   "version": "3.6.4"
  }
 },
 "nbformat": 4,
 "nbformat_minor": 2
}
