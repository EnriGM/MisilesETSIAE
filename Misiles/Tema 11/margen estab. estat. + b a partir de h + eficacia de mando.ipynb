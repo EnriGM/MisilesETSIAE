{
 "cells": [
  {
   "cell_type": "markdown",
   "metadata": {},
   "source": [
    "enero 2014 ejercicio 2\n",
    "\n",
    "Calcúlese el margen de estabilidad estático de un cohete de 3 m de longitud total y 0,25m de diámetro, para Mach 2 al nivel del mar, con proa cónica de longitud 0.5m y envergadura de un panel de 0,075m. Ek cdg del cohete y el borde de salide de las aletas están situados a 1m y 3m, respectivamente, del vértice de la proa."
   ]
  },
  {
   "cell_type": "code",
   "execution_count": 28,
   "metadata": {},
   "outputs": [],
   "source": [
    "#primero importamos\n",
    "import numpy as np\n",
    "#importar numpy para calculo numérico\n",
    "from sympy import *\n",
    "#importar sympy para calculo simbolico\n",
    "init_printing(use_latex=True)\n",
    "from scipy import optimize\n",
    "import math"
   ]
  },
  {
   "cell_type": "code",
   "execution_count": 29,
   "metadata": {},
   "outputs": [],
   "source": [
    "#datos\n",
    "M=2\n",
    "a=340\n",
    "ln=0.5\n",
    "l=3\n",
    "d=0.25\n",
    "b=0.075*2\n",
    "c=0.5\n",
    "lw=l-c #donde empizan las aletas\n",
    "xcg=1\n",
    "\n",
    "CNαb=3.5\n"
   ]
  },
  {
   "cell_type": "code",
   "execution_count": 30,
   "metadata": {},
   "outputs": [
    {
     "name": "stdout",
     "output_type": "stream",
     "text": [
      "CNα= 7.02850493069947\n",
      "Cmα= -15.3662011815629\n",
      "h= 2.18626882005100\n"
     ]
    }
   ],
   "source": [
    "β=sqrt(M**2-1)\n",
    "Sref=pi*(d/2)**2\n",
    "Sw=b*c\n",
    "\n",
    "# se habrá usado alargamiento infinito\n",
    "\n",
    "CNαw=(4/β) # por alargamiento infinito\n",
    "\n",
    "xcpw=l-c/2 #lo dice el enunciado\n",
    "xcpb=(ln*2)/3 #lo dice el enunciado\n",
    "\n",
    "#KWB + KBW = 1 del enunciado, por alargamiento infinito\n",
    "\n",
    "KWBKBW=1 \n",
    "\n",
    "CNα=CNαb+CNαw*(KWBKBW)*(Sw/Sref)\n",
    "Cmα=CNαb*((xcg-xcpb)/d)+CNαw*(KWBKBW)*(Sw/Sref)*((xcg-xcpw)/d)\n",
    "\n",
    "h=-(Cmα/CNα)\n",
    "print('CNα=',CNα.evalf())\n",
    "print('Cmα=',Cmα.evalf())\n",
    "print('h=',h.evalf())"
   ]
  },
  {
   "cell_type": "markdown",
   "metadata": {},
   "source": [
    "enero 2014 ejercicio 3\n",
    "\n",
    "Determinar la envergadura necesaria de las aletas del cohete anterior para que tenga un margen de estabilidad de 1 calibre, sin variar la cuerda ni la posición respecto a la proa de las mismas y suponiendo que la posición del cdg permanece inalterable."
   ]
  },
  {
   "cell_type": "code",
   "execution_count": 63,
   "metadata": {},
   "outputs": [],
   "source": [
    "b=symbols('b')\n",
    "\n",
    "Sw=b*c\n",
    "CNα=CNαb+CNαw*(KWBKBW)*(Sw/Sref)\n",
    "Cmα=CNαb*((xcg-xcpb)/d)+CNαw*(KWBKBW)*(Sw/Sref)*((xcg-xcpw)/d)\n",
    "h=-(Cmα/CNα)\n",
    "f1=Eq(h,1)\n",
    "b=solve(f1,b)\n",
    "b=b[0]"
   ]
  },
  {
   "cell_type": "markdown",
   "metadata": {},
   "source": [
    "enero 2014 ejercicio 4\n",
    "\n",
    "Si las aletas del vehículo del ejercicio anterior se convirtieran en mando aerodinámico permitiendo su giro alrededor de su eje de charnela (punto medio de la aleta), demuestrese si se conseguiría la suficiente eficacia del mando para que la maniobrabilidad con mandos fijos del vehículo fuera de 80g/rdn, siendo la masa total del mismo de 80kg"
   ]
  },
  {
   "cell_type": "code",
   "execution_count": 66,
   "metadata": {},
   "outputs": [
    {
     "data": {
      "image/png": "[encoded data removed]",
      "text/latex": [
       "$$-226.278145179673$$"
      ],
      "text/plain": [
       "-226.278145179673"
      ]
     },
     "execution_count": 66,
     "metadata": {},
     "output_type": "execute_result"
    }
   ],
   "source": [
    "h=1\n",
    "m=80\n",
    "rho=1.225\n",
    "g=9.856\n",
    "CNδm=CNαw\n",
    "Sm=b*c\n",
    "xcpm=l-c/2 # por el eje de charnela en la mitad\n",
    "CNδ=CNδm*(Sm/Sref)\n",
    "Cmδ=CNδ*(xcg-xcpm)/d\n",
    "\n",
    "Q=0.5*rho*(M*a)**2\n",
    "\n",
    "#n/δ maniobrabilidad en mandos fijos\n",
    "nδ=Q*Sref*(CNδ+Cmδ/h)/(m*g) # es menor que 80g/rad por lo que no se obtiene la suficiente eficacia del mando\n",
    "\n",
    "print('CNδ=',CNδ.evalf())\n",
    "print('Cmδ=',Cmδ.evalf())\n",
    "print('h=',h.evalf())"
   ]
  },
  {
   "cell_type": "code",
   "execution_count": null,
   "metadata": {},
   "outputs": [],
   "source": []
  }
 ],
 "metadata": {
  "kernelspec": {
   "display_name": "Python 3",
   "language": "python",
   "name": "python3"
  },
  "language_info": {
   "codemirror_mode": {
    "name": "ipython",
    "version": 3
   },
   "file_extension": ".py",
   "mimetype": "text/x-python",
   "name": "python",
   "nbconvert_exporter": "python",
   "pygments_lexer": "ipython3",
   "version": "3.6.4"
  }
 },
 "nbformat": 4,
 "nbformat_minor": 2
}
