{
 "cells": [
  {
   "cell_type": "markdown",
   "metadata": {},
   "source": [
    "1º Parcial 2015\n",
    "\n",
    "Calcúlese la envergadura necesaria de las aletas de un cohete para que tenga un margen de estabilidad de 3 calibres (h=3). La longitud total de cohete es de 3 m con una sección delantera cónica de longitud 0,5m y 0,25m de diámetro de la base, coincidente con el diámetro de la sección cilíndrica posterior. El vuelo se realiza a Mach 2 y nivel del mar. Las aletas son de planta rectangular de cuerda 0,1m. El cdg del cohete y el borde de salida de las aletas están situados a 1m y 3m respectivamente, del vertice de la sección delantera. Considérese en esta caso que el alargamiento de las aletas es suficientemente grande para considerar su valor infinito y las interferencias Kwb+Kbw=1.\n"
   ]
  },
  {
   "cell_type": "code",
   "execution_count": 1,
   "metadata": {},
   "outputs": [],
   "source": [
    "#primero importamos\n",
    "import numpy as np\n",
    "#importar numpy para calculo numérico\n",
    "from sympy import *\n",
    "#importar sympy para calculo simbolico\n",
    "init_printing(use_latex=True)\n",
    "from scipy import optimize\n",
    "import math"
   ]
  },
  {
   "cell_type": "code",
   "execution_count": 2,
   "metadata": {},
   "outputs": [],
   "source": [
    "b=symbols('b')\n",
    "h=3\n",
    "l=3\n",
    "ln=0.5\n",
    "#la=l-ln\n",
    "d=0.25\n",
    "M=2\n",
    "#a=340\n",
    "#rho=1.225\n",
    "c=0.1\n",
    "xcg=1\n",
    "#xw=l-c\n",
    "#A=infinito\n",
    "#Kwb+Kbw=1\n",
    "KwbKbw=1\n",
    "CNαb=2 #dato, en la hoja de fórmulas\n"
   ]
  },
  {
   "cell_type": "code",
   "execution_count": 3,
   "metadata": {},
   "outputs": [
    {
     "data": {
      "image/png": "[encoded data removed]",
      "text/latex": [
       "$$0.501865058463244$$"
      ],
      "text/plain": [
       "0.501865058463244"
      ]
     },
     "execution_count": 3,
     "metadata": {},
     "output_type": "execute_result"
    }
   ],
   "source": [
    "Sref=pi*(d/2)**2\n",
    "\n",
    "β=sqrt(M**2-1)\n",
    "\n",
    "xcpb=(2/3)*ln #dato, en la hoja de fórmulas\n",
    "xcpw=3-c/2 #dato, en la hoja de fórmulas\n",
    "\n",
    "Sw=b*c\n",
    "#CNαw=(4/β)*(1-(1/(2*A*β))) A=infinito\n",
    "# se deja todo en función de b\n",
    "CNαw=(4/β)\n",
    "Cmα=CNαb*((xcg-xcpb)/d)+CNαw*KwbKbw*(Sw/Sref)*((xcg-xcpw)/d)\n",
    "CNα=CNαb+CNαw*(1-0)*(KwbKbw)*(Sw/Sref)+0\n",
    "\n",
    "#de la expresión de margen de estabilidad estático\n",
    "f1=Eq(Cmα/CNα,-h)\n",
    "b=solve(f1,b)\n",
    "b=b[0]\n",
    "b"
   ]
  },
  {
   "cell_type": "code",
   "execution_count": 5,
   "metadata": {},
   "outputs": [
    {
     "data": {
      "image/png": "[encoded data removed]",
      "text/latex": [
       "$$\\frac{CNαb Sref \\left(- d h - xcg + xcpb\\right)}{CNαw KwbKbw c \\left(d h + xcg - xcpw\\right)}$$"
      ],
      "text/plain": [
       " CNαb⋅Sref⋅(-d⋅h - xcg + xcpb)  \n",
       "────────────────────────────────\n",
       "CNαw⋅KwbKbw⋅c⋅(d⋅h + xcg - xcpw)"
      ]
     },
     "execution_count": 5,
     "metadata": {},
     "output_type": "execute_result"
    }
   ],
   "source": [
    "b=symbols(\"b\")\n",
    "c=symbols(\"c\")\n",
    "CNαb=symbols(\"CNαb\")\n",
    "CNαw=symbols(\"CNαw\")\n",
    "d=symbols(\"d\")\n",
    "xcg=symbols(\"xcg\")\n",
    "xcpb=symbols(\"xcpb\")\n",
    "xcpw=symbols(\"xcpw\")\n",
    "KwbKbw=symbols(\"KwbKbw\")\n",
    "Sref=symbols(\"Sref\")\n",
    "h=symbols(\"h\")\n",
    "\n",
    "Sw=b*c\n",
    "Cmα=CNαb*((xcg-xcpb)/d)+CNαw*KwbKbw*(Sw/Sref)*((xcg-xcpw)/d)\n",
    "CNα=CNαb+CNαw*(1-0)*(KwbKbw)*(Sw/Sref)+0\n",
    "#h=-(Cmα/CNα)\n",
    "#h\n",
    "f1=Eq(Cmα/CNα,-h)\n",
    "b=solve(f1,b)\n",
    "b=b[0]\n",
    "b"
   ]
  },
  {
   "cell_type": "code",
   "execution_count": null,
   "metadata": {},
   "outputs": [],
   "source": []
  }
 ],
 "metadata": {
  "kernelspec": {
   "display_name": "Python 3",
   "language": "python",
   "name": "python3"
  },
  "language_info": {
   "codemirror_mode": {
    "name": "ipython",
    "version": 3
   },
   "file_extension": ".py",
   "mimetype": "text/x-python",
   "name": "python",
   "nbconvert_exporter": "python",
   "pygments_lexer": "ipython3",
   "version": "3.6.4"
  }
 },
 "nbformat": 4,
 "nbformat_minor": 2
}
