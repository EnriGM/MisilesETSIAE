{
 "cells": [
  {
   "cell_type": "markdown",
   "metadata": {},
   "source": [
    "Ejercicio clase tema 11 1º 2017 y examen enero 2015 problema 5\n",
    "\n",
    "Calcúlese el margen de estabilidad estático de un cohete de 4m de longitud total y 0,25m de diámetro, con una proa cónica de 0,5m, volando a Mach 2,5 y nivel del mar. La cola cruciforme está constituida por cuatro paneles rectangulares planos, cada uno de ellos con una envergadura de 0,1m y 0,15m de cuerda. El borde de salida de los paneles y el cdg del cohete están situados a 4m y a 2m del vértice de la proa del misil, respectivamente."
   ]
  },
  {
   "cell_type": "markdown",
   "metadata": {},
   "source": [
    "<img src=\"./Ejercicio clase tema 11.png\">"
   ]
  },
  {
   "cell_type": "markdown",
   "metadata": {},
   "source": [
    "Aletas rectangulares: \n",
    "\n",
    "Coeficiente de fuerza normal rdn-1 referido a la superficie en planta (dos paneles).Siendo β= (M2-1)1/2, M = Mach, A = alargamiento.\n",
    "La posición del centro de presiones está en el punto medio de la cuerda del ala.\n",
    "\n",
    "Fuselaje cono-cilindro:\n",
    "\n",
    "Coeficiente de fuerza normal CNα = 2,0 rdn-1 referido a la superficie transversal del cilindro o base del cono.\n",
    "La posición del centro de presiones está en el punto 2/3 de la longitud de la proa, desde la punta de la misma.\n",
    "\n",
    "Interferencias \n",
    "\n",
    "KWB = 1+d/(b+d); KWB +KBW= (1+d/(b+d))2; kBM = d/(b+d); kMB = 1\n",
    "d= diámetro del fuselaje; b = envergadura de dos paneles.\n",
    "\n",
    "Condiciones nivel mar\n",
    "densidad = 1,225 kg/m3\n",
    "velocidad sonido = 340,0 m/s\n",
    "\n",
    "Coeficientes de fuerzas y momentos mandos retrasados: referidos a Sr=sup. transversal cilindro; SW y SM superficies de dos paneles."
   ]
  },
  {
   "cell_type": "code",
   "execution_count": 1,
   "metadata": {},
   "outputs": [],
   "source": [
    "#primero importamos\n",
    "import numpy as np\n",
    "#importar numpy para calculo numérico\n",
    "from sympy import *\n",
    "#importar sympy para calculo simbolico\n",
    "init_printing(use_latex=True)\n",
    "from scipy import optimize\n",
    "import math"
   ]
  },
  {
   "cell_type": "code",
   "execution_count": 2,
   "metadata": {},
   "outputs": [],
   "source": [
    "#mach [adim]\n",
    "M=symbols('M')\n",
    "#velocidad sonido [m/s]\n",
    "a=symbols('a')\n",
    "# ρ densidad [kg/m**3]\n",
    "rho=symbols('ρ')\n",
    "#c cuerda de las alas [m]\n",
    "c=symbols('c')\n",
    "#xw distancia hasta la punta de las alas [m]\n",
    "xw=symbols('xw')\n",
    "#diametro [m]\n",
    "d=symbols('d')\n",
    "#la longitud del cilindro [m]\n",
    "la=symbols('la')\n",
    "#ln longitud del cono (nose) [m]\n",
    "ln=symbols('ln')\n",
    "\n",
    "#CNαb coef de fuerza normal del cohete\n",
    "CNαb=symbols('CNαb')\n",
    "#CNαw coef de fuerza normal de las alas \n",
    "CNαw=symbols('CNαw')\n",
    "#CNα coef de fuerza normal total\n",
    "CNα=symbols('CNα')\n",
    "#Cmα coef de momentos total\n",
    "Cmα=symbols('Cmα')\n",
    "\n",
    "#b envergadura del ala, b es la de dos paneles, b/2 la de uno [m]\n",
    "b=symbols('b')\n",
    "#xcg posición centro de gravedad del misil [m]\n",
    "xcg=symbols('xcg')\n",
    "\n",
    "#xcpb posición centro de presiones del misil [m]\n",
    "xcpb=symbols('xcpb')\n",
    "#xcpw posición centro de presiones del ala [m]\n",
    "xcpw=symbols('xcpw')\n",
    "\n",
    "#Q presión dinámica [N/m**2]\n",
    "Q=symbols('Q')\n",
    "#Sw=b*c superficie del ala, se calcula como b*c aunque sean 4 [m**2]\n",
    "Sw=symbols('Sw')\n",
    "#Sref superficie de referencia [m**2]\n",
    "Sref=symbols('Sref')\n",
    "#Alargamiento b/c\n",
    "A=symbols('A')\n",
    "#h margen de estabilidad estático [adim]\n",
    "h=symbols('h')"
   ]
  },
  {
   "cell_type": "code",
   "execution_count": 3,
   "metadata": {},
   "outputs": [],
   "source": [
    "M=2.5\n",
    "rho=1.225\n",
    "g=9.81\n",
    "a=340\n",
    "b=2*0.1\n",
    "c=0.15\n",
    "d=0.25\n",
    "xw=3.5\n",
    "la=3.5\n",
    "ln=0.5\n",
    "CNαb=2\n",
    "xcg=2\n",
    "xcpb=(2/3)*ln"
   ]
  },
  {
   "cell_type": "code",
   "execution_count": 4,
   "metadata": {},
   "outputs": [],
   "source": [
    "β=sqrt(M**2-1)\n",
    "Sw=b*c #pese a ser 4 paneles la Sw es la de dos\n",
    "Sref=pi*(d/2)**2\n",
    "A=b/c\n",
    "CNαw=(4/β)*(1-(1/(2*A*β)))\n",
    "xcpw=la+ln-c/2 #del enunciado\n",
    "#KWB +KBW= (1+d/(b+d))**2\n",
    "KWBKBW= (1+d/(b+d))**2\n",
    "\n",
    "CNα=CNαb+CNαw*(1-0)*(KWBKBW)*(Sw/Sref)+0\n",
    "\n",
    "Cmα=CNαb*((xcg-xcpb)/d)+CNαw*KWBKBW*(Sw/Sref)*((xcg-xcpw)/d)\n",
    "\n",
    "h=-(Cmα/CNα)"
   ]
  },
  {
   "cell_type": "markdown",
   "metadata": {},
   "source": [
    "Si el cohete anterior se convierte en misil, permitiendo el giro δ de los paneles alrededor de un eje que pasa por los puntos medios de las cuerdas, calcúlese la maniobrabilidad mandos fijos y la capacidad de maniobra máxima, si la masa del misil es de 200kg. El δ máximo mecánico son ±20 y el CN saturación de la cola es de 1,2 referido a la superficie en planta de dos paneles."
   ]
  },
  {
   "cell_type": "code",
   "execution_count": 5,
   "metadata": {},
   "outputs": [],
   "source": [
    "#CNsatw Coef fuerza normal de saturación adim\n",
    "CNsatw=symbols('CNsatw')\n",
    "#n/δ maniobrabilidad en mandos fijos [g/rad]\n",
    "nδ=symbols('n/δ')\n",
    "#capacidad de maniobra máxima nmax [g]\n",
    "nmax=symbols('nmax')\n",
    "#αsat\n",
    "#m masa kg\n",
    "m=symbols('m')"
   ]
  },
  {
   "cell_type": "code",
   "execution_count": 6,
   "metadata": {},
   "outputs": [],
   "source": [
    "m=200\n",
    "kMB = 1 \n",
    "kBMkMB = 1.55 #kBM +kMB = 1,55\n",
    "CNsatw=1.2\n",
    "δmax=20 #º"
   ]
  },
  {
   "cell_type": "code",
   "execution_count": 7,
   "metadata": {},
   "outputs": [],
   "source": [
    "CNδw=CNαw\n",
    "CNδ=CNδw*kBMkMB*(Sw/Sref)\n",
    "Cmδ=CNδ*(xcg-xcpw)/d\n"
   ]
  },
  {
   "cell_type": "code",
   "execution_count": 8,
   "metadata": {},
   "outputs": [],
   "source": [
    "#n/δ maniobrabilidad en mandos fijos\n",
    "Q=0.5*rho*(M*a)**2\n",
    "nδ=Q*Sref*(CNδ+Cmδ/h)/(m*g)"
   ]
  },
  {
   "cell_type": "code",
   "execution_count": 10,
   "metadata": {},
   "outputs": [],
   "source": [
    "kwb =1+(d/(b+d))\n",
    "αsat=math.degrees(CNsatw/CNαw)\n",
    "δsat=αsat/(kwb*(-Cmδ/Cmα)+kMB) #comprobar si ángulo posible mecanicamente\n",
    "#capacidad de maniobra máxima nmax\n",
    "nmax=nδ*math.radians(δsat)\n"
   ]
  },
  {
   "cell_type": "code",
   "execution_count": null,
   "metadata": {},
   "outputs": [],
   "source": []
  }
 ],
 "metadata": {
  "kernelspec": {
   "display_name": "Python 3",
   "language": "python",
   "name": "python3"
  },
  "language_info": {
   "codemirror_mode": {
    "name": "ipython",
    "version": 3
   },
   "file_extension": ".py",
   "mimetype": "text/x-python",
   "name": "python",
   "nbconvert_exporter": "python",
   "pygments_lexer": "ipython3",
   "version": "3.6.4"
  }
 },
 "nbformat": 4,
 "nbformat_minor": 2
}
