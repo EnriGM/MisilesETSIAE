{
 "cells": [
  {
   "cell_type": "markdown",
   "metadata": {},
   "source": [
    "Noviembre 2017 ejercicio 4\n",
    "\n",
    "Un misil de masa 545 kg, tiene 6m de longitud total, con una proa cónica de longitud 0,3m y una sección posterior cilíndrica de 5,7m de longitud y 0,25 m de diámetro. Para una configuración cruciforme, con cuatro aletas rectangulares de espesor pequeño, cada una de envergadura de 0,3m y con el borde de salida situada a 6,0 m del vértice de la proa, el c.d.g. del misil se encuentra a 3 m de dicho vértice. En un vuelo a mach 2 y nivel del mar, determínese la maniobrabilidad con mando fijo, si las aletas tienen el eje de giro a lo largo de los puntos medios de la cuerda de dimensión mínima para que el margen estático sea 2 (referido al diámetro del cilindro), g=9.81 m/s^2\n",
    "\n",
    "Detérmínese la miobra máxima (mando fijo), permitiendo un giro máximo de deflexión del mando de +-15º. El CN máximo de las aletas es de 1,1 referido a la superficie en planta de dos aletas."
   ]
  },
  {
   "cell_type": "code",
   "execution_count": 5,
   "metadata": {},
   "outputs": [],
   "source": [
    "#primero importamos\n",
    "import numpy as np\n",
    "#importar numpy para calculo numérico\n",
    "from sympy import *\n",
    "#importar sympy para calculo simbolico\n",
    "init_printing(use_latex=True)\n",
    "from scipy import optimize\n",
    "import math"
   ]
  },
  {
   "cell_type": "code",
   "execution_count": 6,
   "metadata": {},
   "outputs": [
    {
     "data": {
      "image/png": "[encoded data removed]",
      "text/latex": [
       "$$0.056481935587637$$"
      ],
      "text/plain": [
       "0.0564819355876370"
      ]
     },
     "execution_count": 6,
     "metadata": {},
     "output_type": "execute_result"
    }
   ],
   "source": [
    "#primero hay que sacar la c (en el apartado anterior se hace)\n",
    "\n",
    "b=0.3*2\n",
    "h=2\n",
    "l=6\n",
    "ln=0.3\n",
    "#la=l-ln\n",
    "d=0.25\n",
    "M=2\n",
    "#a=340\n",
    "#rho=1.225\n",
    "c=symbols('c')\n",
    "xcg=3\n",
    "#xw=l-c\n",
    "#A=infinito\n",
    "CNαb=2 #dato, en la hoja de fórmulas\n",
    "\n",
    "Sref=pi*(d/2)**2\n",
    "β=sqrt(M**2-1)\n",
    "Kmb=1+d/(b+d)\n",
    "Kbm=(d/(d+b))*(1+d/(b+d))\n",
    "xcpb=(2/3)*ln #dato, en la hoja de fórmulas\n",
    "xcpw=l-c/2 #dato, en la hoja de fórmulas\n",
    "CNαw=(4/β)\n",
    "\n",
    "Sw=b*c\n",
    "#CNαw=(4/β)*(1-(1/(2*A*β))) A=infinito\n",
    "# se deja todo en función de b\n",
    "\n",
    "Cmα=CNαb*((xcg-xcpb)/d)+CNαw*(Kmb+Kbm)*(Sw/Sref)*((xcg-xcpw)/d)\n",
    "CNα=CNαb+CNαw*(1-0)*(Kmb+Kbm)*(Sw/Sref)+0\n",
    "\n",
    "#de la expresión de margen de estabilidad estático\n",
    "f1=Eq(Cmα/CNα,-h)\n",
    "c=solve(f1,c)\n",
    "c=c[0]\n",
    "c"
   ]
  },
  {
   "cell_type": "code",
   "execution_count": 17,
   "metadata": {},
   "outputs": [],
   "source": [
    "M=2\n",
    "rho=1.225\n",
    "g=9.81\n",
    "a=340\n",
    "m=545\n",
    "CNsatm=1.1\n",
    "δmax=rad(15) #º\n",
    "xcpm=l-c/2 #posicion centro de presiones de los mandos\n",
    "xcpb=(2/3)*ln #posicion centro de presiones de los cuerpo"
   ]
  },
  {
   "cell_type": "code",
   "execution_count": 29,
   "metadata": {},
   "outputs": [
    {
     "name": "stdout",
     "output_type": "stream",
     "text": [
      "n/δ= -26.5233562918121 g/rad\n",
      "δsat= -0.198612855598144 rad δmax= 0.261799387799149 rad\n",
      "nmax 5.26787953316380 g\n"
     ]
    }
   ],
   "source": [
    "β=sqrt(M**2-1)\n",
    "Sm=b*c #pese a ser 4 paneles la Sw es la de dos\n",
    "Sref=pi*(d/2)**2\n",
    "\n",
    "CNαm=(4/β)\n",
    "CNδm=CNαm\n",
    "\n",
    "KWBKBW= 1+d/(b+d)+(d/(d+b))*(1+d/(b+d))\n",
    "\n",
    "CNα=CNαb+CNαm*(1-0)*(KWBKBW)*(Sm/Sref)+0\n",
    "\n",
    "Cmα=CNαb*((xcg-xcpb)/d)+CNαm*KWBKBW*(Sm/Sref)*((xcg-xcpm)/d)\n",
    "\n",
    "h=-(Cmα/CNα)\n",
    "\n",
    "#kBM +kMB =(1+d/s)\n",
    "\n",
    "kBMkMB=1+d/(d+b)\n",
    "kMB=1\n",
    "\n",
    "CNδ=CNδm*(kBMkMB)*(Sm/Sref)\n",
    "\n",
    "Cmδ=CNδ*(xcg-xcpm)/d\n",
    "\n",
    "Q=0.5*rho*(M*a)**2\n",
    "\n",
    "#n/δ maniobrabilidad en mandos fijos\n",
    "nδ=Q*Sref*(CNδ+Cmδ/h)/(m*g)\n",
    "\n",
    "αsat=(CNsatm/CNαm)\n",
    "\n",
    "kwb =1+d/(b+d)\n",
    "\n",
    "δsat=αsat/(kwb*(-Cmδ/Cmα)+kMB) #comprobar si ángulo posible mecanicamente\n",
    "#capacidad de maniobra máxima nmax\n",
    "nmax=nδ*δsat\n",
    "\n",
    "print('n/δ=',nδ.evalf(),'g/rad')\n",
    "print(\"δsat=\",δsat.evalf(),\"rad\",\"δmax=\",δmax.evalf(),\"rad\")\n",
    "print('nmax',nmax.evalf(),'g')"
   ]
  },
  {
   "cell_type": "code",
   "execution_count": 28,
   "metadata": {},
   "outputs": [
    {
     "data": {
      "image/png": "[encoded data removed]",
      "text/latex": [
       "$$\\left ( -26.5233562918121, \\quad 0.476313972081441, \\quad 1.2941176470588236, \\quad -0.198612855598144, \\quad 5.2678795331638\\right )$$"
      ],
      "text/plain": [
       "(-26.5233562918121, 0.476313972081441, 1.2941176470588236, -0.198612855598144,\n",
       " 5.2678795331638)"
      ]
     },
     "execution_count": 28,
     "metadata": {},
     "output_type": "execute_result"
    }
   ],
   "source": [
    "nδ.evalf(),αsat.evalf(),kwb,δsat.evalf(),nmax.evalf()"
   ]
  },
  {
   "cell_type": "code",
   "execution_count": 30,
   "metadata": {},
   "outputs": [
    {
     "data": {
      "image/png": "[encoded data removed]",
      "text/latex": [
       "$$1.6747404844290659$$"
      ],
      "text/plain": [
       "1.6747404844290659"
      ]
     },
     "execution_count": 30,
     "metadata": {},
     "output_type": "execute_result"
    }
   ],
   "source": [
    "KWBKBW"
   ]
  },
  {
   "cell_type": "code",
   "execution_count": null,
   "metadata": {},
   "outputs": [],
   "source": []
  }
 ],
 "metadata": {
  "kernelspec": {
   "display_name": "Python 3",
   "language": "python",
   "name": "python3"
  },
  "language_info": {
   "codemirror_mode": {
    "name": "ipython",
    "version": 3
   },
   "file_extension": ".py",
   "mimetype": "text/x-python",
   "name": "python",
   "nbconvert_exporter": "python",
   "pygments_lexer": "ipython3",
   "version": "3.6.4"
  }
 },
 "nbformat": 4,
 "nbformat_minor": 2
}
