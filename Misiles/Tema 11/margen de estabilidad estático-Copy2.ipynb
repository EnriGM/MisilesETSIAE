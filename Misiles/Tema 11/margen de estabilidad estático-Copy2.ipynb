{
 "cells": [
  {
   "cell_type": "markdown",
   "metadata": {},
   "source": [
    "Enero 2016 problema 4\n",
    "\n",
    "calcúlese el margen de estabilidad estático de un cohete de 4,9m de longitud total y 0,45m de diámetro con una proa cónica de 0,5m. Volando a mach 2.5 y nivel del mar. La cola cruciforme está constituida por cuatro paneles rectangulares planos, cada uno de ellos con una envergadura de 0,19m y 0,19m de cuerda. El borde de salida de los paneles y el cdg del cohete están situados a 4.9m y 2m del vértice de la proa del misil, respectivamente."
   ]
  },
  {
   "cell_type": "code",
   "execution_count": 1,
   "metadata": {},
   "outputs": [],
   "source": [
    "#primero importamos\n",
    "import numpy as np\n",
    "#importar numpy para calculo numérico\n",
    "from sympy import *\n",
    "#importar sympy para calculo simbolico\n",
    "init_printing(use_latex=True)\n",
    "from scipy import optimize\n",
    "import math"
   ]
  },
  {
   "cell_type": "code",
   "execution_count": 2,
   "metadata": {},
   "outputs": [],
   "source": [
    "#datos\n",
    "M=2.5\n",
    "a=340\n",
    "ln=0.5\n",
    "l=4.9\n",
    "d=0.45\n",
    "b=0.19*2\n",
    "c=0.19\n",
    "\n",
    "xcg=2\n",
    "CNαb=2 # de los datos del final\n"
   ]
  },
  {
   "cell_type": "code",
   "execution_count": 3,
   "metadata": {},
   "outputs": [
    {
     "name": "stdout",
     "output_type": "stream",
     "text": [
      "CNα= 3.67915575083456\n",
      "Cmα= -3.05933010612799\n",
      "h= 0.831530468758773\n"
     ]
    }
   ],
   "source": [
    "#Primero calculamos la beta para CNαw\n",
    "β=sqrt(M**2-1)\n",
    "#superficie de referencia transversal\n",
    "Sref=pi*(d/2)**2\n",
    "#superficie de las alas\n",
    "Sw=b*c\n",
    "#Alargamiento\n",
    "A=b/c\n",
    "#CNαw coef de fuerza normal de las alas con alargamiento no infinito\n",
    "CNαw=(4/β)*(1-(1/(2*β*A)))\n",
    "\n",
    "xcpw=l-c/2 #lo dice el enunciado, las hojas del final\n",
    "xcpb=(ln*2)/3 #lo dice el enunciado, las hojas del final\n",
    "#KWB + KBW = (1+d/s)2\n",
    "s=d+b\n",
    "KWBKBW=(1+d/s)**2\n",
    "#CNα coef de fuerza normal total\n",
    "CNα=CNαb+CNαw*(KWBKBW)*(Sw/Sref)\n",
    "\n",
    "\n",
    "Cmα=CNαb*((xcg-xcpb)/d)+CNαw*(KWBKBW)*(Sw/Sref)*((xcg-xcpw)/d)\n",
    "\n",
    "#margen de estabilidad estático\n",
    "h=-(Cmα/CNα)\n",
    "print('CNα=',CNα.evalf())\n",
    "print('Cmα=',Cmα.evalf())\n",
    "print('h=',h.evalf())"
   ]
  },
  {
   "cell_type": "code",
   "execution_count": 4,
   "metadata": {},
   "outputs": [
    {
     "data": {
      "image/png": "[encoded data removed]",
      "text/latex": [
       "$$\\left ( 2.29128784747792, \\quad 0.159043128087983, \\quad 0.0722, \\quad 2.0, \\quad 1.55526693141175, \\quad 4.805000000000001, \\quad 0.3333333333333333, \\quad 2.3782842212222386\\right )$$"
      ],
      "text/plain": [
       "(2.29128784747792, 0.159043128087983, 0.0722, 2.0, 1.55526693141175, 4.8050000\n",
       "00000001, 0.3333333333333333, 2.3782842212222386)"
      ]
     },
     "execution_count": 4,
     "metadata": {},
     "output_type": "execute_result"
    }
   ],
   "source": [
    "β,Sref.evalf(),Sw,A,CNαw,xcpw,xcpb,KWBKBW"
   ]
  },
  {
   "cell_type": "code",
   "execution_count": null,
   "metadata": {},
   "outputs": [],
   "source": []
  }
 ],
 "metadata": {
  "kernelspec": {
   "display_name": "Python 3",
   "language": "python",
   "name": "python3"
  },
  "language_info": {
   "codemirror_mode": {
    "name": "ipython",
    "version": 3
   },
   "file_extension": ".py",
   "mimetype": "text/x-python",
   "name": "python",
   "nbconvert_exporter": "python",
   "pygments_lexer": "ipython3",
   "version": "3.6.4"
  }
 },
 "nbformat": 4,
 "nbformat_minor": 2
}
