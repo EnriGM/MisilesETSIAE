{
 "cells": [
  {
   "cell_type": "markdown",
   "metadata": {},
   "source": [
    "Ejercicio 9 de examen diciembre 2014\n",
    "\n",
    "Para batir un objetivo que se aleja del punto de lanzamiento con un movimiento rectilíneo y uniforme de 400m/s, se lanza un misil guiado con NP de a=4 y capacidad de maniobra máxima de 170 m/s^2. Dentro de qué valores de puntería respecto de la visual es posible obtener impacto, si el lanzamiento es realizado con una velocidad de 70 m/s, a 1km de disntancia y con ángulo de presentación δt0 de 10º ( el error de cálculo de puntería δm0 debe ser <=0.001rad)"
   ]
  },
  {
   "cell_type": "code",
   "execution_count": 1,
   "metadata": {},
   "outputs": [],
   "source": [
    "#primero importamos\n",
    "import numpy as np\n",
    "#importar numpy para calculo numérico\n",
    "from sympy import *\n",
    "#importar sympy para calculo simbolico\n",
    "init_printing(use_latex=True)\n",
    "from scipy import optimize\n",
    "import math\n"
   ]
  },
  {
   "cell_type": "code",
   "execution_count": 2,
   "metadata": {},
   "outputs": [],
   "source": [
    "# δt0 ángulo de presentación de combate, el inicial del target respecto\n",
    "#a la línea que une target y misil en el inicio, rad\n",
    "δt0=rad(10)\n",
    "\n",
    "# a constante reducida de la navegación proporcional, a>1 condición necesaria para impacto, adim\n",
    "a=4\n",
    "\n",
    "r0=1000\n",
    "Vm=700\n",
    "Vt=400\n",
    "\n",
    "g=9.8056\n",
    "\n",
    "Γmax=170\n"
   ]
  },
  {
   "cell_type": "code",
   "execution_count": 5,
   "metadata": {},
   "outputs": [
    {
     "name": "stdout",
     "output_type": "stream",
     "text": [
      "El misil impactaría con ángulos de puntería\n",
      "-5.80556573164476 º < δm0 < 18.6022829823793 º\n",
      "-0.101326236958155 rad < δm0 < 0.324671086430229 rad\n"
     ]
    }
   ],
   "source": [
    "# δmc ángulo de colisión ideal rad\n",
    "δmc=asin((Vt/Vm)*sin(δt0))\n",
    "δmc.evalf()\n",
    "\n",
    "#Primero calculamos todo para δmc\n",
    "\n",
    "# Va velocidad de aproximación, m/s\n",
    "Va=Vm*cos(δmc)-Vt*cos(δt0)\n",
    "Va.evalf()\n",
    "\n",
    "# tf tiempo de vuelo\n",
    "t0=0\n",
    "tf=r0/Va+t0\n",
    "\n",
    "# ∆δm Error de puntería, rad\n",
    "Aδm=(Γmax*tf)/(a*Vm)\n",
    "Aδm.evalf()\n",
    "\n",
    "# ∆δm, el error de puntería puede ir en ambas direcciones:\n",
    "\n",
    "#δ+m0 =δmc +Δδm\n",
    "δm0max=δmc+Aδm\n",
    "\n",
    "for i in range(20): #iteramos para sacar la solución\n",
    "    Vamax=(Vm*cos(δm0max)-Vt*cos(δt0)).evalf() #evalf para no petar el ordenador\n",
    "    tfmax=r0/Vamax+t0\n",
    "    Aδmmax=(Γmax*tfmax)/(a*Vm)\n",
    "    δm0max=δmc+Aδmmax\n",
    "    \n",
    "\n",
    "#δ-m0 =δmc -Δδm\n",
    "δm0min=δmc-Aδm\n",
    "\n",
    "for ii in range(20): #iteramos para sacar la solución\n",
    "    Vamin=(Vm*cos(δm0min)-Vt*cos(δt0)).evalf() #evalf para no petar el ordenador\n",
    "    tfmin=r0/Vamin+t0\n",
    "    Aδmmin=(Γmax*tfmin)/(a*Vm)\n",
    "    δm0min=δmc-Aδmmin\n",
    "    \n",
    "\n",
    "# δmo ángulo de puntería, ángulo inicial del misil respecto\n",
    "#a la línea que une target y misil en el inicio, rad\n",
    "print('El misil impactaría con ángulos de puntería')\n",
    "print(deg(δm0min).evalf(),'º','< δm0 <',deg(δm0max).evalf(),'º')\n",
    "print(δm0min.evalf(),'rad','< δm0 <',δm0max.evalf(),'rad')"
   ]
  },
  {
   "cell_type": "code",
   "execution_count": 4,
   "metadata": {},
   "outputs": [
    {
     "data": {
      "image/png": "[encoded data removed]",
      "text/latex": [
       "$$0.0993910899046162$$"
      ],
      "text/plain": [
       "0.0993910899046162"
      ]
     },
     "execution_count": 4,
     "metadata": {},
     "output_type": "execute_result"
    }
   ],
   "source": [
    "δmc.evalf()"
   ]
  },
  {
   "cell_type": "code",
   "execution_count": null,
   "metadata": {},
   "outputs": [],
   "source": []
  }
 ],
 "metadata": {
  "kernelspec": {
   "display_name": "Python 3",
   "language": "python",
   "name": "python3"
  },
  "language_info": {
   "codemirror_mode": {
    "name": "ipython",
    "version": 3
   },
   "file_extension": ".py",
   "mimetype": "text/x-python",
   "name": "python",
   "nbconvert_exporter": "python",
   "pygments_lexer": "ipython3",
   "version": "3.6.4"
  }
 },
 "nbformat": 4,
 "nbformat_minor": 2
}
