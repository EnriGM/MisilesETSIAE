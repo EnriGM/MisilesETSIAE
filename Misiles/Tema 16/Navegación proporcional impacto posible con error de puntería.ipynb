{
 "cells": [
  {
   "cell_type": "markdown",
   "metadata": {},
   "source": [
    "Ejercicio 8 segundo parcial 2014\n",
    "\n",
    "Un misil guiado por navegación proporcional de a=4, es lanzado con una velocidad constante de 700 m/s desde una distancia de 1.000 m, a un objetivo que se aleja del punto de lanzamiento con un movimiento uniforme de 400 m/s y con 85 m/s2 de aceleración de maniobra normal constante. Si la capacidad de maniobra del misil está limitada a 170 m/s2 y el ángulo de presentación del combate δTo es de 40º, suponiendo que δt y δm en el instante próximo al impacto final son aproximadamente nulos (es decir, cos(δt)=cos(δm)=1) demuéstrese si es posible el impacto cuando se dispare el misil con un error de puntería de 10º y -10º"
   ]
  },
  {
   "cell_type": "code",
   "execution_count": 15,
   "metadata": {},
   "outputs": [],
   "source": [
    "#primero importamos\n",
    "import numpy as np\n",
    "#importar numpy para calculo numérico\n",
    "from sympy import *\n",
    "#importar sympy para calculo simbolico\n",
    "init_printing(use_latex=True)\n",
    "from scipy import optimize\n",
    "import math\n",
    "import matplotlib.pyplot as plt"
   ]
  },
  {
   "cell_type": "code",
   "execution_count": 16,
   "metadata": {},
   "outputs": [],
   "source": [
    "# δt0 ángulo de presentación de combate, el inicial del target respecto\n",
    "#a la línea que une target y misil en el inicio, rad\n",
    "δt0=rad(40)\n",
    "\n",
    "a=4\n",
    "r0=1000\n",
    "Vm=700\n",
    "Γmmax=170\n",
    "Vt=400\n",
    "Γt=85\n",
    "\n",
    "#ángulo de presentación final\n",
    "δtf=0\n",
    "# δmf ángulo de puntería final\n",
    "δmf=0\n",
    "\n",
    "g=9.81"
   ]
  },
  {
   "cell_type": "code",
   "execution_count": 17,
   "metadata": {},
   "outputs": [
    {
     "name": "stdout",
     "output_type": "stream",
     "text": [
      "Aceleración máxima de maniobra con ∆δmc=10º Γm= 141.776068823249 m/s^2\n",
      "menor que la máxima posible\n",
      "por lo que el impacto es posible\n",
      "\n",
      "Aceleración máxima de maniobra con ∆δmc=-10º Γm= -185.413895468501 m/s^2\n",
      "mayor que la máxima posible\n",
      "por lo que el impacto NO es posible\n"
     ]
    }
   ],
   "source": [
    "# δmc ángulo de colisión ideal rad\n",
    "δmc=asin((Vt/Vm)*sin(δt0))\n",
    "\n",
    "# ∆δm Error de puntería, rad\n",
    "Aδm=rad(10)\n",
    "\n",
    "δm0=δmc+Aδm\n",
    "\n",
    "# Va velocidad de aproximación, m/s\n",
    "Va=Vm*cos(δm0)-Vt*cos(δt0)\n",
    "\n",
    "# tf tiempo de vuelo\n",
    "t0=0\n",
    "tf=r0/Va+t0\n",
    "\n",
    "# Γmn Aceleración máxima de maniobra, m/s**2\n",
    "Γmn=(a*Vm/tf)*Aδm*(1-t0/tf)**(a-2)\n",
    "print(\"Aceleración máxima de maniobra con ∆δmc=10º Γm=\",Γmn.evalf(),\"m/s^2\")\n",
    "print(\"menor que la máxima posible\")\n",
    "print(\"por lo que el impacto es posible\")\n",
    "print()\n",
    "# ∆δm Error de puntería, rad\n",
    "Aδm=rad(-10)\n",
    "\n",
    "δm0=δmc+Aδm\n",
    "\n",
    "# Va velocidad de aproximación, m/s\n",
    "Va=Vm*cos(δm0)-Vt*cos(δt0)\n",
    "\n",
    "# tf tiempo de vuelo\n",
    "t0=0\n",
    "tf=r0/Va+t0\n",
    "\n",
    "# Γmn Aceleración máxima de maniobra, m/s**2\n",
    "Γmn=(a*Vm/tf)*Aδm*(1-t0/tf)**(a-2)\n",
    "print(\"Aceleración máxima de maniobra con ∆δmc=-10º Γm=\",Γmn.evalf(),\"m/s^2\")\n",
    "print(\"mayor que la máxima posible\")\n",
    "print(\"por lo que el impacto NO es posible\")"
   ]
  },
  {
   "cell_type": "code",
   "execution_count": null,
   "metadata": {},
   "outputs": [],
   "source": []
  }
 ],
 "metadata": {
  "kernelspec": {
   "display_name": "Python 3",
   "language": "python",
   "name": "python3"
  },
  "language_info": {
   "codemirror_mode": {
    "name": "ipython",
    "version": 3
   },
   "file_extension": ".py",
   "mimetype": "text/x-python",
   "name": "python",
   "nbconvert_exporter": "python",
   "pygments_lexer": "ipython3",
   "version": "3.6.4"
  }
 },
 "nbformat": 4,
 "nbformat_minor": 2
}
