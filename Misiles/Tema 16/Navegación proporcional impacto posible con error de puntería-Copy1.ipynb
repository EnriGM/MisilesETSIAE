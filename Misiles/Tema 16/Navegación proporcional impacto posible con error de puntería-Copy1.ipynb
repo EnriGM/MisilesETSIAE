{
 "cells": [
  {
   "cell_type": "markdown",
   "metadata": {},
   "source": [
    "Ejercicio 6 segundo parcial 2013\n",
    "\n",
    "(apartado 3) Un misil guiado por PP es lanzado con una velocidad de 950m/s desde 2000 metros del objetivo de interceptación, el cual describe un movimiento rectilíneo y uniforme con velocidad de 500m/s. Si la capacidad de maniobra del misil está limitada a 170 m/s y el ángulo de presentación de combate δT, es de 40°.\n",
    "\n",
    "\n",
    "(apartado 5) En el caso de combate y misil definidos antes(apartado3),se modifica la ley de guiado a navegación proporcional, para batir al objetivo cuando este maniobra con 85 m/s2 de aceleración normal constante. Determínese el valor mínimo de la constante de reducción “a” de la ley de guiado para que exista impacto, suponiendo que δTi y δMi en instante próximo al impacto final son aproximadamente nulos (cos δTi =cos δMi =1).\n",
    "\n",
    "Si se adopta el valor de la constate reducida mínima obtenida en el apartado anterior (a=4) para la ley de guiado de la navegación proporcional, razónese si es posible el impacto si se dispara el misil con un error de puntería de -10°<ΔδM<10°."
   ]
  },
  {
   "cell_type": "code",
   "execution_count": 1,
   "metadata": {},
   "outputs": [],
   "source": [
    "#primero importamos\n",
    "import numpy as np\n",
    "#importar numpy para calculo numérico\n",
    "from sympy import *\n",
    "#importar sympy para calculo simbolico\n",
    "init_printing(use_latex=True)\n",
    "from scipy import optimize\n",
    "import math\n",
    "import matplotlib.pyplot as plt"
   ]
  },
  {
   "cell_type": "code",
   "execution_count": 2,
   "metadata": {},
   "outputs": [],
   "source": [
    "# δt0 ángulo de presentación de combate, el inicial del target respecto\n",
    "#a la línea que une target y misil en el inicio, rad\n",
    "δt0=rad(40)\n",
    "\n",
    "a=4\n",
    "r0=2000\n",
    "Vm=950\n",
    "Γmmax=170\n",
    "Vt=500\n",
    "Γt=85\n",
    "\n",
    "#ángulo de presentación final\n",
    "δtf=0\n",
    "# δmf ángulo de puntería final\n",
    "δmf=0\n",
    "\n",
    "g=9.81"
   ]
  },
  {
   "cell_type": "code",
   "execution_count": 13,
   "metadata": {},
   "outputs": [
    {
     "name": "stdout",
     "output_type": "stream",
     "text": [
      "δmc= 19.7738989915852 º\n",
      "\n",
      "δm0= 29.7738989915852 º\n",
      "Aceleración máxima de maniobra con ∆δmc=10º Γm= 146.430140458111 m/s^2\n",
      "menor que la máxima posible\n",
      "por lo que el impacto es posible\n",
      "\n",
      "δm0= 9.77389899158519 º\n",
      "Aceleración máxima de maniobra con ∆δmc=-10º Γm= -183.444368416137 m/s^2\n",
      "mayor que la máxima posible\n",
      "por lo que el impacto NO es posible\n"
     ]
    }
   ],
   "source": [
    "# δmc ángulo de colisión ideal rad\n",
    "δmc=asin((Vt/Vm)*sin(δt0))\n",
    "print(\"δmc=\",deg(δmc).evalf(),\"º\")\n",
    "print()\n",
    "\n",
    "# ∆δm Error de puntería, rad\n",
    "Aδm=rad(10)\n",
    "\n",
    "δm0=δmc+Aδm\n",
    "print(\"δm0=\",deg(δm0).evalf(),\"º\")\n",
    "\n",
    "# Va velocidad de aproximación, m/s\n",
    "Va=Vm*cos(δm0)-Vt*cos(δt0)\n",
    "\n",
    "# tf tiempo de vuelo\n",
    "t0=0\n",
    "tf=r0/Va+t0\n",
    "\n",
    "# Γmn Aceleración máxima de maniobra, m/s**2\n",
    "Γmn=(a*Vm/tf)*Aδm*(1-t0/tf)**(a-2)\n",
    "print(\"Aceleración máxima de maniobra con ∆δmc=10º Γm=\",Γmn.evalf(),\"m/s^2\")\n",
    "print(\"menor que la máxima posible\")\n",
    "print(\"por lo que el impacto es posible\")\n",
    "print()\n",
    "\n",
    "# ∆δm Error de puntería, rad\n",
    "Aδm=rad(-10)\n",
    "\n",
    "δm0=δmc+Aδm\n",
    "print(\"δm0=\",deg(δm0).evalf(),\"º\")\n",
    "\n",
    "# Va velocidad de aproximación, m/s\n",
    "Va=Vm*cos(δm0)-Vt*cos(δt0)\n",
    "\n",
    "# tf tiempo de vuelo\n",
    "t0=0\n",
    "tf=r0/Va+t0\n",
    "\n",
    "# Γmn Aceleración máxima de maniobra, m/s**2\n",
    "Γmn=(a*Vm/tf)*Aδm*(1-t0/tf)**(a-2)\n",
    "print(\"Aceleración máxima de maniobra con ∆δmc=-10º Γm=\",Γmn.evalf(),\"m/s^2\")\n",
    "print(\"mayor que la máxima posible\")\n",
    "print(\"por lo que el impacto NO es posible\")"
   ]
  },
  {
   "cell_type": "code",
   "execution_count": null,
   "metadata": {},
   "outputs": [],
   "source": []
  }
 ],
 "metadata": {
  "kernelspec": {
   "display_name": "Python 3",
   "language": "python",
   "name": "python3"
  },
  "language_info": {
   "codemirror_mode": {
    "name": "ipython",
    "version": 3
   },
   "file_extension": ".py",
   "mimetype": "text/x-python",
   "name": "python",
   "nbconvert_exporter": "python",
   "pygments_lexer": "ipython3",
   "version": "3.6.4"
  }
 },
 "nbformat": 4,
 "nbformat_minor": 2
}
