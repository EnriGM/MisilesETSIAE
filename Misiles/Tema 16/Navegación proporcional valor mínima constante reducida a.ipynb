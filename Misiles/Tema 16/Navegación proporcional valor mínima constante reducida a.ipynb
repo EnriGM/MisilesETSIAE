{
 "cells": [
  {
   "cell_type": "markdown",
   "metadata": {},
   "source": [
    "Ejercicio 3 de clase tema 16 año 2016\n",
    "\n",
    "Un misil guiado por navegación proporcional es lanzado con una velocidad constante de 895 m/s y δM0= 15º, desde una distancia de 1.000 m, a un objetivo que se aleja del punto de lanzamiento con un movimiento uniforme de 645 m/s y con 85 m/s2 de aceleración de maniobra normal constante. Si la capacidad de maniobra del misil está limitada a 170 m/s2 y el ángulo de presentación del combate δTo es de 40º, razónese cual es el valor mínimo de la constante reducida “a” de la ley de guiado para que exista impacto, sabiendo que δTF = 1º en dicho impacto."
   ]
  },
  {
   "cell_type": "code",
   "execution_count": 1,
   "metadata": {},
   "outputs": [],
   "source": [
    "#primero importamos\n",
    "import numpy as np\n",
    "#importar numpy para calculo numérico\n",
    "from sympy import *\n",
    "#importar sympy para calculo simbolico\n",
    "init_printing(use_latex=True)\n",
    "from scipy import optimize\n",
    "import math\n",
    "import matplotlib.pyplot as plt"
   ]
  },
  {
   "cell_type": "code",
   "execution_count": 3,
   "metadata": {},
   "outputs": [],
   "source": [
    "# δt0 ángulo de presentación de combate, el inicial del target respecto\n",
    "#a la línea que une target y misil en el inicio, rad\n",
    "δt0=rad(40)\n",
    "\n",
    "# δmo ángulo de puntería, ángulo inicial del misil respecto\n",
    "#a la línea que une target y misil en el inicio, rad\n",
    "δm0=rad(15)\n",
    "\n",
    "r0=1000\n",
    "Vm=895\n",
    "Γmmax=170\n",
    "Vt=645\n",
    "Γt=85\n",
    "\n",
    "#ángulo de presentación final\n",
    "δtf=rad(1)\n",
    "\n",
    "g=9.81"
   ]
  },
  {
   "cell_type": "code",
   "execution_count": 13,
   "metadata": {},
   "outputs": [],
   "source": [
    "#en el impacto δt=δtf\n",
    "#δmf, ángulo del misil al final\n",
    "δmf=asin((Vt/Vm)*sin(δtf))\n",
    "\n",
    "#en el impacto t=tf\n",
    "a=symbols('a')\n",
    "f1=Eq(a/(a-2),(Γmmax*cos(δmf))/(Γt*cos(δtf)))\n",
    "a=solve(f1,a)\n",
    "a=a[0]"
   ]
  },
  {
   "cell_type": "code",
   "execution_count": 18,
   "metadata": {},
   "outputs": [
    {
     "name": "stdout",
     "output_type": "stream",
     "text": [
      "Ángulo de colisión ideal δMc=  27.5962477891532 º\n",
      "Error de puntería ∆δM = -12.5962477891532 º\n",
      "Velocidad de aproximación Va = 370.404948716975 m/2\n",
      "Tiempo de vuelo tf = 2.69974794738527 s\n",
      "Aceleración máxima de maniobra Γm= 291.505380820718 m/s^2\n",
      "No sería posible el impacto con ningún valor de a\n"
     ]
    }
   ],
   "source": [
    "\n",
    "# δmc ángulo de colisión ideal rad\n",
    "δmc=asin((Vt/Vm)*sin(δt0))\n",
    "\n",
    "# ∆δm Error de puntería, rad\n",
    "Aδm=δm0-δmc\n",
    "\n",
    "# Va velocidad de aproximación, m/s\n",
    "Va=Vm*cos(δm0)-Vt*cos(δt0)\n",
    "\n",
    "# tf tiempo de vuelo\n",
    "t0=0\n",
    "tf=r0/Va+t0\n",
    "\n",
    "# Γmn Aceleración máxima de maniobra, m/s**2\n",
    "Γmn=(a*Vm/tf)*Aδm*(1-t0/tf)**(a-2)\n",
    "\n",
    "print(\"Ángulo de colisión ideal δMc= \",deg(δmc).evalf(),\"º\")\n",
    "print(\"Error de puntería ∆δM =\",deg(Aδm).evalf(),\"º\")\n",
    "print(\"Velocidad de aproximación Va =\",Va.evalf(),\"m/2\")\n",
    "print(\"Tiempo de vuelo tf =\",tf.evalf(),\"s\")\n",
    "print(\"Aceleración máxima de maniobra Γm=\",abs(Γmn.evalf()),\"m/s^2\")\n",
    "print(\"No sería posible el impacto con ningún valor de a\")"
   ]
  },
  {
   "cell_type": "code",
   "execution_count": null,
   "metadata": {},
   "outputs": [],
   "source": []
  }
 ],
 "metadata": {
  "kernelspec": {
   "display_name": "Python 3",
   "language": "python",
   "name": "python3"
  },
  "language_info": {
   "codemirror_mode": {
    "name": "ipython",
    "version": 3
   },
   "file_extension": ".py",
   "mimetype": "text/x-python",
   "name": "python",
   "nbconvert_exporter": "python",
   "pygments_lexer": "ipython3",
   "version": "3.6.4"
  }
 },
 "nbformat": 4,
 "nbformat_minor": 2
}
