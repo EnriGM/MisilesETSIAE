{
 "cells": [
  {
   "cell_type": "markdown",
   "metadata": {},
   "source": [
    "Ejercicio 7 2º parcial 2015\n",
    "\n",
    "Un misil guiado por navegación propocional es lanzado con una velocidad cte de 900m/s y δm0, desde una distancia de 1000 m, a un objetivo que de aleja del punto de lanzamiento con un movimiento uniforme de 650m/s y con 85m/s^2 de aceleración normal constante. Si la capacidad de maniobra del misil está limitada a 170m/s^2 y el ángulo de presntación del combate δt0 es de 40º, determínese el valor mínimo de la constante reducida \"a\" de la ley de guiado para que exista impacto, sabiendo que δt=1 en dicho impacto\n"
   ]
  },
  {
   "cell_type": "code",
   "execution_count": 1,
   "metadata": {},
   "outputs": [],
   "source": [
    "#primero importamos\n",
    "import numpy as np\n",
    "#importar numpy para calculo numérico\n",
    "from sympy import *\n",
    "#importar sympy para calculo simbolico\n",
    "init_printing(use_latex=True)\n",
    "from scipy import optimize\n",
    "import math\n",
    "import matplotlib.pyplot as plt"
   ]
  },
  {
   "cell_type": "code",
   "execution_count": 4,
   "metadata": {},
   "outputs": [],
   "source": [
    "# δt0 ángulo de presentación de combate, el inicial del target respecto\n",
    "#a la línea que une target y misil en el inicio, rad\n",
    "δt0=rad(40)\n",
    "\n",
    "r0=1000\n",
    "Vm=900\n",
    "Γmmax=170\n",
    "Vt=650\n",
    "Γt=85\n",
    "\n",
    "#ángulo de presentación final\n",
    "δtf=rad(1)\n",
    "\n",
    "g=9.81"
   ]
  },
  {
   "cell_type": "code",
   "execution_count": 5,
   "metadata": {},
   "outputs": [
    {
     "name": "stdout",
     "output_type": "stream",
     "text": [
      "constante reducida de la navegación proporcional a= 3.99970853896567\n"
     ]
    }
   ],
   "source": [
    "#en el impacto δt=δtf\n",
    "\n",
    "#δmf, ángulo del misil al final\n",
    "δmf=asin((Vt/Vm)*sin(δtf))\n",
    "\n",
    "#en el impacto t=tf\n",
    "a=symbols('a')\n",
    "f1=Eq(a/(a-2),(Γmmax*cos(δmf))/(Γt*cos(δtf)))\n",
    "a=solve(f1,a)\n",
    "a=a[0]\n",
    "# a constante reducida de la navegación proporcional, a>1 condición necesaria para impacto, adim\n",
    "print(\"constante reducida de la navegación proporcional a=\",a)"
   ]
  },
  {
   "cell_type": "code",
   "execution_count": null,
   "metadata": {},
   "outputs": [],
   "source": []
  },
  {
   "cell_type": "code",
   "execution_count": null,
   "metadata": {},
   "outputs": [],
   "source": []
  }
 ],
 "metadata": {
  "kernelspec": {
   "display_name": "Python 3",
   "language": "python",
   "name": "python3"
  },
  "language_info": {
   "codemirror_mode": {
    "name": "ipython",
    "version": 3
   },
   "file_extension": ".py",
   "mimetype": "text/x-python",
   "name": "python",
   "nbconvert_exporter": "python",
   "pygments_lexer": "ipython3",
   "version": "3.6.4"
  }
 },
 "nbformat": 4,
 "nbformat_minor": 2
}
