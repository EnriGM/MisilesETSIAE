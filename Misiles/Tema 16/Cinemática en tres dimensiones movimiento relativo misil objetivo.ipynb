{
 "cells": [
  {
   "cell_type": "markdown",
   "metadata": {},
   "source": [
    "Ejercicio 1 2º parcial 2015\n",
    "\n",
    "Un misil se desplaza con una Vm=[0,400,600] y su objetivo con Vt=[100,200,0] respecto a un sistema cartesiano Oxyz inercial (componentes en m/s). Calcúlese el vector velocidad de rotación de la visual wlos=[wx,wy,wz] y la velocidad de aproximación del misil al objetivo en dirección de la visual rlos=rt-rm=[2000,0,0] (componentes en metros) relativos al mismo sistema Oxyz"
   ]
  },
  {
   "cell_type": "code",
   "execution_count": 2,
   "metadata": {},
   "outputs": [],
   "source": [
    "#primero importamos\n",
    "import numpy as np\n",
    "#importar numpy para calculo numérico\n",
    "from sympy import *\n",
    "#importar sympy para calculo simbolico\n",
    "init_printing(use_latex=True)\n",
    "from scipy import optimize\n",
    "import math"
   ]
  },
  {
   "cell_type": "code",
   "execution_count": 3,
   "metadata": {},
   "outputs": [
    {
     "name": "stdout",
     "output_type": "stream",
     "text": [
      "wlos= [ 0.   0.3 -0.1]\n",
      "Va= -100.0\n"
     ]
    }
   ],
   "source": [
    "Vm=np.array([0,400,600])\n",
    "Vt=np.array([100,200,0])\n",
    "rlos=np.array([2000,0,0])\n",
    "\n",
    "wlos=np.cross(rlos,(Vt-Vm))/(rlos@rlos) #@ es el producto escalar\n",
    "print(\"wlos=\",wlos)\n",
    "Va=-(Vt-Vm)@(rlos/np.linalg.norm(rlos))\n",
    "print(\"Va=\",Va)"
   ]
  },
  {
   "cell_type": "code",
   "execution_count": 7,
   "metadata": {},
   "outputs": [
    {
     "ename": "TypeError",
     "evalue": "Object arrays are not currently supported",
     "output_type": "error",
     "traceback": [
      "\u001b[0;31m---------------------------------------------------------------------------\u001b[0m",
      "\u001b[0;31mTypeError\u001b[0m                                 Traceback (most recent call last)",
      "\u001b[0;32m<ipython-input-7-423878f86db2>\u001b[0m in \u001b[0;36m<module>\u001b[0;34m()\u001b[0m\n\u001b[1;32m     15\u001b[0m \u001b[0mrlos\u001b[0m\u001b[0;34m=\u001b[0m\u001b[0mnp\u001b[0m\u001b[0;34m.\u001b[0m\u001b[0marray\u001b[0m\u001b[0;34m(\u001b[0m\u001b[0;34m[\u001b[0m\u001b[0mrlos1\u001b[0m\u001b[0;34m,\u001b[0m\u001b[0mrlos2\u001b[0m\u001b[0;34m,\u001b[0m\u001b[0mrlos3\u001b[0m\u001b[0;34m]\u001b[0m\u001b[0;34m)\u001b[0m\u001b[0;34m\u001b[0m\u001b[0m\n\u001b[1;32m     16\u001b[0m \u001b[0;34m\u001b[0m\u001b[0m\n\u001b[0;32m---> 17\u001b[0;31m \u001b[0mwlos\u001b[0m\u001b[0;34m=\u001b[0m\u001b[0mnp\u001b[0m\u001b[0;34m.\u001b[0m\u001b[0mcross\u001b[0m\u001b[0;34m(\u001b[0m\u001b[0mrlos\u001b[0m\u001b[0;34m,\u001b[0m\u001b[0;34m(\u001b[0m\u001b[0mVt\u001b[0m\u001b[0;34m-\u001b[0m\u001b[0mVm\u001b[0m\u001b[0;34m)\u001b[0m\u001b[0;34m)\u001b[0m\u001b[0;34m/\u001b[0m\u001b[0;34m(\u001b[0m\u001b[0mrlos\u001b[0m\u001b[0;34m@\u001b[0m\u001b[0mrlos\u001b[0m\u001b[0;34m)\u001b[0m \u001b[0;31m#@ es el producto escalar\u001b[0m\u001b[0;34m\u001b[0m\u001b[0m\n\u001b[0m\u001b[1;32m     18\u001b[0m \u001b[0;34m\u001b[0m\u001b[0m\n\u001b[1;32m     19\u001b[0m \u001b[0mVa\u001b[0m\u001b[0;34m=\u001b[0m\u001b[0;34m-\u001b[0m\u001b[0;34m(\u001b[0m\u001b[0mVt\u001b[0m\u001b[0;34m-\u001b[0m\u001b[0mVm\u001b[0m\u001b[0;34m)\u001b[0m\u001b[0;34m@\u001b[0m\u001b[0;34m(\u001b[0m\u001b[0mrlos\u001b[0m\u001b[0;34m/\u001b[0m\u001b[0mnp\u001b[0m\u001b[0;34m.\u001b[0m\u001b[0mlinalg\u001b[0m\u001b[0;34m.\u001b[0m\u001b[0mnorm\u001b[0m\u001b[0;34m(\u001b[0m\u001b[0mrlos\u001b[0m\u001b[0;34m)\u001b[0m\u001b[0;34m)\u001b[0m\u001b[0;34m\u001b[0m\u001b[0m\n",
      "\u001b[0;31mTypeError\u001b[0m: Object arrays are not currently supported"
     ]
    }
   ],
   "source": [
    "Vm1=symbols(\"Vm1\")\n",
    "Vm2=symbols(\"Vm2\")\n",
    "Vm3=symbols(\"Vm3\")\n",
    "\n",
    "Vt1=symbols(\"Vt1\")\n",
    "Vt2=symbols(\"Vt2\")\n",
    "Vt3=symbols(\"Vt3\")\n",
    "\n",
    "rlos1=symbols(\"rlos1\")\n",
    "rlos2=symbols(\"rlos2\")\n",
    "rlos3=symbols(\"rlos3\")\n",
    "\n",
    "Vm=np.array([Vm1,Vm2,Vm3])\n",
    "Vt=np.array([Vt1,Vt2,Vt3])\n",
    "rlos=np.array([rlos1,rlos2,rlos3])\n",
    "\n",
    "wlos=np.cross(rlos,(Vt-Vm))/(rlos@rlos) #@ es el producto escalar\n",
    "\n",
    "Va=-(Vt-Vm)@(rlos/np.linalg.norm(rlos))\n"
   ]
  },
  {
   "cell_type": "code",
   "execution_count": null,
   "metadata": {},
   "outputs": [],
   "source": []
  }
 ],
 "metadata": {
  "kernelspec": {
   "display_name": "Python 3",
   "language": "python",
   "name": "python3"
  },
  "language_info": {
   "codemirror_mode": {
    "name": "ipython",
    "version": 3
   },
   "file_extension": ".py",
   "mimetype": "text/x-python",
   "name": "python",
   "nbconvert_exporter": "python",
   "pygments_lexer": "ipython3",
   "version": "3.6.4"
  }
 },
 "nbformat": 4,
 "nbformat_minor": 2
}
