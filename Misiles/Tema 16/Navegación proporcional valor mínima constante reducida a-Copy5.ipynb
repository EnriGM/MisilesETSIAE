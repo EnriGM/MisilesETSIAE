{
 "cells": [
  {
   "cell_type": "markdown",
   "metadata": {},
   "source": [
    "Ejercicio 8 diciembre 2016\n",
    "\n",
    "Un misil guiado por navegación propocional es lanzado con una velocidad cte de 1000m/s y δm0=0º, desde una distancia de 2000 m, a un objetivo que de aleja del punto de lanzamiento con un movimiento uniforme de 600m/s y con 85m/s^2 de aceleración normal constante. Si la capacidad de maniobra del misil está limitada a 170m/s^2 y el ángulo de presntación del combate δt0 es de 35º, determínese el valor mínimo de la constante reducida \"a\" de la ley de guiado para que exista impacto, sabiendo que δt=1 en dicho impacto\n"
   ]
  },
  {
   "cell_type": "code",
   "execution_count": 2,
   "metadata": {},
   "outputs": [],
   "source": [
    "#primero importamos\n",
    "import numpy as np\n",
    "#importar numpy para calculo numérico\n",
    "from sympy import *\n",
    "#importar sympy para calculo simbolico\n",
    "init_printing(use_latex=True)\n",
    "from scipy import optimize\n",
    "import math\n",
    "import matplotlib.pyplot as plt"
   ]
  },
  {
   "cell_type": "code",
   "execution_count": 4,
   "metadata": {},
   "outputs": [],
   "source": [
    "# δt0 ángulo de presentación de combate, el inicial del target respecto\n",
    "#a la línea que une target y misil en el inicio, rad\n",
    "δt0=rad(35)\n",
    "δm0=rad(0)\n",
    "r0=2000\n",
    "Vm=1000\n",
    "Γmmax=170\n",
    "Vt=600\n",
    "Γt=85\n",
    "\n",
    "#ángulo de presentación final\n",
    "δtf=rad(1)\n",
    "\n",
    "g=9.81"
   ]
  },
  {
   "cell_type": "code",
   "execution_count": 5,
   "metadata": {},
   "outputs": [
    {
     "name": "stdout",
     "output_type": "stream",
     "text": [
      "constante reducida de la navegación proporcional mínima para impacto amin= 3.99961010553998\n",
      "constante reducida de la navegación proporcional máxima posible amax= 1.90312168465999\n"
     ]
    }
   ],
   "source": [
    "#en el impacto δt=δtf\n",
    "\n",
    "#δmf, ángulo del misil al final\n",
    "δmf=asin((Vt/Vm)*sin(δtf))\n",
    "\n",
    "#en el impacto t=tf\n",
    "a=symbols('a')\n",
    "f1=Eq(a/(a-2),(Γmmax*cos(δmf))/(Γt*cos(δtf)))\n",
    "a=solve(f1,a)\n",
    "a=a[0]\n",
    "# amin constante reducida de la navegación proporcional min para impacto, a>1 condición necesaria para impacto, adim\n",
    "print(\"constante reducida de la navegación proporcional mínima para impacto amin=\",a)\n",
    "\n",
    "# δmc ángulo de colisión ideal rad\n",
    "δmc=asin((Vt/Vm)*sin(δt0))\n",
    "# Va velocidad de aproximación, m/s\n",
    "Va=Vm*cos(δm0)-Vt*cos(δt0)\n",
    "\n",
    "# tf tiempo de vuelo\n",
    "t0=0\n",
    "tf=r0/Va+t0\n",
    "\n",
    "# ∆δm Error de puntería, rad\n",
    "Aδm=δm0-δmc\n",
    "\n",
    "amax=abs(Γmmax*tf/(Vm*Aδm))\n",
    "\n",
    "# amax constante reducida de la navegación proporcional máxima posible\n",
    "print(\"constante reducida de la navegación proporcional máxima posible amax=\",amax.evalf())"
   ]
  },
  {
   "cell_type": "code",
   "execution_count": 10,
   "metadata": {},
   "outputs": [
    {
     "data": {
      "image/png": "[encoded data removed]",
      "text/latex": [
       "$$\\left ( 0.0104716352394335, \\quad 0.351328926731846, \\quad 508.508773426605, \\quad 3.93306881712763\\right )$$"
      ],
      "text/plain": [
       "(0.0104716352394335, 0.351328926731846, 508.508773426605, 3.93306881712763)"
      ]
     },
     "execution_count": 10,
     "metadata": {},
     "output_type": "execute_result"
    }
   ],
   "source": [
    "δmf.evalf(),δmc.evalf(),Va.evalf(),tf.evalf()"
   ]
  },
  {
   "cell_type": "code",
   "execution_count": 3,
   "metadata": {},
   "outputs": [
    {
     "data": {
      "image/png": "[encoded data removed]",
      "text/latex": [
       "$$\\frac{2 Γmmax \\cos{\\left (δmf \\right )}}{Γmmax \\cos{\\left (δmf \\right )} - Γt \\cos{\\left (δtf \\right )}}$$"
      ],
      "text/plain": [
       "      2⋅Γmmax⋅cos(δmf)      \n",
       "────────────────────────────\n",
       "Γmmax⋅cos(δmf) - Γt⋅cos(δtf)"
      ]
     },
     "execution_count": 3,
     "metadata": {},
     "output_type": "execute_result"
    }
   ],
   "source": [
    "a=symbols('a')\n",
    "Γmmax=symbols(\"Γmmax\")\n",
    "δmf=symbols(\"δmf\")\n",
    "Γt=symbols(\"Γt\")\n",
    "δtf=symbols(\"δtf\")\n",
    "f1=Eq(a/(a-2),(Γmmax*cos(δmf))/(Γt*cos(δtf)))\n",
    "a=solve(f1,a)\n",
    "a=a[0]\n",
    "a"
   ]
  },
  {
   "cell_type": "code",
   "execution_count": null,
   "metadata": {},
   "outputs": [],
   "source": []
  }
 ],
 "metadata": {
  "kernelspec": {
   "display_name": "Python 3",
   "language": "python",
   "name": "python3"
  },
  "language_info": {
   "codemirror_mode": {
    "name": "ipython",
    "version": 3
   },
   "file_extension": ".py",
   "mimetype": "text/x-python",
   "name": "python",
   "nbconvert_exporter": "python",
   "pygments_lexer": "ipython3",
   "version": "3.6.4"
  }
 },
 "nbformat": 4,
 "nbformat_minor": 2
}
