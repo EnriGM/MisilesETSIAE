{
 "cells": [
  {
   "cell_type": "markdown",
   "metadata": {},
   "source": [
    "Ejercicio 6 enero 2016\n",
    "\n",
    "Un misil se desplaza con una Vm=[0,400,600] y su objetivo con Vt=[100,200,0] respecto a un sistema cartesiano Oxyz inercial (componentes en m/s). Calcúlese el vector velocidad de rotación de la visual wlos=[wx,wy,wz] y la velocidad de aproximación del misil al objetivo en dirección de la visual rlos=rt-rm=[2000,0,0] (componentes en metros) relativos al mismo sistema Oxyz"
   ]
  },
  {
   "cell_type": "code",
   "execution_count": 1,
   "metadata": {},
   "outputs": [],
   "source": [
    "#primero importamos\n",
    "import numpy as np\n",
    "#importar numpy para calculo numérico\n",
    "from sympy import *\n",
    "#importar sympy para calculo simbolico\n",
    "init_printing(use_latex=True)\n",
    "from scipy import optimize\n",
    "import math"
   ]
  },
  {
   "cell_type": "code",
   "execution_count": 3,
   "metadata": {},
   "outputs": [
    {
     "name": "stdout",
     "output_type": "stream",
     "text": [
      "wlos= [ 0.     0.325 -0.025] rad/s\n",
      "Va= -150.0 m/s\n"
     ]
    }
   ],
   "source": [
    "Vm=np.array([0,300,650])\n",
    "Vt=np.array([150,250,0])\n",
    "rlos=np.array([2000,0,0])\n",
    "\n",
    "wlos=np.cross(rlos,(Vt-Vm))/(rlos@rlos) #@ es el producto escalar\n",
    "print(\"wlos=\",wlos,\"rad/s\")\n",
    "Va=-(Vt-Vm)@(rlos/np.linalg.norm(rlos))\n",
    "print(\"Va=\",Va,\"m/s\")"
   ]
  },
  {
   "cell_type": "code",
   "execution_count": null,
   "metadata": {},
   "outputs": [],
   "source": []
  }
 ],
 "metadata": {
  "kernelspec": {
   "display_name": "Python 3",
   "language": "python",
   "name": "python3"
  },
  "language_info": {
   "codemirror_mode": {
    "name": "ipython",
    "version": 3
   },
   "file_extension": ".py",
   "mimetype": "text/x-python",
   "name": "python",
   "nbconvert_exporter": "python",
   "pygments_lexer": "ipython3",
   "version": "3.6.4"
  }
 },
 "nbformat": 4,
 "nbformat_minor": 2
}
