{
 "cells": [
  {
   "cell_type": "markdown",
   "metadata": {},
   "source": [
    "Ejercicio 9 enero 2017\n",
    "\n",
    "Un misil guiado por navegación proporcional de constante reducida a=5,5 es lanzado con una velocidad constante de 950 m/s y δM0= 15º a un objetivo que se aleja del punto de lanzamiento con un movimiento uniforme de velocidad de 700 m/s y 100 m/s2 de aceleración normal constante. Si la capacidad de maniobra del misil está limitada a 150 m/s2 y el ángulo de presentación del combate δTo es de 30º, sabiendo que δT = 1º en el impacto, obténgase el valor mínimo de la distancia de lanzamiento para que exista impacto"
   ]
  },
  {
   "cell_type": "code",
   "execution_count": 1,
   "metadata": {},
   "outputs": [],
   "source": [
    "#primero importamos\n",
    "import numpy as np\n",
    "#importar numpy para calculo numérico\n",
    "from sympy import *\n",
    "#importar sympy para calculo simbolico\n",
    "init_printing(use_latex=True)\n",
    "from scipy import optimize\n",
    "import math\n",
    "import matplotlib.pyplot as plt"
   ]
  },
  {
   "cell_type": "code",
   "execution_count": 2,
   "metadata": {},
   "outputs": [],
   "source": [
    "# δt0 ángulo de presentación de combate, el inicial del target respecto\n",
    "#a la línea que une target y misil en el inicio, rad\n",
    "δt0=rad(30)\n",
    "δm0=rad(15)\n",
    "\n",
    "Vm=950\n",
    "Γmmax=150\n",
    "Vt=700\n",
    "Γt=100\n",
    "a=5.5\n",
    "#ángulo de presentación final\n",
    "δtf=rad(1)\n",
    "\n",
    "g=9.81"
   ]
  },
  {
   "cell_type": "code",
   "execution_count": 7,
   "metadata": {},
   "outputs": [
    {
     "name": "stdout",
     "output_type": "stream",
     "text": [
      "Constante reducida de la navegación proporcional mínima para impacto amin= 5.99916465648533\n",
      "El impacto NO es posible\n"
     ]
    }
   ],
   "source": [
    "#en el impacto δt=δtf\n",
    "\n",
    "#δmf, ángulo del misil al final\n",
    "δmf=asin((Vt/Vm)*sin(δtf))\n",
    "\n",
    "# δmc ángulo de colisión ideal rad\n",
    "δmc=asin((Vt/Vm)*sin(δt0))\n",
    "\n",
    "# ∆δm Error de puntería, rad\n",
    "Aδm=abs(δm0-δmc)\n",
    "\n",
    "tf=a*Vm*Aδm/Γmmax\n",
    "\n",
    "#en el impacto t=tf\n",
    "a=symbols('a')\n",
    "f1=Eq(a/(a-2),(Γmmax*cos(δmf))/(Γt*cos(δtf)))\n",
    "a=solve(f1,a)\n",
    "a=a[0]\n",
    "# amin constante reducida de la navegación proporcional min para impacto, a>1 condición necesaria para impacto, adim\n",
    "print(\"Constante reducida de la navegación proporcional mínima para impacto amin=\",a)\n",
    "print(\"El impacto NO es posible\")\n",
    "\n",
    "# Va velocidad de aproximación, m/s\n",
    "#Va=Vm*cos(δm0)-Vt*cos(δt0)\n",
    "\n",
    "#r0=Va*tf\n",
    "\n",
    "#print(\"distancia mínima para impacto posible r0=\",r0.evalf(),\"m\")"
   ]
  },
  {
   "cell_type": "code",
   "execution_count": null,
   "metadata": {},
   "outputs": [],
   "source": []
  },
  {
   "cell_type": "code",
   "execution_count": null,
   "metadata": {},
   "outputs": [],
   "source": []
  }
 ],
 "metadata": {
  "kernelspec": {
   "display_name": "Python 3",
   "language": "python",
   "name": "python3"
  },
  "language_info": {
   "codemirror_mode": {
    "name": "ipython",
    "version": 3
   },
   "file_extension": ".py",
   "mimetype": "text/x-python",
   "name": "python",
   "nbconvert_exporter": "python",
   "pygments_lexer": "ipython3",
   "version": "3.6.4"
  }
 },
 "nbformat": 4,
 "nbformat_minor": 2
}
