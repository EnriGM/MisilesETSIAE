{
 "cells": [
  {
   "cell_type": "markdown",
   "metadata": {},
   "source": [
    "Ejercicio 1 de clase tema 16\n",
    "\n",
    "Para interceptar un avión que se desplaza en vuelo rectilíneo y uniforme a 450m/s, se lanza desde 1.500m de distancia, un misil guiado mediante navegación proporcional de a = 3,5 y velocidad constante de 850m/s. Si el ángulo de presentación del combate δTo es de 30º, determínese la capacidad de maniobra requerida para garantizar el impacto, si el ángulo de puntería δmo fuera de 20º."
   ]
  },
  {
   "cell_type": "code",
   "execution_count": 1,
   "metadata": {},
   "outputs": [],
   "source": [
    "#primero importamos\n",
    "import numpy as np\n",
    "#importar numpy para calculo numérico\n",
    "from sympy import *\n",
    "#importar sympy para calculo simbolico\n",
    "init_printing(use_latex=True)\n",
    "from scipy import optimize\n",
    "import math\n",
    "import matplotlib.pyplot as plt"
   ]
  },
  {
   "cell_type": "code",
   "execution_count": 2,
   "metadata": {},
   "outputs": [],
   "source": [
    "# δt0 ángulo de presentación de combate, el inicial del target respecto\n",
    "#a la línea que une target y misil en el inicio, rad\n",
    "δt0=rad(30)\n",
    "\n",
    "# δmo ángulo de puntería, ángulo inicial del misil respecto\n",
    "#a la línea que une target y misil en el inicio, rad\n",
    "δm0=rad(20)\n",
    "\n",
    "# a constante reducida de la navegación proporcional, a>1 condición necesaria para impacto, adim\n",
    "a=3.5\n",
    "\n",
    "r0=1500\n",
    "Vm=850\n",
    "Vt=450\n",
    "\n",
    "g=9.81"
   ]
  },
  {
   "cell_type": "code",
   "execution_count": 6,
   "metadata": {},
   "outputs": [],
   "source": [
    "# δmc ángulo de colisión ideal rad\n",
    "δmc=asin((Vt/Vm)*sin(δt0))\n",
    "\n",
    "# ∆δm Error de puntería, rad\n",
    "Aδm=δm0-δmc\n",
    "\n",
    "# Va velocidad de aproximación, m/s\n",
    "Va=Vm*cos(δm0)-Vt*cos(δt0)\n",
    "\n",
    "# tf tiempo de vuelo\n",
    "t0=0\n",
    "tf=r0/Va+t0\n",
    "\n",
    "# Γmn Aceleración máxima de maniobra, m/s**2\n",
    "Γmn=(a*Vm/tf)*Aδm*(1-t0/tf)**(a-2)\n",
    "\n",
    "n=Γmn/g"
   ]
  },
  {
   "cell_type": "code",
   "execution_count": 5,
   "metadata": {},
   "outputs": [
    {
     "data": {
      "image/png": "[encoded data removed]",
      "text/latex": [
       "$$65.8456614518244$$"
      ],
      "text/plain": [
       "65.8456614518244"
      ]
     },
     "execution_count": 5,
     "metadata": {},
     "output_type": "execute_result"
    }
   ],
   "source": [
    "Γmn.evalf()"
   ]
  },
  {
   "cell_type": "code",
   "execution_count": 8,
   "metadata": {},
   "outputs": [
    {
     "data": {
      "image/png": "[encoded data removed]",
      "text/latex": [
       "$$6.71209596858556$$"
      ],
      "text/plain": [
       "6.71209596858556"
      ]
     },
     "execution_count": 8,
     "metadata": {},
     "output_type": "execute_result"
    }
   ],
   "source": [
    "n.evalf()"
   ]
  },
  {
   "cell_type": "code",
   "execution_count": null,
   "metadata": {},
   "outputs": [],
   "source": []
  }
 ],
 "metadata": {
  "kernelspec": {
   "display_name": "Python 3",
   "language": "python",
   "name": "python3"
  },
  "language_info": {
   "codemirror_mode": {
    "name": "ipython",
    "version": 3
   },
   "file_extension": ".py",
   "mimetype": "text/x-python",
   "name": "python",
   "nbconvert_exporter": "python",
   "pygments_lexer": "ipython3",
   "version": "3.6.4"
  }
 },
 "nbformat": 4,
 "nbformat_minor": 2
}
