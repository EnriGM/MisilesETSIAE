{
 "cells": [
  {
   "cell_type": "markdown",
   "metadata": {},
   "source": [
    "Ejercicio 8 segundo parcial 2015\n",
    "\n",
    "Un misil guiado por navegación proporcional de a=4, es lanzado con una velocidad constante de 900 m/s, a un objetivo que se aleja del punto de lanzamiento con un movimiento uniforme de 650 m/s y con 85 m/s2 de aceleración de maniobra normal constante. Si la capacidad de maniobra del misil está limitada a 170 m/s2 y el ángulo de presentación del combate δTo es de 40º, suponiendo que δt=1 en el impacto. Obténgase el valor mínimo de la distnacia de lanzamiento para que exista impacto δm0=15º"
   ]
  },
  {
   "cell_type": "code",
   "execution_count": 1,
   "metadata": {},
   "outputs": [],
   "source": [
    "#primero importamos\n",
    "import numpy as np\n",
    "#importar numpy para calculo numérico\n",
    "from sympy import *\n",
    "#importar sympy para calculo simbolico\n",
    "init_printing(use_latex=True)\n",
    "from scipy import optimize\n",
    "import math\n",
    "import matplotlib.pyplot as plt"
   ]
  },
  {
   "cell_type": "code",
   "execution_count": 2,
   "metadata": {},
   "outputs": [],
   "source": [
    "# δt0 ángulo de presentación de combate, el inicial del target respecto\n",
    "#a la línea que une target y misil en el inicio, rad\n",
    "δt0=rad(40)\n",
    "δm0=rad(15)\n",
    "\n",
    "a=4\n",
    "\n",
    "Vm=900\n",
    "Γmmax=170\n",
    "Vt=650\n",
    "Γt=85\n",
    "\n",
    "#ángulo de presentación final\n",
    "δtf=rad(1)\n",
    "\n",
    "\n",
    "g=9.81"
   ]
  },
  {
   "cell_type": "code",
   "execution_count": 29,
   "metadata": {},
   "outputs": [
    {
     "name": "stdout",
     "output_type": "stream",
     "text": [
      "constante reducida de la navegación proporcional a= 4.00000000000000\n",
      "Aceleración máxima de maniobra Γm= 169.987612003387 m/s^2\n",
      "menor que la máxima posible\n",
      "por lo que el impacto es posible\n",
      "Aδm= 12.6607558715627 º\n",
      "distancia mínima r0= 1737.95118619544 m\n"
     ]
    }
   ],
   "source": [
    "#δmf, ángulo del puntería al final\n",
    "δmf=asin((Vt/Vm)*sin(δtf))\n",
    "\n",
    "#en el impacto t=tf\n",
    "a=symbols('a')\n",
    "f1=Eq(a/(a-2),(Γmmax*cos(δmf))/(Γt*cos(δtf)))\n",
    "a=solve(f1,a)\n",
    "a=a[0]\n",
    "# a constante reducida de la navegación proporcional, a>1 condición necesaria para impacto, adim\n",
    "print(\"constante reducida de la navegación proporcional a=\",a)\n",
    "\n",
    "\n",
    "\n",
    "#todo esto es redundante\n",
    "#a=4\n",
    "#Γmmax=(a/(a-2))*((Γt*cos(δtf))/cos(δmf))\n",
    "#print(\"Aceleración máxima de maniobra Γm=\",Γmmax.evalf(),\"m/s^2\")\n",
    "#print(\"menor que la máxima posible\")\n",
    "#print(\"por lo que el impacto es posible\")\n",
    "\n",
    "# δmc ángulo de colisión ideal rad\n",
    "δmc=asin((Vt/Vm)*sin(δt0))\n",
    "\n",
    "\n",
    "# ∆δm Error de puntería, rad\n",
    "Aδm=abs(δm0-δmc)\n",
    "print(\"Aδm=\",deg(Aδm).evalf(),\"º\")\n",
    "\n",
    "\n",
    "# Va velocidad de aproximación, m/s\n",
    "Va=Vm*cos(δm0)-Vt*cos(δt0)\n",
    "\n",
    "t0=0\n",
    "Γmmax=170\n",
    "\n",
    "# Γmn Aceleración máxima de maniobra, m/s**2\n",
    "tf=(a*Vm/Γmmax)*Aδm\n",
    "\n",
    "# tf tiempo de vuelo\n",
    "r0=(tf-t0)*Va\n",
    "print(\"distancia mínima r0=\",r0.evalf(),\"m\")\n",
    "\n"
   ]
  },
  {
   "cell_type": "code",
   "execution_count": 4,
   "metadata": {},
   "outputs": [
    {
     "name": "stdout",
     "output_type": "stream",
     "text": [
      "constante reducida de la navegación proporcional a= 3.99970853896567\n"
     ]
    }
   ],
   "source": [
    "#δmf, ángulo del puntería al final\n",
    "δmf=asin((Vt/Vm)*sin(δtf))\n",
    "\n",
    "#en el impacto t=tf\n",
    "a=symbols('a')\n",
    "f1=Eq(a/(a-2),(Γmmax*cos(δmf))/(Γt*cos(δtf)))\n",
    "a=solve(f1,a)\n",
    "a=a[0]\n",
    "# a constante reducida de la navegación proporcional, a>1 condición necesaria para impacto, adim\n",
    "print(\"constante reducida de la navegación proporcional a=\",a)"
   ]
  },
  {
   "cell_type": "code",
   "execution_count": null,
   "metadata": {},
   "outputs": [],
   "source": []
  }
 ],
 "metadata": {
  "kernelspec": {
   "display_name": "Python 3",
   "language": "python",
   "name": "python3"
  },
  "language_info": {
   "codemirror_mode": {
    "name": "ipython",
    "version": 3
   },
   "file_extension": ".py",
   "mimetype": "text/x-python",
   "name": "python",
   "nbconvert_exporter": "python",
   "pygments_lexer": "ipython3",
   "version": "3.6.4"
  }
 },
 "nbformat": 4,
 "nbformat_minor": 2
}
