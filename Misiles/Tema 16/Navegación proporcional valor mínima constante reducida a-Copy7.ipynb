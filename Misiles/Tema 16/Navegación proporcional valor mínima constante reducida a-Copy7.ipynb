{
 "cells": [
  {
   "cell_type": "markdown",
   "metadata": {},
   "source": [
    "Ejercicio 5 diciembre 2017\n",
    "\n",
    "Un misil guiado por navegación proporcional es lanzado con una velocidad constante de 890 m/s y δM0=15o, desde un distancia de 1100 m, a un objetivo que se aleja del punto de lanzamiento con un movimiento uniforme de 630 m/s y con 80 m/s2 de aceleración normal constante. Si la capacidad de maniobra del misil está limitada a 170 m/s2 y el ángulo de presentación del combate δT0 es de 40o, determínese el valor mínimo de la constante reducida “a” de la ley de guiado para que exista impacto, sabiendo que δT= 10o en dicho impacto."
   ]
  },
  {
   "cell_type": "code",
   "execution_count": 1,
   "metadata": {},
   "outputs": [],
   "source": [
    "#primero importamos\n",
    "import numpy as np\n",
    "#importar numpy para calculo numérico\n",
    "from sympy import *\n",
    "#importar sympy para calculo simbolico\n",
    "init_printing(use_latex=True)\n",
    "from scipy import optimize\n",
    "import math\n",
    "import matplotlib.pyplot as plt"
   ]
  },
  {
   "cell_type": "code",
   "execution_count": 2,
   "metadata": {},
   "outputs": [],
   "source": [
    "# δt0 ángulo de presentación de combate, el inicial del target respecto\n",
    "#a la línea que une target y misil en el inicio, rad\n",
    "δt0=rad(40)\n",
    "δm0=rad(15)\n",
    "r0=1100\n",
    "Vm=890\n",
    "Γmmax=170\n",
    "Vt=630\n",
    "Γt=80\n",
    "\n",
    "#ángulo de presentación final\n",
    "δtf=rad(10)\n",
    "\n",
    "g=9.81"
   ]
  },
  {
   "cell_type": "code",
   "execution_count": 3,
   "metadata": {},
   "outputs": [
    {
     "name": "stdout",
     "output_type": "stream",
     "text": [
      "constante reducida de la navegación proporcional mínima para impacto amin= 3.75220596423735\n",
      "constante reducida de la navegación proporcional máxima posible amax= 2.64615815059575\n",
      "NO existe impacto\n"
     ]
    }
   ],
   "source": [
    "#en el impacto δt=δtf\n",
    "\n",
    "#δmf, ángulo del misil al final\n",
    "δmf=asin((Vt/Vm)*sin(δtf))\n",
    "\n",
    "#en el impacto t=tf\n",
    "a=symbols('a')\n",
    "f1=Eq(a/(a-2),(Γmmax*cos(δmf))/(Γt*cos(δtf)))\n",
    "a=solve(f1,a)\n",
    "a=a[0]\n",
    "# amin constante reducida de la navegación proporcional min para impacto, a>1 condición necesaria para impacto, adim\n",
    "print(\"constante reducida de la navegación proporcional mínima para impacto amin=\",a)\n",
    "\n",
    "# δmc ángulo de colisión ideal rad\n",
    "δmc=asin((Vt/Vm)*sin(δt0))\n",
    "# Va velocidad de aproximación, m/s\n",
    "Va=Vm*cos(δm0)-Vt*cos(δt0)\n",
    "\n",
    "# tf tiempo de vuelo\n",
    "t0=0\n",
    "tf=r0/Va+t0\n",
    "\n",
    "# ∆δm Error de puntería, rad\n",
    "Aδm=δm0-δmc\n",
    "\n",
    "amax=abs(Γmmax*tf/(Vm*Aδm))\n",
    "\n",
    "# amax constante reducida de la navegación proporcional máxima posible\n",
    "print(\"constante reducida de la navegación proporcional máxima posible amax=\",amax.evalf())\n",
    "\n",
    "print(\"NO existe impacto\")"
   ]
  },
  {
   "cell_type": "code",
   "execution_count": null,
   "metadata": {},
   "outputs": [],
   "source": [
    "\n"
   ]
  },
  {
   "cell_type": "code",
   "execution_count": null,
   "metadata": {},
   "outputs": [],
   "source": []
  }
 ],
 "metadata": {
  "kernelspec": {
   "display_name": "Python 3",
   "language": "python",
   "name": "python3"
  },
  "language_info": {
   "codemirror_mode": {
    "name": "ipython",
    "version": 3
   },
   "file_extension": ".py",
   "mimetype": "text/x-python",
   "name": "python",
   "nbconvert_exporter": "python",
   "pygments_lexer": "ipython3",
   "version": "3.6.4"
  }
 },
 "nbformat": 4,
 "nbformat_minor": 2
}
