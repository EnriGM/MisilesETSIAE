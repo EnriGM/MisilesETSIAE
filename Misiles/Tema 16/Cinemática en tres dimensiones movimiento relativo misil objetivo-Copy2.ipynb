{
 "cells": [
  {
   "cell_type": "markdown",
   "metadata": {},
   "source": [
    "Ejercicio 1 diciembre 2017\n",
    "\n",
    "Un misil se lanza con un vector de velocidad VM= [100 350 625] para interceptar un objetivo que se desplaza rectilíneamente con un vector velocidad constante de valor VT= [125 225 0], respecto un sistema cartesiano OXYZ inercial (componentes de ambos vectores en m/s). Calcúlese en el momento de lanzamiento el vector velocidad de rotación de la visual ωLOS= [ωX ωY ωZ] y la velocidad de aproximación del misil al objetivo en sentido de la visual del misil al objetivo. La visual del misil al objetivo MT está definida en el lanzamiento por el vector r= rT – rM = [2000 0 0] (componentes en metros) respecto al mismo sistema OXYZ."
   ]
  },
  {
   "cell_type": "code",
   "execution_count": 2,
   "metadata": {},
   "outputs": [],
   "source": [
    "#primero importamos\n",
    "import numpy as np\n",
    "#importar numpy para calculo numérico\n",
    "from sympy import *\n",
    "#importar sympy para calculo simbolico\n",
    "init_printing(use_latex=True)\n",
    "from scipy import optimize\n",
    "import math"
   ]
  },
  {
   "cell_type": "code",
   "execution_count": 3,
   "metadata": {},
   "outputs": [
    {
     "name": "stdout",
     "output_type": "stream",
     "text": [
      "wlos= [ 0.      0.3125 -0.0625] rad/s\n",
      "Va= -25.0 m/s\n"
     ]
    }
   ],
   "source": [
    "Vm=np.array([100,350,625])\n",
    "Vt=np.array([125,225,0])\n",
    "rlos=np.array([2000,0,0])\n",
    "\n",
    "wlos=np.cross(rlos,(Vt-Vm))/(rlos@rlos) #@ es el producto escalar\n",
    "print(\"wlos=\",wlos,\"rad/s\")\n",
    "Va=-(Vt-Vm)@(rlos/np.linalg.norm(rlos))\n",
    "print(\"Va=\",Va,\"m/s\")"
   ]
  },
  {
   "cell_type": "code",
   "execution_count": null,
   "metadata": {},
   "outputs": [],
   "source": []
  }
 ],
 "metadata": {
  "kernelspec": {
   "display_name": "Python 3",
   "language": "python",
   "name": "python3"
  },
  "language_info": {
   "codemirror_mode": {
    "name": "ipython",
    "version": 3
   },
   "file_extension": ".py",
   "mimetype": "text/x-python",
   "name": "python",
   "nbconvert_exporter": "python",
   "pygments_lexer": "ipython3",
   "version": "3.6.4"
  }
 },
 "nbformat": 4,
 "nbformat_minor": 2
}
