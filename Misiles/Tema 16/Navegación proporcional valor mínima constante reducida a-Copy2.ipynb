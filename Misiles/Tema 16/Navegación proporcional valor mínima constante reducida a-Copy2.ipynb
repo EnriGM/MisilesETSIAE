{
 "cells": [
  {
   "cell_type": "markdown",
   "metadata": {},
   "source": [
    "Ejercicio 5 2º parcial 2013\n",
    "\n",
    "(apartado 3) Un misil guiado por PP es lanzado con una velocidad de 950m/s desde 2000 metros del objetivo de interceptación, el cual describe un movimiento rectilíneo y uniforme con velocidad de 500m/s. Si la capacidad de maniobra del misil está limitada a 170 m/s y el ángulo de presentación de combate δT, es de 40°.\n",
    "\n",
    "\n",
    "En el caso de combate y misil definidos antes(apartado3),se modifica la ley de guiado a navegación proporcional, para batir al objetivo cuando este maniobra con 85 m/s2 de aceleración normal constante. Determínese el valor mínimo de la constante de reducción “a” de la ley de guiado para que exista impacto, suponiendo que δTi y δMi en instante próximo al impacto final son aproximadamente nulos (cos δTi =cos δMi =1).\n"
   ]
  },
  {
   "cell_type": "code",
   "execution_count": 1,
   "metadata": {},
   "outputs": [],
   "source": [
    "#primero importamos\n",
    "import numpy as np\n",
    "#importar numpy para calculo numérico\n",
    "from sympy import *\n",
    "#importar sympy para calculo simbolico\n",
    "init_printing(use_latex=True)\n",
    "from scipy import optimize\n",
    "import math\n",
    "import matplotlib.pyplot as plt"
   ]
  },
  {
   "cell_type": "code",
   "execution_count": 2,
   "metadata": {},
   "outputs": [],
   "source": [
    "# δt0 ángulo de presentación de combate, el inicial del target respecto\n",
    "#a la línea que une target y misil en el inicio, rad\n",
    "δt0=rad(40)\n",
    "\n",
    "r0=2000\n",
    "Vm=950\n",
    "Γmmax=170\n",
    "Vt=500\n",
    "Γt=85\n",
    "\n",
    "#ángulo de presentación final\n",
    "δtf=0\n",
    "# δmf ángulo de puntería final\n",
    "δmf=0\n",
    "\n",
    "g=9.81"
   ]
  },
  {
   "cell_type": "code",
   "execution_count": 3,
   "metadata": {},
   "outputs": [
    {
     "name": "stdout",
     "output_type": "stream",
     "text": [
      "constante reducida de la navegación proporcional a= 4\n"
     ]
    }
   ],
   "source": [
    "#en el impacto δt=δtf\n",
    "\n",
    "#en el impacto t=tf\n",
    "a=symbols('a')\n",
    "f1=Eq(a/(a-2),(Γmmax*cos(δmf))/(Γt*cos(δtf)))\n",
    "a=solve(f1,a)\n",
    "a=a[0]\n",
    "# a constante reducida de la navegación proporcional, a>1 condición necesaria para impacto, adim\n",
    "print(\"constante reducida de la navegación proporcional a=\",a)"
   ]
  },
  {
   "cell_type": "code",
   "execution_count": null,
   "metadata": {},
   "outputs": [],
   "source": []
  },
  {
   "cell_type": "code",
   "execution_count": null,
   "metadata": {},
   "outputs": [],
   "source": []
  }
 ],
 "metadata": {
  "kernelspec": {
   "display_name": "Python 3",
   "language": "python",
   "name": "python3"
  },
  "language_info": {
   "codemirror_mode": {
    "name": "ipython",
    "version": 3
   },
   "file_extension": ".py",
   "mimetype": "text/x-python",
   "name": "python",
   "nbconvert_exporter": "python",
   "pygments_lexer": "ipython3",
   "version": "3.6.4"
  }
 },
 "nbformat": 4,
 "nbformat_minor": 2
}
