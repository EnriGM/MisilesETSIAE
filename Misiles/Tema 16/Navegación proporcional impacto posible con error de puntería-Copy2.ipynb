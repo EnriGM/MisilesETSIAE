{
 "cells": [
  {
   "cell_type": "markdown",
   "metadata": {},
   "source": [
    "Ejercicio 9 segundo parcial 2015\n",
    "\n",
    "Un misil guiado por navegación proporcional de a=4 es lanzado con una velocidad constante de 900m/s desde una distancia de 1000m a un objetivo que se aleja con velocidad 650m/s y aceleración 85 m/s^2. Si la capacidad de maniobra del misil está limitada a 17m/s^2 y el ángulo de presentación incial δt0=40º y δtf=1º en el impacto. Demuestrese si es posible el impacto cuando se dispare el misil con un error de puntería de -10°<ΔδM<10°."
   ]
  },
  {
   "cell_type": "code",
   "execution_count": 1,
   "metadata": {},
   "outputs": [],
   "source": [
    "#primero importamos\n",
    "import numpy as np\n",
    "#importar numpy para calculo numérico\n",
    "from sympy import *\n",
    "#importar sympy para calculo simbolico\n",
    "init_printing(use_latex=True)\n",
    "from scipy import optimize\n",
    "import math\n",
    "import matplotlib.pyplot as plt"
   ]
  },
  {
   "cell_type": "code",
   "execution_count": 3,
   "metadata": {},
   "outputs": [],
   "source": [
    "# δt0 ángulo de presentación de combate, el inicial del target respecto\n",
    "#a la línea que une target y misil en el inicio, rad\n",
    "δt0=rad(40)\n",
    "\n",
    "a=4\n",
    "r0=1000\n",
    "Vm=900\n",
    "Γmmax=170\n",
    "Vt=650\n",
    "Γt=85\n",
    "\n",
    "#ángulo de presentación final\n",
    "δtf=1\n",
    "# δmf ángulo de puntería final\n",
    "δmf=0\n",
    "\n",
    "g=9.81"
   ]
  },
  {
   "cell_type": "code",
   "execution_count": 4,
   "metadata": {},
   "outputs": [
    {
     "name": "stdout",
     "output_type": "stream",
     "text": [
      "δmc= 27.6607558715627 º\n",
      "\n",
      "δm0= 37.6607558715627 º\n",
      "Aceleración máxima de maniobra con ∆δmc=10º Γm= 134.805173747385 m/s^2\n",
      "menor que la máxima posible\n",
      "por lo que el impacto es posible\n",
      "\n",
      "δm0= 17.6607558715627 º\n",
      "Aceleración máxima de maniobra con ∆δmc=-10º Γm= -225.977061559787 m/s^2\n",
      "mayor que la máxima posible\n",
      "por lo que el impacto NO es posible\n"
     ]
    }
   ],
   "source": [
    "#δmf, ángulo del misil al final\n",
    "δmf=asin((Vt/Vm)*sin(δtf))\n",
    "\n",
    "# δmc ángulo de colisión ideal rad\n",
    "δmc=asin((Vt/Vm)*sin(δt0))\n",
    "print(\"δmc=\",deg(δmc).evalf(),\"º\")\n",
    "print()\n",
    "\n",
    "# ∆δm Error de puntería, rad\n",
    "Aδm=rad(10)\n",
    "\n",
    "δm0=δmc+Aδm\n",
    "print(\"δm0=\",deg(δm0).evalf(),\"º\")\n",
    "\n",
    "# Va velocidad de aproximación, m/s\n",
    "Va=Vm*cos(δm0)-Vt*cos(δt0)\n",
    "\n",
    "# tf tiempo de vuelo\n",
    "t0=0\n",
    "tf=r0/Va+t0\n",
    "\n",
    "# Γmn Aceleración máxima de maniobra, m/s**2\n",
    "Γmn=(a*Vm/tf)*Aδm*(1-t0/tf)**(a-2)\n",
    "print(\"Aceleración máxima de maniobra con ∆δmc=10º Γm=\",Γmn.evalf(),\"m/s^2\")\n",
    "print(\"menor que la máxima posible\")\n",
    "print(\"por lo que el impacto es posible\")\n",
    "print()\n",
    "\n",
    "# ∆δm Error de puntería, rad\n",
    "Aδm=rad(-10)\n",
    "\n",
    "δm0=δmc+Aδm\n",
    "print(\"δm0=\",deg(δm0).evalf(),\"º\")\n",
    "\n",
    "# Va velocidad de aproximación, m/s\n",
    "Va=Vm*cos(δm0)-Vt*cos(δt0)\n",
    "\n",
    "# tf tiempo de vuelo\n",
    "t0=0\n",
    "tf=r0/Va+t0\n",
    "\n",
    "# Γmn Aceleración máxima de maniobra, m/s**2\n",
    "Γmn=(a*Vm/tf)*Aδm*(1-t0/tf)**(a-2)\n",
    "print(\"Aceleración máxima de maniobra con ∆δmc=-10º Γm=\",Γmn.evalf(),\"m/s^2\")\n",
    "print(\"mayor que la máxima posible\")\n",
    "print(\"por lo que el impacto NO es posible\")"
   ]
  },
  {
   "cell_type": "code",
   "execution_count": null,
   "metadata": {},
   "outputs": [],
   "source": []
  }
 ],
 "metadata": {
  "kernelspec": {
   "display_name": "Python 3",
   "language": "python",
   "name": "python3"
  },
  "language_info": {
   "codemirror_mode": {
    "name": "ipython",
    "version": 3
   },
   "file_extension": ".py",
   "mimetype": "text/x-python",
   "name": "python",
   "nbconvert_exporter": "python",
   "pygments_lexer": "ipython3",
   "version": "3.6.4"
  }
 },
 "nbformat": 4,
 "nbformat_minor": 2
}
